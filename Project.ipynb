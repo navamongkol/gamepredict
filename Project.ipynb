{
 "cells": [
  {
   "cell_type": "code",
   "execution_count": 133,
   "metadata": {},
   "outputs": [],
   "source": [
    "import pandas as pd # for data manipulation\n",
    "import numpy as np # for data manipulation\n",
    "\n",
    "from sklearn.model_selection import train_test_split # for splitting the data into train and test samples\n",
    "from sklearn.metrics import classification_report # for model evaluation metrics\n",
    "from sklearn.preprocessing import OrdinalEncoder # for encoding categorical features from strings to number arrays\n",
    "\n",
    "# Differnt types of Naive Bayes Classifiers\n",
    "from sklearn.naive_bayes import GaussianNB\n",
    "from sklearn.naive_bayes import CategoricalNB\n",
    "from sklearn.naive_bayes import BernoulliNB"
   ]
  },
  {
   "cell_type": "code",
   "execution_count": 134,
   "metadata": {},
   "outputs": [],
   "source": [
    "df = pd.read_csv('/Users/navamongkoltongta/OneDrive - Assumption University/Year2.2/Data Science/Project/vgsales.csv')"
   ]
  },
  {
   "cell_type": "code",
   "execution_count": 135,
   "metadata": {},
   "outputs": [],
   "source": [
    "df.drop(columns=['NA_Sales','EU_Sales','JP_Sales','Other_Sales'], inplace=True)"
   ]
  },
  {
   "cell_type": "code",
   "execution_count": 136,
   "metadata": {},
   "outputs": [
    {
     "output_type": "execute_result",
     "data": {
      "text/plain": [
       "Rank            16598\n",
       "Name            16598\n",
       "Platform        16598\n",
       "Year            16327\n",
       "Genre           16598\n",
       "Publisher       16540\n",
       "Global_Sales    16598\n",
       "dtype: int64"
      ]
     },
     "metadata": {},
     "execution_count": 136
    }
   ],
   "source": [
    "df.count()"
   ]
  },
  {
   "cell_type": "code",
   "execution_count": 137,
   "metadata": {},
   "outputs": [],
   "source": [
    "df.dropna(how='any',subset=['Year','Publisher'],inplace=True)"
   ]
  },
  {
   "cell_type": "code",
   "execution_count": 138,
   "metadata": {},
   "outputs": [
    {
     "output_type": "execute_result",
     "data": {
      "text/plain": [
       "Empty DataFrame\n",
       "Columns: [Rank, Name, Platform, Year, Genre, Publisher, Global_Sales]\n",
       "Index: []"
      ],
      "text/html": "<div>\n<style scoped>\n    .dataframe tbody tr th:only-of-type {\n        vertical-align: middle;\n    }\n\n    .dataframe tbody tr th {\n        vertical-align: top;\n    }\n\n    .dataframe thead th {\n        text-align: right;\n    }\n</style>\n<table border=\"1\" class=\"dataframe\">\n  <thead>\n    <tr style=\"text-align: right;\">\n      <th></th>\n      <th>Rank</th>\n      <th>Name</th>\n      <th>Platform</th>\n      <th>Year</th>\n      <th>Genre</th>\n      <th>Publisher</th>\n      <th>Global_Sales</th>\n    </tr>\n  </thead>\n  <tbody>\n  </tbody>\n</table>\n</div>"
     },
     "metadata": {},
     "execution_count": 138
    }
   ],
   "source": [
    "df[df['Publisher'].isnull()]"
   ]
  },
  {
   "cell_type": "code",
   "execution_count": 139,
   "metadata": {},
   "outputs": [
    {
     "output_type": "execute_result",
     "data": {
      "text/plain": [
       "Rank            0\n",
       "Name            0\n",
       "Platform        0\n",
       "Year            0\n",
       "Genre           0\n",
       "Publisher       0\n",
       "Global_Sales    0\n",
       "dtype: int64"
      ]
     },
     "metadata": {},
     "execution_count": 139
    }
   ],
   "source": [
    "df.isnull().sum()"
   ]
  },
  {
   "cell_type": "code",
   "execution_count": 144,
   "metadata": {},
   "outputs": [
    {
     "output_type": "execute_result",
     "data": {
      "text/plain": [
       "Rank            16291\n",
       "Name            16291\n",
       "Platform        16291\n",
       "Year            16291\n",
       "Genre           16291\n",
       "Publisher       16291\n",
       "Global_Sales    16291\n",
       "Mean_global     16291\n",
       "dtype: int64"
      ]
     },
     "metadata": {},
     "execution_count": 144
    }
   ],
   "source": [
    "df.count()"
   ]
  },
  {
   "cell_type": "code",
   "execution_count": 140,
   "metadata": {},
   "outputs": [
    {
     "output_type": "execute_result",
     "data": {
      "text/plain": [
       "               Rank          Year  Global_Sales\n",
       "count  16291.000000  16291.000000  16291.000000\n",
       "mean    8290.190228   2006.405561      0.540910\n",
       "std     4792.654450      5.832412      1.567345\n",
       "min        1.000000   1980.000000      0.010000\n",
       "25%     4132.500000   2003.000000      0.060000\n",
       "50%     8292.000000   2007.000000      0.170000\n",
       "75%    12439.500000   2010.000000      0.480000\n",
       "max    16600.000000   2020.000000     82.740000"
      ],
      "text/html": "<div>\n<style scoped>\n    .dataframe tbody tr th:only-of-type {\n        vertical-align: middle;\n    }\n\n    .dataframe tbody tr th {\n        vertical-align: top;\n    }\n\n    .dataframe thead th {\n        text-align: right;\n    }\n</style>\n<table border=\"1\" class=\"dataframe\">\n  <thead>\n    <tr style=\"text-align: right;\">\n      <th></th>\n      <th>Rank</th>\n      <th>Year</th>\n      <th>Global_Sales</th>\n    </tr>\n  </thead>\n  <tbody>\n    <tr>\n      <th>count</th>\n      <td>16291.000000</td>\n      <td>16291.000000</td>\n      <td>16291.000000</td>\n    </tr>\n    <tr>\n      <th>mean</th>\n      <td>8290.190228</td>\n      <td>2006.405561</td>\n      <td>0.540910</td>\n    </tr>\n    <tr>\n      <th>std</th>\n      <td>4792.654450</td>\n      <td>5.832412</td>\n      <td>1.567345</td>\n    </tr>\n    <tr>\n      <th>min</th>\n      <td>1.000000</td>\n      <td>1980.000000</td>\n      <td>0.010000</td>\n    </tr>\n    <tr>\n      <th>25%</th>\n      <td>4132.500000</td>\n      <td>2003.000000</td>\n      <td>0.060000</td>\n    </tr>\n    <tr>\n      <th>50%</th>\n      <td>8292.000000</td>\n      <td>2007.000000</td>\n      <td>0.170000</td>\n    </tr>\n    <tr>\n      <th>75%</th>\n      <td>12439.500000</td>\n      <td>2010.000000</td>\n      <td>0.480000</td>\n    </tr>\n    <tr>\n      <th>max</th>\n      <td>16600.000000</td>\n      <td>2020.000000</td>\n      <td>82.740000</td>\n    </tr>\n  </tbody>\n</table>\n</div>"
     },
     "metadata": {},
     "execution_count": 140
    }
   ],
   "source": [
    "df.describe()"
   ]
  },
  {
   "cell_type": "code",
   "execution_count": 141,
   "metadata": {},
   "outputs": [],
   "source": [
    "# White wins flag (1=win vs. 0=not-win) - dependent (target) variable\n",
    "df['Mean_global']=df['Global_Sales'].apply(lambda x: 'High' if x>=0.5377441 else 'Low')"
   ]
  },
  {
   "cell_type": "code",
   "execution_count": 146,
   "metadata": {},
   "outputs": [
    {
     "output_type": "execute_result",
     "data": {
      "text/plain": [
       "      Rank                                     Name Platform    Year  \\\n",
       "3214  3216                   Metroid Prime: Trilogy      Wii  2009.0   \n",
       "3222  3224     Sonic & All-Stars Racing Transformed     X360  2012.0   \n",
       "3630  3632  ZhuZhu Pets 2: Featuring The Wild Bunch       DS  2010.0   \n",
       "977    979                           Dragon's Dogma      PS3  2012.0   \n",
       "3074  3076       Fist of the North Star: Ken's Rage      PS3  2010.0   \n",
       "\n",
       "             Genre       Publisher  Global_Sales Mean_global  \n",
       "3214       Shooter        Nintendo          0.63        High  \n",
       "3222        Racing            Sega          0.63        High  \n",
       "3630    Simulation      Activision          0.55        High  \n",
       "977   Role-Playing          Capcom          1.78        High  \n",
       "3074        Action  Ubisoft Annecy          0.66        High  "
      ],
      "text/html": "<div>\n<style scoped>\n    .dataframe tbody tr th:only-of-type {\n        vertical-align: middle;\n    }\n\n    .dataframe tbody tr th {\n        vertical-align: top;\n    }\n\n    .dataframe thead th {\n        text-align: right;\n    }\n</style>\n<table border=\"1\" class=\"dataframe\">\n  <thead>\n    <tr style=\"text-align: right;\">\n      <th></th>\n      <th>Rank</th>\n      <th>Name</th>\n      <th>Platform</th>\n      <th>Year</th>\n      <th>Genre</th>\n      <th>Publisher</th>\n      <th>Global_Sales</th>\n      <th>Mean_global</th>\n    </tr>\n  </thead>\n  <tbody>\n    <tr>\n      <th>3214</th>\n      <td>3216</td>\n      <td>Metroid Prime: Trilogy</td>\n      <td>Wii</td>\n      <td>2009.0</td>\n      <td>Shooter</td>\n      <td>Nintendo</td>\n      <td>0.63</td>\n      <td>High</td>\n    </tr>\n    <tr>\n      <th>3222</th>\n      <td>3224</td>\n      <td>Sonic &amp; All-Stars Racing Transformed</td>\n      <td>X360</td>\n      <td>2012.0</td>\n      <td>Racing</td>\n      <td>Sega</td>\n      <td>0.63</td>\n      <td>High</td>\n    </tr>\n    <tr>\n      <th>3630</th>\n      <td>3632</td>\n      <td>ZhuZhu Pets 2: Featuring The Wild Bunch</td>\n      <td>DS</td>\n      <td>2010.0</td>\n      <td>Simulation</td>\n      <td>Activision</td>\n      <td>0.55</td>\n      <td>High</td>\n    </tr>\n    <tr>\n      <th>977</th>\n      <td>979</td>\n      <td>Dragon's Dogma</td>\n      <td>PS3</td>\n      <td>2012.0</td>\n      <td>Role-Playing</td>\n      <td>Capcom</td>\n      <td>1.78</td>\n      <td>High</td>\n    </tr>\n    <tr>\n      <th>3074</th>\n      <td>3076</td>\n      <td>Fist of the North Star: Ken's Rage</td>\n      <td>PS3</td>\n      <td>2010.0</td>\n      <td>Action</td>\n      <td>Ubisoft Annecy</td>\n      <td>0.66</td>\n      <td>High</td>\n    </tr>\n  </tbody>\n</table>\n</div>"
     },
     "metadata": {},
     "execution_count": 146
    }
   ],
   "source": [
    "df.loc[df['Mean_global'] == 'High'].sample(5)"
   ]
  },
  {
   "cell_type": "code",
   "execution_count": 150,
   "metadata": {},
   "outputs": [
    {
     "output_type": "execute_result",
     "data": {
      "text/plain": [
       "16291"
      ]
     },
     "metadata": {},
     "execution_count": 150
    }
   ],
   "source": [
    "df.Genre.count()"
   ]
  },
  {
   "cell_type": "code",
   "execution_count": null,
   "metadata": {},
   "outputs": [],
   "source": []
  }
 ],
 "metadata": {
  "kernelspec": {
   "display_name": "Python 3",
   "language": "python",
   "name": "python3"
  },
  "language_info": {
   "codemirror_mode": {
    "name": "ipython",
    "version": 3
   },
   "file_extension": ".py",
   "mimetype": "text/x-python",
   "name": "python",
   "nbconvert_exporter": "python",
   "pygments_lexer": "ipython3",
   "version": "3.8.5-final"
  }
 },
 "nbformat": 4,
 "nbformat_minor": 4
}