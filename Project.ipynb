{
 "cells": [
  {
   "cell_type": "code",
   "execution_count": 546,
   "metadata": {},
   "outputs": [],
   "source": [
    "import pandas as pd # for data manipulation\n",
    "import numpy as np # for data manipulation\n",
    "\n",
    "from sklearn.model_selection import train_test_split # for splitting the data into train and test samples\n",
    "from sklearn.metrics import classification_report # for model evaluation metrics\n",
    "from sklearn.preprocessing import OrdinalEncoder # for encoding categorical features from strings to number arrays\n",
    "\n",
    "from sklearn.naive_bayes import GaussianNB\n"
   ]
  },
  {
   "cell_type": "code",
   "execution_count": 547,
   "metadata": {},
   "outputs": [],
   "source": [
    "df = pd.read_csv('/Users/navamongkoltongta/OneDrive - Assumption University/Year2.2/Data Science/Project/vgsales.csv')"
   ]
  },
  {
   "cell_type": "code",
   "execution_count": 548,
   "metadata": {},
   "outputs": [],
   "source": [
    "df.drop(columns=['NA_Sales','EU_Sales','JP_Sales','Other_Sales'], inplace=True)"
   ]
  },
  {
   "cell_type": "code",
   "execution_count": 549,
   "metadata": {},
   "outputs": [
    {
     "output_type": "execute_result",
     "data": {
      "text/plain": [
       "Rank            16598\n",
       "Name            16598\n",
       "Platform        16598\n",
       "Year            16327\n",
       "Genre           16598\n",
       "Publisher       16540\n",
       "Global_Sales    16598\n",
       "dtype: int64"
      ]
     },
     "metadata": {},
     "execution_count": 549
    }
   ],
   "source": [
    "df.count()"
   ]
  },
  {
   "cell_type": "code",
   "execution_count": 550,
   "metadata": {},
   "outputs": [],
   "source": [
    "df.dropna(how='any',subset=['Year','Publisher'],inplace=True)"
   ]
  },
  {
   "cell_type": "code",
   "execution_count": 551,
   "metadata": {},
   "outputs": [
    {
     "output_type": "execute_result",
     "data": {
      "text/plain": [
       "Empty DataFrame\n",
       "Columns: [Rank, Name, Platform, Year, Genre, Publisher, Global_Sales]\n",
       "Index: []"
      ],
      "text/html": "<div>\n<style scoped>\n    .dataframe tbody tr th:only-of-type {\n        vertical-align: middle;\n    }\n\n    .dataframe tbody tr th {\n        vertical-align: top;\n    }\n\n    .dataframe thead th {\n        text-align: right;\n    }\n</style>\n<table border=\"1\" class=\"dataframe\">\n  <thead>\n    <tr style=\"text-align: right;\">\n      <th></th>\n      <th>Rank</th>\n      <th>Name</th>\n      <th>Platform</th>\n      <th>Year</th>\n      <th>Genre</th>\n      <th>Publisher</th>\n      <th>Global_Sales</th>\n    </tr>\n  </thead>\n  <tbody>\n  </tbody>\n</table>\n</div>"
     },
     "metadata": {},
     "execution_count": 551
    }
   ],
   "source": [
    "df[df['Publisher'].isnull()]"
   ]
  },
  {
   "cell_type": "code",
   "execution_count": 552,
   "metadata": {},
   "outputs": [
    {
     "output_type": "execute_result",
     "data": {
      "text/plain": [
       "Rank            0\n",
       "Name            0\n",
       "Platform        0\n",
       "Year            0\n",
       "Genre           0\n",
       "Publisher       0\n",
       "Global_Sales    0\n",
       "dtype: int64"
      ]
     },
     "metadata": {},
     "execution_count": 552
    }
   ],
   "source": [
    "df.isnull().sum()"
   ]
  },
  {
   "cell_type": "code",
   "execution_count": 553,
   "metadata": {},
   "outputs": [
    {
     "output_type": "execute_result",
     "data": {
      "text/plain": [
       "Rank            16291\n",
       "Name            16291\n",
       "Platform        16291\n",
       "Year            16291\n",
       "Genre           16291\n",
       "Publisher       16291\n",
       "Global_Sales    16291\n",
       "dtype: int64"
      ]
     },
     "metadata": {},
     "execution_count": 553
    }
   ],
   "source": [
    "df.count()"
   ]
  },
  {
   "cell_type": "code",
   "execution_count": 554,
   "metadata": {},
   "outputs": [
    {
     "output_type": "execute_result",
     "data": {
      "text/plain": [
       "               Rank          Year  Global_Sales\n",
       "count  16291.000000  16291.000000  16291.000000\n",
       "mean    8290.190228   2006.405561      0.540910\n",
       "std     4792.654450      5.832412      1.567345\n",
       "min        1.000000   1980.000000      0.010000\n",
       "25%     4132.500000   2003.000000      0.060000\n",
       "50%     8292.000000   2007.000000      0.170000\n",
       "75%    12439.500000   2010.000000      0.480000\n",
       "max    16600.000000   2020.000000     82.740000"
      ],
      "text/html": "<div>\n<style scoped>\n    .dataframe tbody tr th:only-of-type {\n        vertical-align: middle;\n    }\n\n    .dataframe tbody tr th {\n        vertical-align: top;\n    }\n\n    .dataframe thead th {\n        text-align: right;\n    }\n</style>\n<table border=\"1\" class=\"dataframe\">\n  <thead>\n    <tr style=\"text-align: right;\">\n      <th></th>\n      <th>Rank</th>\n      <th>Year</th>\n      <th>Global_Sales</th>\n    </tr>\n  </thead>\n  <tbody>\n    <tr>\n      <th>count</th>\n      <td>16291.000000</td>\n      <td>16291.000000</td>\n      <td>16291.000000</td>\n    </tr>\n    <tr>\n      <th>mean</th>\n      <td>8290.190228</td>\n      <td>2006.405561</td>\n      <td>0.540910</td>\n    </tr>\n    <tr>\n      <th>std</th>\n      <td>4792.654450</td>\n      <td>5.832412</td>\n      <td>1.567345</td>\n    </tr>\n    <tr>\n      <th>min</th>\n      <td>1.000000</td>\n      <td>1980.000000</td>\n      <td>0.010000</td>\n    </tr>\n    <tr>\n      <th>25%</th>\n      <td>4132.500000</td>\n      <td>2003.000000</td>\n      <td>0.060000</td>\n    </tr>\n    <tr>\n      <th>50%</th>\n      <td>8292.000000</td>\n      <td>2007.000000</td>\n      <td>0.170000</td>\n    </tr>\n    <tr>\n      <th>75%</th>\n      <td>12439.500000</td>\n      <td>2010.000000</td>\n      <td>0.480000</td>\n    </tr>\n    <tr>\n      <th>max</th>\n      <td>16600.000000</td>\n      <td>2020.000000</td>\n      <td>82.740000</td>\n    </tr>\n  </tbody>\n</table>\n</div>"
     },
     "metadata": {},
     "execution_count": 554
    }
   ],
   "source": [
    "df.describe()"
   ]
  },
  {
   "cell_type": "code",
   "execution_count": 555,
   "metadata": {},
   "outputs": [
    {
     "output_type": "execute_result",
     "data": {
      "text/plain": [
       "        Rank                             Name Platform    Year         Genre  \\\n",
       "10756  10758                      Wasteland 2       PC  2015.0  Role-Playing   \n",
       "15670  15673                            NEVES       DS  2007.0        Puzzle   \n",
       "8145    8147  Atari Anniversary Edition Redux       PS  2000.0          Misc   \n",
       "2739    2741                            Turok     X360  2008.0        Action   \n",
       "1887    1889                  Dante's Inferno      PS3  2010.0        Action   \n",
       "\n",
       "                    Publisher  Global_Sales  Sales_level  \n",
       "10756    inXile Entertainment          0.10          0.0  \n",
       "15670  Ignition Entertainment          0.02          0.0  \n",
       "8145               Infogrames          0.18          0.0  \n",
       "2739               Touchstone          0.75          1.0  \n",
       "1887          Electronic Arts          1.09          2.0  "
      ],
      "text/html": "<div>\n<style scoped>\n    .dataframe tbody tr th:only-of-type {\n        vertical-align: middle;\n    }\n\n    .dataframe tbody tr th {\n        vertical-align: top;\n    }\n\n    .dataframe thead th {\n        text-align: right;\n    }\n</style>\n<table border=\"1\" class=\"dataframe\">\n  <thead>\n    <tr style=\"text-align: right;\">\n      <th></th>\n      <th>Rank</th>\n      <th>Name</th>\n      <th>Platform</th>\n      <th>Year</th>\n      <th>Genre</th>\n      <th>Publisher</th>\n      <th>Global_Sales</th>\n      <th>Sales_level</th>\n    </tr>\n  </thead>\n  <tbody>\n    <tr>\n      <th>10756</th>\n      <td>10758</td>\n      <td>Wasteland 2</td>\n      <td>PC</td>\n      <td>2015.0</td>\n      <td>Role-Playing</td>\n      <td>inXile Entertainment</td>\n      <td>0.10</td>\n      <td>0.0</td>\n    </tr>\n    <tr>\n      <th>15670</th>\n      <td>15673</td>\n      <td>NEVES</td>\n      <td>DS</td>\n      <td>2007.0</td>\n      <td>Puzzle</td>\n      <td>Ignition Entertainment</td>\n      <td>0.02</td>\n      <td>0.0</td>\n    </tr>\n    <tr>\n      <th>8145</th>\n      <td>8147</td>\n      <td>Atari Anniversary Edition Redux</td>\n      <td>PS</td>\n      <td>2000.0</td>\n      <td>Misc</td>\n      <td>Infogrames</td>\n      <td>0.18</td>\n      <td>0.0</td>\n    </tr>\n    <tr>\n      <th>2739</th>\n      <td>2741</td>\n      <td>Turok</td>\n      <td>X360</td>\n      <td>2008.0</td>\n      <td>Action</td>\n      <td>Touchstone</td>\n      <td>0.75</td>\n      <td>1.0</td>\n    </tr>\n    <tr>\n      <th>1887</th>\n      <td>1889</td>\n      <td>Dante's Inferno</td>\n      <td>PS3</td>\n      <td>2010.0</td>\n      <td>Action</td>\n      <td>Electronic Arts</td>\n      <td>1.09</td>\n      <td>2.0</td>\n    </tr>\n  </tbody>\n</table>\n</div>"
     },
     "metadata": {},
     "execution_count": 555
    }
   ],
   "source": [
    "# df['Mean_global']=df['Global_Sales'].apply(lambda x: 'High' if x>=0.5377441 else 'Low')\n",
    "# dfhigh.loc[dfhigh['Global_Sales'] > 1, 'Test'] = 2\n",
    "# dfhigh.loc[0.5377441 < dfhigh['Global_Sales'] >= 1, 'Test'] = 1\n",
    "df.loc[df['Global_Sales'].between(10.0,100), 'Sales_level'] = 3\n",
    "df.loc[df['Global_Sales'].between(1,9.9), 'Sales_level'] = 2\n",
    "df.loc[df['Global_Sales'].between(0.5377441,0.999), 'Sales_level'] = 1\n",
    "df.loc[df['Global_Sales'] < 0.5377441, 'Sales_level'] = 0\n",
    "\n",
    "# dfhigh.loc[dfhigh['Global_Sales'] == 'Action', 'GenreId'] = 1 \n",
    "df.sample(5)\n"
   ]
  },
  {
   "cell_type": "code",
   "execution_count": 556,
   "metadata": {},
   "outputs": [],
   "source": [
    "# dfhigh = df.loc[df['Mean_global'] == 'High']\n",
    "# dfhigh.head(5)"
   ]
  },
  {
   "cell_type": "code",
   "execution_count": 557,
   "metadata": {},
   "outputs": [
    {
     "output_type": "execute_result",
     "data": {
      "text/plain": [
       "Action          3251\n",
       "Sports          2304\n",
       "Misc            1686\n",
       "Role-Playing    1470\n",
       "Shooter         1282\n",
       "Adventure       1274\n",
       "Racing          1225\n",
       "Platform         875\n",
       "Simulation       848\n",
       "Fighting         836\n",
       "Strategy         670\n",
       "Puzzle           570\n",
       "Name: Genre, dtype: int64"
      ]
     },
     "metadata": {},
     "execution_count": 557
    }
   ],
   "source": [
    "df.Genre.value_counts()"
   ]
  },
  {
   "cell_type": "code",
   "execution_count": 558,
   "metadata": {},
   "outputs": [
    {
     "output_type": "execute_result",
     "data": {
      "text/plain": [
       "DS      2131\n",
       "PS2     2127\n",
       "PS3     1304\n",
       "Wii     1290\n",
       "X360    1234\n",
       "PSP     1197\n",
       "PS      1189\n",
       "PC       938\n",
       "XB       803\n",
       "GBA      786\n",
       "GC       542\n",
       "3DS      499\n",
       "PSV      410\n",
       "PS4      336\n",
       "N64      316\n",
       "SNES     239\n",
       "XOne     213\n",
       "SAT      173\n",
       "WiiU     143\n",
       "2600     116\n",
       "NES       98\n",
       "GB        97\n",
       "DC        52\n",
       "GEN       27\n",
       "NG        12\n",
       "SCD        6\n",
       "WS         6\n",
       "3DO        3\n",
       "TG16       2\n",
       "GG         1\n",
       "PCFX       1\n",
       "Name: Platform, dtype: int64"
      ]
     },
     "metadata": {},
     "execution_count": 558
    }
   ],
   "source": [
    "df.Platform.value_counts()"
   ]
  },
  {
   "cell_type": "code",
   "execution_count": 559,
   "metadata": {},
   "outputs": [
    {
     "output_type": "execute_result",
     "data": {
      "text/plain": [
       "        Rank                                               Name Platform  \\\n",
       "4507    4509                              NiGHTS into dreams...      SAT   \n",
       "3634    3636                        Sly Cooper: Thieves in Time      PS3   \n",
       "16200  16203                                       Hyakka Yakou      PSV   \n",
       "243      244             Uncharted: The Nathan Drake Collection      PS4   \n",
       "13853  13855              Klonoa Heroes: Densetsu no Star Medal      GBA   \n",
       "4586    4588                     Tony Hawk's American Wasteland       GC   \n",
       "12646  12648  NTRA Breeders' Cup World Thoroughbred Champion...       XB   \n",
       "4506    4508                                   Wheel of Fortune       DS   \n",
       "15023  15026                   Brothers in Arms: Hell's Highway       PC   \n",
       "3082    3084                        Shrek: Hassle at the Castle      GBA   \n",
       "\n",
       "         Year         Genre                           Publisher  Global_Sales  \\\n",
       "4507   1996.0      Platform                                Sega          0.43   \n",
       "3634   2013.0      Platform  Sony Computer Entertainment Europe          0.55   \n",
       "16200  2015.0        Action                             Unknown          0.01   \n",
       "243    2015.0        Action         Sony Computer Entertainment          4.47   \n",
       "13853  2002.0  Role-Playing                  Namco Bandai Games          0.04   \n",
       "4586   2005.0        Sports                          Activision          0.42   \n",
       "12646  2005.0    Simulation                  Bethesda Softworks          0.06   \n",
       "4506   2010.0          Misc                                 THQ          0.43   \n",
       "15023  2008.0       Shooter                             Ubisoft          0.02   \n",
       "3082   2002.0        Action                      TDK Mediactive          0.66   \n",
       "\n",
       "       Sales_level  PlatformId  \n",
       "4507           0.0        18.0  \n",
       "3634           1.0         3.0  \n",
       "16200          0.0        13.0  \n",
       "243            2.0        14.0  \n",
       "13853          0.0        10.0  \n",
       "4586           0.0        11.0  \n",
       "12646          0.0         9.0  \n",
       "4506           0.0         1.0  \n",
       "15023          0.0         8.0  \n",
       "3082           1.0        10.0  "
      ],
      "text/html": "<div>\n<style scoped>\n    .dataframe tbody tr th:only-of-type {\n        vertical-align: middle;\n    }\n\n    .dataframe tbody tr th {\n        vertical-align: top;\n    }\n\n    .dataframe thead th {\n        text-align: right;\n    }\n</style>\n<table border=\"1\" class=\"dataframe\">\n  <thead>\n    <tr style=\"text-align: right;\">\n      <th></th>\n      <th>Rank</th>\n      <th>Name</th>\n      <th>Platform</th>\n      <th>Year</th>\n      <th>Genre</th>\n      <th>Publisher</th>\n      <th>Global_Sales</th>\n      <th>Sales_level</th>\n      <th>PlatformId</th>\n    </tr>\n  </thead>\n  <tbody>\n    <tr>\n      <th>4507</th>\n      <td>4509</td>\n      <td>NiGHTS into dreams...</td>\n      <td>SAT</td>\n      <td>1996.0</td>\n      <td>Platform</td>\n      <td>Sega</td>\n      <td>0.43</td>\n      <td>0.0</td>\n      <td>18.0</td>\n    </tr>\n    <tr>\n      <th>3634</th>\n      <td>3636</td>\n      <td>Sly Cooper: Thieves in Time</td>\n      <td>PS3</td>\n      <td>2013.0</td>\n      <td>Platform</td>\n      <td>Sony Computer Entertainment Europe</td>\n      <td>0.55</td>\n      <td>1.0</td>\n      <td>3.0</td>\n    </tr>\n    <tr>\n      <th>16200</th>\n      <td>16203</td>\n      <td>Hyakka Yakou</td>\n      <td>PSV</td>\n      <td>2015.0</td>\n      <td>Action</td>\n      <td>Unknown</td>\n      <td>0.01</td>\n      <td>0.0</td>\n      <td>13.0</td>\n    </tr>\n    <tr>\n      <th>243</th>\n      <td>244</td>\n      <td>Uncharted: The Nathan Drake Collection</td>\n      <td>PS4</td>\n      <td>2015.0</td>\n      <td>Action</td>\n      <td>Sony Computer Entertainment</td>\n      <td>4.47</td>\n      <td>2.0</td>\n      <td>14.0</td>\n    </tr>\n    <tr>\n      <th>13853</th>\n      <td>13855</td>\n      <td>Klonoa Heroes: Densetsu no Star Medal</td>\n      <td>GBA</td>\n      <td>2002.0</td>\n      <td>Role-Playing</td>\n      <td>Namco Bandai Games</td>\n      <td>0.04</td>\n      <td>0.0</td>\n      <td>10.0</td>\n    </tr>\n    <tr>\n      <th>4586</th>\n      <td>4588</td>\n      <td>Tony Hawk's American Wasteland</td>\n      <td>GC</td>\n      <td>2005.0</td>\n      <td>Sports</td>\n      <td>Activision</td>\n      <td>0.42</td>\n      <td>0.0</td>\n      <td>11.0</td>\n    </tr>\n    <tr>\n      <th>12646</th>\n      <td>12648</td>\n      <td>NTRA Breeders' Cup World Thoroughbred Champion...</td>\n      <td>XB</td>\n      <td>2005.0</td>\n      <td>Simulation</td>\n      <td>Bethesda Softworks</td>\n      <td>0.06</td>\n      <td>0.0</td>\n      <td>9.0</td>\n    </tr>\n    <tr>\n      <th>4506</th>\n      <td>4508</td>\n      <td>Wheel of Fortune</td>\n      <td>DS</td>\n      <td>2010.0</td>\n      <td>Misc</td>\n      <td>THQ</td>\n      <td>0.43</td>\n      <td>0.0</td>\n      <td>1.0</td>\n    </tr>\n    <tr>\n      <th>15023</th>\n      <td>15026</td>\n      <td>Brothers in Arms: Hell's Highway</td>\n      <td>PC</td>\n      <td>2008.0</td>\n      <td>Shooter</td>\n      <td>Ubisoft</td>\n      <td>0.02</td>\n      <td>0.0</td>\n      <td>8.0</td>\n    </tr>\n    <tr>\n      <th>3082</th>\n      <td>3084</td>\n      <td>Shrek: Hassle at the Castle</td>\n      <td>GBA</td>\n      <td>2002.0</td>\n      <td>Action</td>\n      <td>TDK Mediactive</td>\n      <td>0.66</td>\n      <td>1.0</td>\n      <td>10.0</td>\n    </tr>\n  </tbody>\n</table>\n</div>"
     },
     "metadata": {},
     "execution_count": 559
    }
   ],
   "source": [
    "df.loc[df['Platform'] == 'DS', 'PlatformId'] = 1 \n",
    "df.loc[df['Platform'] == 'PS2', 'PlatformId'] = 2\n",
    "df.loc[df['Platform'] == 'PS3', 'PlatformId'] = 3 \n",
    "df.loc[df['Platform'] == 'Wii', 'PlatformId'] = 4 \n",
    "df.loc[df['Platform'] == 'X360', 'PlatformId'] = 5 \n",
    "df.loc[df['Platform'] == 'PSP', 'PlatformId'] = 6 \n",
    "df.loc[df['Platform'] == 'PS', 'PlatformId'] = 7 \n",
    "df.loc[df['Platform'] == 'PC', 'PlatformId'] = 8 \n",
    "df.loc[df['Platform'] == 'XB', 'PlatformId'] = 9\n",
    "df.loc[df['Platform'] == 'GBA', 'PlatformId'] = 10\n",
    "df.loc[df['Platform'] == 'GC', 'PlatformId'] = 11\n",
    "df.loc[df['Platform'] == '3DS', 'PlatformId'] = 12\n",
    "df.loc[df['Platform'] == 'PSV', 'PlatformId'] = 13\n",
    "df.loc[df['Platform'] == 'PS4', 'PlatformId'] = 14\n",
    "df.loc[df['Platform'] == 'N64', 'PlatformId'] = 15\n",
    "df.loc[df['Platform'] == 'SNES', 'PlatformId'] = 16\n",
    "df.loc[df['Platform'] == 'XOne', 'PlatformId'] = 17\n",
    "df.loc[df['Platform'] == 'SAT', 'PlatformId'] = 18\n",
    "df.loc[df['Platform'] == 'WiiU', 'PlatformId'] = 19\n",
    "df.loc[df['Platform'] == '2600', 'PlatformId'] = 20\n",
    "df.loc[df['Platform'] == 'NES', 'PlatformId'] = 21\n",
    "df.loc[df['Platform'] == 'GB', 'PlatformId'] = 22\n",
    "df.loc[df['Platform'] == 'DC', 'PlatformId'] = 23\n",
    "df.loc[df['Platform'] == 'GEN', 'PlatformId'] = 24\n",
    "df.loc[df['Platform'] == 'NG', 'PlatformId'] = 25\n",
    "df.loc[df['Platform'] == 'SCD', 'PlatformId'] = 26\n",
    "df.loc[df['Platform'] == 'WS', 'PlatformId'] = 27\n",
    "df.loc[df['Platform'] == '3DO', 'PlatformId'] = 28\n",
    "df.loc[df['Platform'] == 'TG16', 'PlatformId'] = 39\n",
    "df.loc[df['Platform'] == 'GG', 'PlatformId'] = 30\n",
    "df.loc[df['Platform'] == 'PCFX', 'PlatformId'] = 31\n",
    "\n",
    "df.sample(10)\n"
   ]
  },
  {
   "cell_type": "code",
   "execution_count": 560,
   "metadata": {},
   "outputs": [
    {
     "output_type": "execute_result",
     "data": {
      "text/plain": [
       "        Rank                                        Name Platform    Year  \\\n",
       "8852    8854                       J-League Victory Goal      SAT  1995.0   \n",
       "10774  10776        InuYasha: Secret of the Divine Jewel       DS  2007.0   \n",
       "10116  10118                   Just In Time Translations       DS  2009.0   \n",
       "163      164                   Mario Kart: Super Circuit      GBA  2001.0   \n",
       "15825  15828                            Puyo Puyo Tetris     WiiU  2014.0   \n",
       "7089    7091          Disney Princess: Enchanted Journey      PS2  2007.0   \n",
       "14970  14973  Strike Witches 2: Iyasu Naosu Punipunisuru       DS  2010.0   \n",
       "8458    8460                                  Death Trap     2600  1982.0   \n",
       "10921  10923          Dragon Ball Kai: Ultimate Butouden       DS  2011.0   \n",
       "4381    4383                          SingStar Take That      PS2  2009.0   \n",
       "\n",
       "              Genre                    Publisher  Global_Sales  Sales_level  \\\n",
       "8852         Sports                         Sega          0.15          0.0   \n",
       "10774  Role-Playing           Namco Bandai Games          0.10          0.0   \n",
       "10116          Misc                          THQ          0.11          0.0   \n",
       "163          Racing                     Nintendo          5.47          2.0   \n",
       "15825        Puzzle                         Sega          0.02          0.0   \n",
       "7089      Adventure   Disney Interactive Studios          0.23          0.0   \n",
       "14970        Action              Kadokawa Shoten          0.02          0.0   \n",
       "8458         Action           Avalon Interactive          0.17          0.0   \n",
       "10921      Fighting           Namco Bandai Games          0.09          0.0   \n",
       "4381           Misc  Sony Computer Entertainment          0.45          0.0   \n",
       "\n",
       "       PlatformId  GenreId  \n",
       "8852         18.0      2.0  \n",
       "10774         1.0      4.0  \n",
       "10116         1.0      5.0  \n",
       "163          10.0      6.0  \n",
       "15825        19.0     10.0  \n",
       "7089          2.0     11.0  \n",
       "14970         1.0      1.0  \n",
       "8458         20.0      1.0  \n",
       "10921         1.0      8.0  \n",
       "4381          2.0      5.0  "
      ],
      "text/html": "<div>\n<style scoped>\n    .dataframe tbody tr th:only-of-type {\n        vertical-align: middle;\n    }\n\n    .dataframe tbody tr th {\n        vertical-align: top;\n    }\n\n    .dataframe thead th {\n        text-align: right;\n    }\n</style>\n<table border=\"1\" class=\"dataframe\">\n  <thead>\n    <tr style=\"text-align: right;\">\n      <th></th>\n      <th>Rank</th>\n      <th>Name</th>\n      <th>Platform</th>\n      <th>Year</th>\n      <th>Genre</th>\n      <th>Publisher</th>\n      <th>Global_Sales</th>\n      <th>Sales_level</th>\n      <th>PlatformId</th>\n      <th>GenreId</th>\n    </tr>\n  </thead>\n  <tbody>\n    <tr>\n      <th>8852</th>\n      <td>8854</td>\n      <td>J-League Victory Goal</td>\n      <td>SAT</td>\n      <td>1995.0</td>\n      <td>Sports</td>\n      <td>Sega</td>\n      <td>0.15</td>\n      <td>0.0</td>\n      <td>18.0</td>\n      <td>2.0</td>\n    </tr>\n    <tr>\n      <th>10774</th>\n      <td>10776</td>\n      <td>InuYasha: Secret of the Divine Jewel</td>\n      <td>DS</td>\n      <td>2007.0</td>\n      <td>Role-Playing</td>\n      <td>Namco Bandai Games</td>\n      <td>0.10</td>\n      <td>0.0</td>\n      <td>1.0</td>\n      <td>4.0</td>\n    </tr>\n    <tr>\n      <th>10116</th>\n      <td>10118</td>\n      <td>Just In Time Translations</td>\n      <td>DS</td>\n      <td>2009.0</td>\n      <td>Misc</td>\n      <td>THQ</td>\n      <td>0.11</td>\n      <td>0.0</td>\n      <td>1.0</td>\n      <td>5.0</td>\n    </tr>\n    <tr>\n      <th>163</th>\n      <td>164</td>\n      <td>Mario Kart: Super Circuit</td>\n      <td>GBA</td>\n      <td>2001.0</td>\n      <td>Racing</td>\n      <td>Nintendo</td>\n      <td>5.47</td>\n      <td>2.0</td>\n      <td>10.0</td>\n      <td>6.0</td>\n    </tr>\n    <tr>\n      <th>15825</th>\n      <td>15828</td>\n      <td>Puyo Puyo Tetris</td>\n      <td>WiiU</td>\n      <td>2014.0</td>\n      <td>Puzzle</td>\n      <td>Sega</td>\n      <td>0.02</td>\n      <td>0.0</td>\n      <td>19.0</td>\n      <td>10.0</td>\n    </tr>\n    <tr>\n      <th>7089</th>\n      <td>7091</td>\n      <td>Disney Princess: Enchanted Journey</td>\n      <td>PS2</td>\n      <td>2007.0</td>\n      <td>Adventure</td>\n      <td>Disney Interactive Studios</td>\n      <td>0.23</td>\n      <td>0.0</td>\n      <td>2.0</td>\n      <td>11.0</td>\n    </tr>\n    <tr>\n      <th>14970</th>\n      <td>14973</td>\n      <td>Strike Witches 2: Iyasu Naosu Punipunisuru</td>\n      <td>DS</td>\n      <td>2010.0</td>\n      <td>Action</td>\n      <td>Kadokawa Shoten</td>\n      <td>0.02</td>\n      <td>0.0</td>\n      <td>1.0</td>\n      <td>1.0</td>\n    </tr>\n    <tr>\n      <th>8458</th>\n      <td>8460</td>\n      <td>Death Trap</td>\n      <td>2600</td>\n      <td>1982.0</td>\n      <td>Action</td>\n      <td>Avalon Interactive</td>\n      <td>0.17</td>\n      <td>0.0</td>\n      <td>20.0</td>\n      <td>1.0</td>\n    </tr>\n    <tr>\n      <th>10921</th>\n      <td>10923</td>\n      <td>Dragon Ball Kai: Ultimate Butouden</td>\n      <td>DS</td>\n      <td>2011.0</td>\n      <td>Fighting</td>\n      <td>Namco Bandai Games</td>\n      <td>0.09</td>\n      <td>0.0</td>\n      <td>1.0</td>\n      <td>8.0</td>\n    </tr>\n    <tr>\n      <th>4381</th>\n      <td>4383</td>\n      <td>SingStar Take That</td>\n      <td>PS2</td>\n      <td>2009.0</td>\n      <td>Misc</td>\n      <td>Sony Computer Entertainment</td>\n      <td>0.45</td>\n      <td>0.0</td>\n      <td>2.0</td>\n      <td>5.0</td>\n    </tr>\n  </tbody>\n</table>\n</div>"
     },
     "metadata": {},
     "execution_count": 560
    }
   ],
   "source": [
    "df.loc[df['Genre'] == 'Action', 'GenreId'] = 1 \n",
    "df.loc[df['Genre'] == 'Sports', 'GenreId'] = 2\n",
    "df.loc[df['Genre'] == 'Shooter', 'GenreId'] = 3 \n",
    "df.loc[df['Genre'] == 'Role-Playing', 'GenreId'] = 4 \n",
    "df.loc[df['Genre'] == 'Misc', 'GenreId'] = 5 \n",
    "df.loc[df['Genre'] == 'Racing', 'GenreId'] = 6 \n",
    "df.loc[df['Genre'] == 'Platform', 'GenreId'] = 7 \n",
    "df.loc[df['Genre'] == 'Fighting', 'GenreId'] = 8 \n",
    "df.loc[df['Genre'] == 'Simulation', 'GenreId'] = 9 \n",
    "df.loc[df['Genre'] == 'Puzzle', 'GenreId'] = 10 \n",
    "df.loc[df['Genre'] == 'Adventure', 'GenreId'] = 11 \n",
    "df.loc[df['Genre'] == 'Strategy', 'GenreId'] = 12 \n",
    "\n",
    "df.sample(10)\n",
    "\n"
   ]
  },
  {
   "cell_type": "code",
   "execution_count": 561,
   "metadata": {},
   "outputs": [],
   "source": [
    "inputs = df.drop('Sales_level',axis='columns')\n",
    "target = df.Sales_level"
   ]
  },
  {
   "cell_type": "code",
   "execution_count": 562,
   "metadata": {},
   "outputs": [],
   "source": [
    "# inputs = pd.concat([inputs,GenreId],axis='columns')\n",
    "# inputs.head(5)\n"
   ]
  },
  {
   "cell_type": "code",
   "execution_count": 563,
   "metadata": {},
   "outputs": [
    {
     "output_type": "execute_result",
     "data": {
      "text/plain": [
       "     Year  PlatformId  GenreId\n",
       "0  2006.0         4.0      2.0\n",
       "1  1985.0        21.0      7.0\n",
       "2  2008.0         4.0      6.0\n",
       "3  2009.0         4.0      2.0\n",
       "4  1996.0        22.0      4.0"
      ],
      "text/html": "<div>\n<style scoped>\n    .dataframe tbody tr th:only-of-type {\n        vertical-align: middle;\n    }\n\n    .dataframe tbody tr th {\n        vertical-align: top;\n    }\n\n    .dataframe thead th {\n        text-align: right;\n    }\n</style>\n<table border=\"1\" class=\"dataframe\">\n  <thead>\n    <tr style=\"text-align: right;\">\n      <th></th>\n      <th>Year</th>\n      <th>PlatformId</th>\n      <th>GenreId</th>\n    </tr>\n  </thead>\n  <tbody>\n    <tr>\n      <th>0</th>\n      <td>2006.0</td>\n      <td>4.0</td>\n      <td>2.0</td>\n    </tr>\n    <tr>\n      <th>1</th>\n      <td>1985.0</td>\n      <td>21.0</td>\n      <td>7.0</td>\n    </tr>\n    <tr>\n      <th>2</th>\n      <td>2008.0</td>\n      <td>4.0</td>\n      <td>6.0</td>\n    </tr>\n    <tr>\n      <th>3</th>\n      <td>2009.0</td>\n      <td>4.0</td>\n      <td>2.0</td>\n    </tr>\n    <tr>\n      <th>4</th>\n      <td>1996.0</td>\n      <td>22.0</td>\n      <td>4.0</td>\n    </tr>\n  </tbody>\n</table>\n</div>"
     },
     "metadata": {},
     "execution_count": 563
    }
   ],
   "source": [
    "inputs.drop(['Rank','Name','Platform','Publisher','Genre','Global_Sales'],axis='columns',inplace=True)\n",
    "inputs.head()"
   ]
  },
  {
   "cell_type": "code",
   "execution_count": 564,
   "metadata": {},
   "outputs": [],
   "source": [
    "X = inputs.astype(int)\n",
    "Y = target.astype(int)\n",
    "X_train, X_test, y_train, y_test = train_test_split(X,Y,test_size=0.5)\n",
    "model = GaussianNB()"
   ]
  },
  {
   "cell_type": "code",
   "execution_count": 565,
   "metadata": {},
   "outputs": [
    {
     "output_type": "execute_result",
     "data": {
      "text/plain": [
       "       Year  PlatformId  GenreId\n",
       "10371  2009           1        2\n",
       "2065   2008           3        3\n",
       "51     2008           5        1\n",
       "10466  2001           2       11\n",
       "6721   2002           2        2\n",
       "14242  2010           4        6\n",
       "6951   2007           2        6\n",
       "5616   2014           5        3\n",
       "14561  2011           6        5\n",
       "11646  2009           1        9"
      ],
      "text/html": "<div>\n<style scoped>\n    .dataframe tbody tr th:only-of-type {\n        vertical-align: middle;\n    }\n\n    .dataframe tbody tr th {\n        vertical-align: top;\n    }\n\n    .dataframe thead th {\n        text-align: right;\n    }\n</style>\n<table border=\"1\" class=\"dataframe\">\n  <thead>\n    <tr style=\"text-align: right;\">\n      <th></th>\n      <th>Year</th>\n      <th>PlatformId</th>\n      <th>GenreId</th>\n    </tr>\n  </thead>\n  <tbody>\n    <tr>\n      <th>10371</th>\n      <td>2009</td>\n      <td>1</td>\n      <td>2</td>\n    </tr>\n    <tr>\n      <th>2065</th>\n      <td>2008</td>\n      <td>3</td>\n      <td>3</td>\n    </tr>\n    <tr>\n      <th>51</th>\n      <td>2008</td>\n      <td>5</td>\n      <td>1</td>\n    </tr>\n    <tr>\n      <th>10466</th>\n      <td>2001</td>\n      <td>2</td>\n      <td>11</td>\n    </tr>\n    <tr>\n      <th>6721</th>\n      <td>2002</td>\n      <td>2</td>\n      <td>2</td>\n    </tr>\n    <tr>\n      <th>14242</th>\n      <td>2010</td>\n      <td>4</td>\n      <td>6</td>\n    </tr>\n    <tr>\n      <th>6951</th>\n      <td>2007</td>\n      <td>2</td>\n      <td>6</td>\n    </tr>\n    <tr>\n      <th>5616</th>\n      <td>2014</td>\n      <td>5</td>\n      <td>3</td>\n    </tr>\n    <tr>\n      <th>14561</th>\n      <td>2011</td>\n      <td>6</td>\n      <td>5</td>\n    </tr>\n    <tr>\n      <th>11646</th>\n      <td>2009</td>\n      <td>1</td>\n      <td>9</td>\n    </tr>\n  </tbody>\n</table>\n</div>"
     },
     "metadata": {},
     "execution_count": 565
    }
   ],
   "source": [
    "X_test[0:10]"
   ]
  },
  {
   "cell_type": "code",
   "execution_count": 566,
   "metadata": {},
   "outputs": [
    {
     "output_type": "execute_result",
     "data": {
      "text/plain": [
       "GaussianNB()"
      ]
     },
     "metadata": {},
     "execution_count": 566
    }
   ],
   "source": [
    "model.fit(X_train,y_train)"
   ]
  },
  {
   "cell_type": "code",
   "execution_count": 567,
   "metadata": {},
   "outputs": [
    {
     "output_type": "execute_result",
     "data": {
      "text/plain": [
       "0.7647925362140928"
      ]
     },
     "metadata": {},
     "execution_count": 567
    }
   ],
   "source": [
    "model.score(X_test,y_test)"
   ]
  },
  {
   "cell_type": "code",
   "execution_count": 568,
   "metadata": {},
   "outputs": [
    {
     "output_type": "execute_result",
     "data": {
      "text/plain": [
       "array([0, 0, 0, 0, 0, 0, 0, 0, 0, 0])"
      ]
     },
     "metadata": {},
     "execution_count": 568
    }
   ],
   "source": [
    "model.predict(X_test[0:10])"
   ]
  },
  {
   "cell_type": "code",
   "execution_count": 569,
   "metadata": {},
   "outputs": [
    {
     "output_type": "execute_result",
     "data": {
      "text/plain": [
       "array([[7.81967577e-01, 1.09677431e-01, 1.03721814e-01, 4.63317699e-03],\n",
       "       [7.88919841e-01, 1.07282530e-01, 9.92914606e-02, 4.50616780e-03],\n",
       "       [7.99296934e-01, 1.06114517e-01, 9.14866877e-02, 3.10186133e-03],\n",
       "       [8.84701214e-01, 5.80289392e-02, 5.65463588e-02, 7.23488454e-04],\n",
       "       [7.29986777e-01, 1.26826667e-01, 1.38368333e-01, 4.81822364e-03],\n",
       "       [8.22022156e-01, 9.12319154e-02, 8.30303910e-02, 3.71553718e-03],\n",
       "       [8.10827738e-01, 9.38343975e-02, 9.12524888e-02, 4.08537534e-03],\n",
       "       [7.76436135e-01, 1.13785254e-01, 1.05036488e-01, 4.74212301e-03],\n",
       "       [8.07477870e-01, 9.77637943e-02, 9.06527851e-02, 4.10555035e-03],\n",
       "       [8.73611364e-01, 6.55490723e-02, 5.90592932e-02, 1.78027074e-03]])"
      ]
     },
     "metadata": {},
     "execution_count": 569
    }
   ],
   "source": [
    "model.predict_proba(X_test[:10])"
   ]
  },
  {
   "cell_type": "code",
   "execution_count": 570,
   "metadata": {},
   "outputs": [
    {
     "output_type": "execute_result",
     "data": {
      "text/plain": [
       "array([0.75567833, 0.75936157, 0.74953959, 0.75997545, 0.76365869])"
      ]
     },
     "metadata": {},
     "execution_count": 570
    }
   ],
   "source": [
    "from sklearn.model_selection import cross_val_score\n",
    "cross_val_score(GaussianNB(),X_train, y_train, cv=5)"
   ]
  }
 ],
 "metadata": {
  "kernelspec": {
   "display_name": "Python 3",
   "language": "python",
   "name": "python3"
  },
  "language_info": {
   "codemirror_mode": {
    "name": "ipython",
    "version": 3
   },
   "file_extension": ".py",
   "mimetype": "text/x-python",
   "name": "python",
   "nbconvert_exporter": "python",
   "pygments_lexer": "ipython3",
   "version": "3.8.5-final"
  }
 },
 "nbformat": 4,
 "nbformat_minor": 4
}