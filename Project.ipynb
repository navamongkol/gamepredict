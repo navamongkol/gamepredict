{
 "cells": [
  {
   "cell_type": "code",
   "execution_count": 320,
   "metadata": {},
   "outputs": [],
   "source": [
    "import pandas as pd # for data manipulation\n",
    "import numpy as np # for data manipulation\n",
    "\n",
    "from sklearn.model_selection import train_test_split # for splitting the data into train and test samples\n",
    "from sklearn.metrics import classification_report # for model evaluation metrics\n",
    "from sklearn.preprocessing import OrdinalEncoder # for encoding categorical features from strings to number arrays\n",
    "\n",
    "# Differnt types of Naive Bayes Classifiers\n",
    "from sklearn.naive_bayes import GaussianNB\n",
    "from sklearn.naive_bayes import CategoricalNB\n",
    "from sklearn.naive_bayes import BernoulliNB"
   ]
  },
  {
   "cell_type": "code",
   "execution_count": 321,
   "metadata": {},
   "outputs": [],
   "source": [
    "df = pd.read_csv('/Users/navamongkoltongta/OneDrive - Assumption University/Year2.2/Data Science/Project/vgsales.csv')"
   ]
  },
  {
   "cell_type": "code",
   "execution_count": 322,
   "metadata": {},
   "outputs": [],
   "source": [
    "df.drop(columns=['NA_Sales','EU_Sales','JP_Sales','Other_Sales'], inplace=True)"
   ]
  },
  {
   "cell_type": "code",
   "execution_count": 323,
   "metadata": {},
   "outputs": [
    {
     "output_type": "execute_result",
     "data": {
      "text/plain": [
       "Rank            16598\n",
       "Name            16598\n",
       "Platform        16598\n",
       "Year            16327\n",
       "Genre           16598\n",
       "Publisher       16540\n",
       "Global_Sales    16598\n",
       "dtype: int64"
      ]
     },
     "metadata": {},
     "execution_count": 323
    }
   ],
   "source": [
    "df.count()"
   ]
  },
  {
   "cell_type": "code",
   "execution_count": 324,
   "metadata": {},
   "outputs": [],
   "source": [
    "df.dropna(how='any',subset=['Year','Publisher'],inplace=True)"
   ]
  },
  {
   "cell_type": "code",
   "execution_count": 325,
   "metadata": {},
   "outputs": [
    {
     "output_type": "execute_result",
     "data": {
      "text/plain": [
       "Empty DataFrame\n",
       "Columns: [Rank, Name, Platform, Year, Genre, Publisher, Global_Sales]\n",
       "Index: []"
      ],
      "text/html": "<div>\n<style scoped>\n    .dataframe tbody tr th:only-of-type {\n        vertical-align: middle;\n    }\n\n    .dataframe tbody tr th {\n        vertical-align: top;\n    }\n\n    .dataframe thead th {\n        text-align: right;\n    }\n</style>\n<table border=\"1\" class=\"dataframe\">\n  <thead>\n    <tr style=\"text-align: right;\">\n      <th></th>\n      <th>Rank</th>\n      <th>Name</th>\n      <th>Platform</th>\n      <th>Year</th>\n      <th>Genre</th>\n      <th>Publisher</th>\n      <th>Global_Sales</th>\n    </tr>\n  </thead>\n  <tbody>\n  </tbody>\n</table>\n</div>"
     },
     "metadata": {},
     "execution_count": 325
    }
   ],
   "source": [
    "df[df['Publisher'].isnull()]"
   ]
  },
  {
   "cell_type": "code",
   "execution_count": 326,
   "metadata": {},
   "outputs": [
    {
     "output_type": "execute_result",
     "data": {
      "text/plain": [
       "Rank            0\n",
       "Name            0\n",
       "Platform        0\n",
       "Year            0\n",
       "Genre           0\n",
       "Publisher       0\n",
       "Global_Sales    0\n",
       "dtype: int64"
      ]
     },
     "metadata": {},
     "execution_count": 326
    }
   ],
   "source": [
    "df.isnull().sum()"
   ]
  },
  {
   "cell_type": "code",
   "execution_count": 327,
   "metadata": {},
   "outputs": [
    {
     "output_type": "execute_result",
     "data": {
      "text/plain": [
       "Rank            16291\n",
       "Name            16291\n",
       "Platform        16291\n",
       "Year            16291\n",
       "Genre           16291\n",
       "Publisher       16291\n",
       "Global_Sales    16291\n",
       "dtype: int64"
      ]
     },
     "metadata": {},
     "execution_count": 327
    }
   ],
   "source": [
    "df.count()"
   ]
  },
  {
   "cell_type": "code",
   "execution_count": 328,
   "metadata": {},
   "outputs": [
    {
     "output_type": "execute_result",
     "data": {
      "text/plain": [
       "               Rank          Year  Global_Sales\n",
       "count  16291.000000  16291.000000  16291.000000\n",
       "mean    8290.190228   2006.405561      0.540910\n",
       "std     4792.654450      5.832412      1.567345\n",
       "min        1.000000   1980.000000      0.010000\n",
       "25%     4132.500000   2003.000000      0.060000\n",
       "50%     8292.000000   2007.000000      0.170000\n",
       "75%    12439.500000   2010.000000      0.480000\n",
       "max    16600.000000   2020.000000     82.740000"
      ],
      "text/html": "<div>\n<style scoped>\n    .dataframe tbody tr th:only-of-type {\n        vertical-align: middle;\n    }\n\n    .dataframe tbody tr th {\n        vertical-align: top;\n    }\n\n    .dataframe thead th {\n        text-align: right;\n    }\n</style>\n<table border=\"1\" class=\"dataframe\">\n  <thead>\n    <tr style=\"text-align: right;\">\n      <th></th>\n      <th>Rank</th>\n      <th>Year</th>\n      <th>Global_Sales</th>\n    </tr>\n  </thead>\n  <tbody>\n    <tr>\n      <th>count</th>\n      <td>16291.000000</td>\n      <td>16291.000000</td>\n      <td>16291.000000</td>\n    </tr>\n    <tr>\n      <th>mean</th>\n      <td>8290.190228</td>\n      <td>2006.405561</td>\n      <td>0.540910</td>\n    </tr>\n    <tr>\n      <th>std</th>\n      <td>4792.654450</td>\n      <td>5.832412</td>\n      <td>1.567345</td>\n    </tr>\n    <tr>\n      <th>min</th>\n      <td>1.000000</td>\n      <td>1980.000000</td>\n      <td>0.010000</td>\n    </tr>\n    <tr>\n      <th>25%</th>\n      <td>4132.500000</td>\n      <td>2003.000000</td>\n      <td>0.060000</td>\n    </tr>\n    <tr>\n      <th>50%</th>\n      <td>8292.000000</td>\n      <td>2007.000000</td>\n      <td>0.170000</td>\n    </tr>\n    <tr>\n      <th>75%</th>\n      <td>12439.500000</td>\n      <td>2010.000000</td>\n      <td>0.480000</td>\n    </tr>\n    <tr>\n      <th>max</th>\n      <td>16600.000000</td>\n      <td>2020.000000</td>\n      <td>82.740000</td>\n    </tr>\n  </tbody>\n</table>\n</div>"
     },
     "metadata": {},
     "execution_count": 328
    }
   ],
   "source": [
    "df.describe()"
   ]
  },
  {
   "cell_type": "code",
   "execution_count": 329,
   "metadata": {},
   "outputs": [],
   "source": [
    "# White wins flag (1=win vs. 0=not-win) - dependent (target) variable\n",
    "df['Mean_global']=df['Global_Sales'].apply(lambda x: 'High' if x>=0.5377441 else 'Low')"
   ]
  },
  {
   "cell_type": "code",
   "execution_count": 330,
   "metadata": {},
   "outputs": [
    {
     "output_type": "execute_result",
     "data": {
      "text/plain": [
       "   Rank                      Name Platform    Year         Genre Publisher  \\\n",
       "0     1                Wii Sports      Wii  2006.0        Sports  Nintendo   \n",
       "1     2         Super Mario Bros.      NES  1985.0      Platform  Nintendo   \n",
       "2     3            Mario Kart Wii      Wii  2008.0        Racing  Nintendo   \n",
       "3     4         Wii Sports Resort      Wii  2009.0        Sports  Nintendo   \n",
       "4     5  Pokemon Red/Pokemon Blue       GB  1996.0  Role-Playing  Nintendo   \n",
       "\n",
       "   Global_Sales Mean_global  \n",
       "0         82.74        High  \n",
       "1         40.24        High  \n",
       "2         35.82        High  \n",
       "3         33.00        High  \n",
       "4         31.37        High  "
      ],
      "text/html": "<div>\n<style scoped>\n    .dataframe tbody tr th:only-of-type {\n        vertical-align: middle;\n    }\n\n    .dataframe tbody tr th {\n        vertical-align: top;\n    }\n\n    .dataframe thead th {\n        text-align: right;\n    }\n</style>\n<table border=\"1\" class=\"dataframe\">\n  <thead>\n    <tr style=\"text-align: right;\">\n      <th></th>\n      <th>Rank</th>\n      <th>Name</th>\n      <th>Platform</th>\n      <th>Year</th>\n      <th>Genre</th>\n      <th>Publisher</th>\n      <th>Global_Sales</th>\n      <th>Mean_global</th>\n    </tr>\n  </thead>\n  <tbody>\n    <tr>\n      <th>0</th>\n      <td>1</td>\n      <td>Wii Sports</td>\n      <td>Wii</td>\n      <td>2006.0</td>\n      <td>Sports</td>\n      <td>Nintendo</td>\n      <td>82.74</td>\n      <td>High</td>\n    </tr>\n    <tr>\n      <th>1</th>\n      <td>2</td>\n      <td>Super Mario Bros.</td>\n      <td>NES</td>\n      <td>1985.0</td>\n      <td>Platform</td>\n      <td>Nintendo</td>\n      <td>40.24</td>\n      <td>High</td>\n    </tr>\n    <tr>\n      <th>2</th>\n      <td>3</td>\n      <td>Mario Kart Wii</td>\n      <td>Wii</td>\n      <td>2008.0</td>\n      <td>Racing</td>\n      <td>Nintendo</td>\n      <td>35.82</td>\n      <td>High</td>\n    </tr>\n    <tr>\n      <th>3</th>\n      <td>4</td>\n      <td>Wii Sports Resort</td>\n      <td>Wii</td>\n      <td>2009.0</td>\n      <td>Sports</td>\n      <td>Nintendo</td>\n      <td>33.00</td>\n      <td>High</td>\n    </tr>\n    <tr>\n      <th>4</th>\n      <td>5</td>\n      <td>Pokemon Red/Pokemon Blue</td>\n      <td>GB</td>\n      <td>1996.0</td>\n      <td>Role-Playing</td>\n      <td>Nintendo</td>\n      <td>31.37</td>\n      <td>High</td>\n    </tr>\n  </tbody>\n</table>\n</div>"
     },
     "metadata": {},
     "execution_count": 330
    }
   ],
   "source": [
    "dfhigh = df.loc[df['Mean_global'] == 'High']\n",
    "dfhigh.head(5)"
   ]
  },
  {
   "cell_type": "code",
   "execution_count": 331,
   "metadata": {},
   "outputs": [
    {
     "output_type": "execute_result",
     "data": {
      "text/plain": [
       "Action          758\n",
       "Sports          601\n",
       "Shooter         412\n",
       "Role-Playing    366\n",
       "Misc            311\n",
       "Racing          305\n",
       "Platform        301\n",
       "Fighting        219\n",
       "Simulation      171\n",
       "Puzzle           93\n",
       "Adventure        86\n",
       "Strategy         78\n",
       "Name: Genre, dtype: int64"
      ]
     },
     "metadata": {},
     "execution_count": 331
    }
   ],
   "source": [
    "dfhigh.Genre.value_counts()"
   ]
  },
  {
   "cell_type": "code",
   "execution_count": 332,
   "metadata": {},
   "outputs": [
    {
     "output_type": "stream",
     "name": "stderr",
     "text": [
      "/Users/navamongkoltongta/opt/anaconda3/lib/python3.8/site-packages/pandas/core/indexing.py:1596: SettingWithCopyWarning: \nA value is trying to be set on a copy of a slice from a DataFrame.\nTry using .loc[row_indexer,col_indexer] = value instead\n\nSee the caveats in the documentation: https://pandas.pydata.org/pandas-docs/stable/user_guide/indexing.html#returning-a-view-versus-a-copy\n  self.obj[key] = _infer_fill_value(value)\n/Users/navamongkoltongta/opt/anaconda3/lib/python3.8/site-packages/pandas/core/indexing.py:1765: SettingWithCopyWarning: \nA value is trying to be set on a copy of a slice from a DataFrame.\nTry using .loc[row_indexer,col_indexer] = value instead\n\nSee the caveats in the documentation: https://pandas.pydata.org/pandas-docs/stable/user_guide/indexing.html#returning-a-view-versus-a-copy\n  isetter(loc, value)\n"
     ]
    },
    {
     "output_type": "execute_result",
     "data": {
      "text/plain": [
       "      Rank                                   Name Platform    Year     Genre  \\\n",
       "852    854                                 Tennis       GB  1989.0    Sports   \n",
       "450    451                 Dragon Ball Z: Budokai      PS2  2002.0  Fighting   \n",
       "1240  1242                        Pac-Man World 2      PS2  2002.0    Action   \n",
       "530    531           WWF SmackDown! Just Bring It      PS2  2001.0  Fighting   \n",
       "3233  3235                          MySims Racing       DS  2009.0    Racing   \n",
       "2921  2923  Prince of Persia: The Forgotten Sands      PS3  2010.0    Action   \n",
       "3007  3009                  Unreal Tournament III      PS3  2007.0   Shooter   \n",
       "2326  2328                   Killzone: Liberation      PSP  2006.0   Shooter   \n",
       "3565  3567                         Arena Football      PS2  2006.0    Sports   \n",
       "3360  3362                  Mickey's Speedway USA      N64  2000.0    Racing   \n",
       "\n",
       "                        Publisher  Global_Sales Mean_global  GenreId  \n",
       "852                      Nintendo          1.99        High      2.0  \n",
       "450                         Atari          3.09        High      8.0  \n",
       "1240           Namco Bandai Games          1.51        High      1.0  \n",
       "530                           THQ          2.79        High      8.0  \n",
       "3233              Electronic Arts          0.63        High      6.0  \n",
       "2921                      Ubisoft          0.70        High      1.0  \n",
       "3007                 Midway Games          0.67        High      3.0  \n",
       "2326  Sony Computer Entertainment          0.89        High      3.0  \n",
       "3565              Electronic Arts          0.56        High      2.0  \n",
       "3360                     Nintendo          0.60        High      6.0  "
      ],
      "text/html": "<div>\n<style scoped>\n    .dataframe tbody tr th:only-of-type {\n        vertical-align: middle;\n    }\n\n    .dataframe tbody tr th {\n        vertical-align: top;\n    }\n\n    .dataframe thead th {\n        text-align: right;\n    }\n</style>\n<table border=\"1\" class=\"dataframe\">\n  <thead>\n    <tr style=\"text-align: right;\">\n      <th></th>\n      <th>Rank</th>\n      <th>Name</th>\n      <th>Platform</th>\n      <th>Year</th>\n      <th>Genre</th>\n      <th>Publisher</th>\n      <th>Global_Sales</th>\n      <th>Mean_global</th>\n      <th>GenreId</th>\n    </tr>\n  </thead>\n  <tbody>\n    <tr>\n      <th>852</th>\n      <td>854</td>\n      <td>Tennis</td>\n      <td>GB</td>\n      <td>1989.0</td>\n      <td>Sports</td>\n      <td>Nintendo</td>\n      <td>1.99</td>\n      <td>High</td>\n      <td>2.0</td>\n    </tr>\n    <tr>\n      <th>450</th>\n      <td>451</td>\n      <td>Dragon Ball Z: Budokai</td>\n      <td>PS2</td>\n      <td>2002.0</td>\n      <td>Fighting</td>\n      <td>Atari</td>\n      <td>3.09</td>\n      <td>High</td>\n      <td>8.0</td>\n    </tr>\n    <tr>\n      <th>1240</th>\n      <td>1242</td>\n      <td>Pac-Man World 2</td>\n      <td>PS2</td>\n      <td>2002.0</td>\n      <td>Action</td>\n      <td>Namco Bandai Games</td>\n      <td>1.51</td>\n      <td>High</td>\n      <td>1.0</td>\n    </tr>\n    <tr>\n      <th>530</th>\n      <td>531</td>\n      <td>WWF SmackDown! Just Bring It</td>\n      <td>PS2</td>\n      <td>2001.0</td>\n      <td>Fighting</td>\n      <td>THQ</td>\n      <td>2.79</td>\n      <td>High</td>\n      <td>8.0</td>\n    </tr>\n    <tr>\n      <th>3233</th>\n      <td>3235</td>\n      <td>MySims Racing</td>\n      <td>DS</td>\n      <td>2009.0</td>\n      <td>Racing</td>\n      <td>Electronic Arts</td>\n      <td>0.63</td>\n      <td>High</td>\n      <td>6.0</td>\n    </tr>\n    <tr>\n      <th>2921</th>\n      <td>2923</td>\n      <td>Prince of Persia: The Forgotten Sands</td>\n      <td>PS3</td>\n      <td>2010.0</td>\n      <td>Action</td>\n      <td>Ubisoft</td>\n      <td>0.70</td>\n      <td>High</td>\n      <td>1.0</td>\n    </tr>\n    <tr>\n      <th>3007</th>\n      <td>3009</td>\n      <td>Unreal Tournament III</td>\n      <td>PS3</td>\n      <td>2007.0</td>\n      <td>Shooter</td>\n      <td>Midway Games</td>\n      <td>0.67</td>\n      <td>High</td>\n      <td>3.0</td>\n    </tr>\n    <tr>\n      <th>2326</th>\n      <td>2328</td>\n      <td>Killzone: Liberation</td>\n      <td>PSP</td>\n      <td>2006.0</td>\n      <td>Shooter</td>\n      <td>Sony Computer Entertainment</td>\n      <td>0.89</td>\n      <td>High</td>\n      <td>3.0</td>\n    </tr>\n    <tr>\n      <th>3565</th>\n      <td>3567</td>\n      <td>Arena Football</td>\n      <td>PS2</td>\n      <td>2006.0</td>\n      <td>Sports</td>\n      <td>Electronic Arts</td>\n      <td>0.56</td>\n      <td>High</td>\n      <td>2.0</td>\n    </tr>\n    <tr>\n      <th>3360</th>\n      <td>3362</td>\n      <td>Mickey's Speedway USA</td>\n      <td>N64</td>\n      <td>2000.0</td>\n      <td>Racing</td>\n      <td>Nintendo</td>\n      <td>0.60</td>\n      <td>High</td>\n      <td>6.0</td>\n    </tr>\n  </tbody>\n</table>\n</div>"
     },
     "metadata": {},
     "execution_count": 332
    }
   ],
   "source": [
    "# dummies = pd.get_dummies(inputs.Genre)\n",
    "# dummies.head(10)\n",
    "# def genretoid(x):\n",
    "#     if x == \"Action\":\n",
    "#        return 1\n",
    "#     elif x == \"Sports\":\n",
    "#        return 2\n",
    "#     elif x == \"Shooter\":\n",
    "#        return 3\n",
    "#     elif x == \"Role-Playing\":\n",
    "#        return 4\n",
    "#     elif x == \"Misc\":\n",
    "#        return 5\n",
    "#     elif x == \"Racing\":\n",
    "#        return 6\n",
    "#     elif x == \"Platform\":\n",
    "#        return 7\n",
    "#     elif x == \"Fighting\":\n",
    "#        return 8\n",
    "#     elif x == \"Simulation\":\n",
    "#        return 9\n",
    "#     elif x == \"Puzzle\":\n",
    "#        return 10\n",
    "#     elif x == \"Adventure\":\n",
    "#        return 11\n",
    "#     elif x == \"Strategy\":\n",
    "#        return 12\n",
    "dfhigh.loc[dfhigh['Genre'] == 'Action', 'GenreId'] = 1 \n",
    "dfhigh.loc[dfhigh['Genre'] == 'Sports', 'GenreId'] = 2\n",
    "dfhigh.loc[dfhigh['Genre'] == 'Shooter', 'GenreId'] = 3 \n",
    "dfhigh.loc[dfhigh['Genre'] == 'Role-Playing', 'GenreId'] = 4 \n",
    "dfhigh.loc[dfhigh['Genre'] == 'Misc', 'GenreId'] = 5 \n",
    "dfhigh.loc[dfhigh['Genre'] == 'Racing', 'GenreId'] = 6 \n",
    "dfhigh.loc[dfhigh['Genre'] == 'Platform', 'GenreId'] = 7 \n",
    "dfhigh.loc[dfhigh['Genre'] == 'Fighting', 'GenreId'] = 8 \n",
    "dfhigh.loc[dfhigh['Genre'] == 'Simulation', 'GenreId'] = 9 \n",
    "dfhigh.loc[dfhigh['Genre'] == 'Puzzle', 'GenreId'] = 10 \n",
    "dfhigh.loc[dfhigh['Genre'] == 'Adventure', 'GenreId'] = 11 \n",
    "dfhigh.loc[dfhigh['Genre'] == 'Strategy', 'GenreId'] = 12 \n",
    "\n",
    "\n",
    "# df['Mean_global']=df['Global_Sales'].apply(lambda x: 'High' if x>=0.5377441 else 'Low')\n",
    "# dfhigh['GenreId']=dfhigh['Genre'].apply(genretoid)\n",
    "dfhigh.sample(10)\n",
    "\n"
   ]
  },
  {
   "cell_type": "code",
   "execution_count": 333,
   "metadata": {},
   "outputs": [],
   "source": [
    "inputs = dfhigh.drop('Global_Sales',axis='columns')\n",
    "target = dfhigh.Global_Sales"
   ]
  },
  {
   "cell_type": "code",
   "execution_count": 334,
   "metadata": {},
   "outputs": [],
   "source": [
    "# inputs = pd.concat([inputs,GenreId],axis='columns')\n",
    "# inputs.head(5)\n"
   ]
  },
  {
   "cell_type": "code",
   "execution_count": 335,
   "metadata": {},
   "outputs": [
    {
     "output_type": "execute_result",
     "data": {
      "text/plain": [
       "   Rank  GenreId\n",
       "0     1      2.0\n",
       "1     2      7.0\n",
       "2     3      6.0\n",
       "3     4      2.0\n",
       "4     5      4.0"
      ],
      "text/html": "<div>\n<style scoped>\n    .dataframe tbody tr th:only-of-type {\n        vertical-align: middle;\n    }\n\n    .dataframe tbody tr th {\n        vertical-align: top;\n    }\n\n    .dataframe thead th {\n        text-align: right;\n    }\n</style>\n<table border=\"1\" class=\"dataframe\">\n  <thead>\n    <tr style=\"text-align: right;\">\n      <th></th>\n      <th>Rank</th>\n      <th>GenreId</th>\n    </tr>\n  </thead>\n  <tbody>\n    <tr>\n      <th>0</th>\n      <td>1</td>\n      <td>2.0</td>\n    </tr>\n    <tr>\n      <th>1</th>\n      <td>2</td>\n      <td>7.0</td>\n    </tr>\n    <tr>\n      <th>2</th>\n      <td>3</td>\n      <td>6.0</td>\n    </tr>\n    <tr>\n      <th>3</th>\n      <td>4</td>\n      <td>2.0</td>\n    </tr>\n    <tr>\n      <th>4</th>\n      <td>5</td>\n      <td>4.0</td>\n    </tr>\n  </tbody>\n</table>\n</div>"
     },
     "metadata": {},
     "execution_count": 335
    }
   ],
   "source": [
    "inputs.drop(['Name','Platform','Genre','Year','Publisher','Mean_global'],axis='columns',inplace=True)\n",
    "inputs.head()"
   ]
  },
  {
   "cell_type": "code",
   "execution_count": 336,
   "metadata": {},
   "outputs": [],
   "source": [
    "X = inputs.astype(int)\n",
    "Y = target.astype(int)\n",
    "X_train, X_test, y_train, y_test = train_test_split(X,Y,test_size=0.3)\n",
    "model = GaussianNB()"
   ]
  },
  {
   "cell_type": "code",
   "execution_count": 337,
   "metadata": {},
   "outputs": [
    {
     "output_type": "execute_result",
     "data": {
      "text/plain": [
       "2645     0\n",
       "1472     1\n",
       "472      2\n",
       "2522     0\n",
       "14      22\n",
       "        ..\n",
       "2636     0\n",
       "1172     1\n",
       "3163     0\n",
       "1988     1\n",
       "192      5\n",
       "Name: Global_Sales, Length: 1111, dtype: int64"
      ]
     },
     "metadata": {},
     "execution_count": 337
    }
   ],
   "source": [
    "y_test"
   ]
  },
  {
   "cell_type": "code",
   "execution_count": 338,
   "metadata": {},
   "outputs": [
    {
     "output_type": "execute_result",
     "data": {
      "text/plain": [
       "GaussianNB()"
      ]
     },
     "metadata": {},
     "execution_count": 338
    }
   ],
   "source": [
    "model.fit(X_train,y_train)"
   ]
  },
  {
   "cell_type": "code",
   "execution_count": 339,
   "metadata": {},
   "outputs": [
    {
     "output_type": "execute_result",
     "data": {
      "text/plain": [
       "0.9837983798379838"
      ]
     },
     "metadata": {},
     "execution_count": 339
    }
   ],
   "source": [
    "model.score(X_test,y_test)"
   ]
  },
  {
   "cell_type": "code",
   "execution_count": 340,
   "metadata": {},
   "outputs": [
    {
     "output_type": "execute_result",
     "data": {
      "text/plain": [
       "array([0, 1, 2, 0, 1, 1, 2, 0, 0, 5])"
      ]
     },
     "metadata": {},
     "execution_count": 340
    }
   ],
   "source": [
    "model.predict(X_test[0:10])"
   ]
  },
  {
   "cell_type": "code",
   "execution_count": 341,
   "metadata": {},
   "outputs": [
    {
     "output_type": "execute_result",
     "data": {
      "text/plain": [
       "array([[9.95267188e-001, 4.73281181e-003, 2.56161892e-069,\n",
       "        0.00000000e+000, 0.00000000e+000, 0.00000000e+000,\n",
       "        0.00000000e+000, 0.00000000e+000, 0.00000000e+000,\n",
       "        0.00000000e+000, 0.00000000e+000, 0.00000000e+000,\n",
       "        0.00000000e+000, 0.00000000e+000, 0.00000000e+000,\n",
       "        0.00000000e+000, 0.00000000e+000, 0.00000000e+000,\n",
       "        0.00000000e+000, 0.00000000e+000, 0.00000000e+000,\n",
       "        0.00000000e+000, 0.00000000e+000, 0.00000000e+000,\n",
       "        0.00000000e+000, 0.00000000e+000, 0.00000000e+000,\n",
       "        0.00000000e+000],\n",
       "       [1.09659707e-002, 9.89034029e-001, 3.06502348e-012,\n",
       "        5.29158712e-102, 0.00000000e+000, 0.00000000e+000,\n",
       "        0.00000000e+000, 0.00000000e+000, 0.00000000e+000,\n",
       "        0.00000000e+000, 0.00000000e+000, 0.00000000e+000,\n",
       "        0.00000000e+000, 0.00000000e+000, 0.00000000e+000,\n",
       "        0.00000000e+000, 0.00000000e+000, 0.00000000e+000,\n",
       "        0.00000000e+000, 0.00000000e+000, 0.00000000e+000,\n",
       "        0.00000000e+000, 0.00000000e+000, 0.00000000e+000,\n",
       "        0.00000000e+000, 0.00000000e+000, 0.00000000e+000,\n",
       "        0.00000000e+000],\n",
       "       [5.57422249e-006, 4.02781413e-002, 4.95436297e-001,\n",
       "        4.64279988e-001, 1.53528664e-014, 2.01257531e-060,\n",
       "        1.73666358e-235, 0.00000000e+000, 0.00000000e+000,\n",
       "        0.00000000e+000, 0.00000000e+000, 0.00000000e+000,\n",
       "        0.00000000e+000, 0.00000000e+000, 0.00000000e+000,\n",
       "        0.00000000e+000, 0.00000000e+000, 0.00000000e+000,\n",
       "        0.00000000e+000, 0.00000000e+000, 0.00000000e+000,\n",
       "        0.00000000e+000, 0.00000000e+000, 0.00000000e+000,\n",
       "        0.00000000e+000, 0.00000000e+000, 0.00000000e+000,\n",
       "        0.00000000e+000],\n",
       "       [9.82961579e-001, 1.70384209e-002, 5.40855313e-061,\n",
       "        0.00000000e+000, 0.00000000e+000, 0.00000000e+000,\n",
       "        0.00000000e+000, 0.00000000e+000, 0.00000000e+000,\n",
       "        0.00000000e+000, 0.00000000e+000, 0.00000000e+000,\n",
       "        0.00000000e+000, 0.00000000e+000, 0.00000000e+000,\n",
       "        0.00000000e+000, 0.00000000e+000, 0.00000000e+000,\n",
       "        0.00000000e+000, 0.00000000e+000, 0.00000000e+000,\n",
       "        0.00000000e+000, 0.00000000e+000, 0.00000000e+000,\n",
       "        0.00000000e+000, 0.00000000e+000, 0.00000000e+000,\n",
       "        0.00000000e+000],\n",
       "       [6.51105675e-005, 9.99717547e-001, 2.16525540e-004,\n",
       "        1.29679680e-008, 1.48113597e-014, 2.29273991e-015,\n",
       "        7.60637456e-022, 5.36815354e-050, 1.55345179e-101,\n",
       "        1.43353410e-042, 2.51247807e-039, 1.66380598e-075,\n",
       "        2.56220448e-128, 3.52711257e-054, 8.04115587e-007,\n",
       "        5.36211633e-044, 1.47549837e-254, 3.89157460e-034,\n",
       "        0.00000000e+000, 0.00000000e+000, 0.00000000e+000,\n",
       "        0.00000000e+000, 0.00000000e+000, 0.00000000e+000,\n",
       "        5.78944702e-063, 0.00000000e+000, 0.00000000e+000,\n",
       "        0.00000000e+000],\n",
       "       [1.69824105e-003, 9.98045003e-001, 2.56756151e-004,\n",
       "        1.44987934e-047, 1.45161830e-228, 0.00000000e+000,\n",
       "        0.00000000e+000, 0.00000000e+000, 0.00000000e+000,\n",
       "        0.00000000e+000, 0.00000000e+000, 0.00000000e+000,\n",
       "        0.00000000e+000, 0.00000000e+000, 0.00000000e+000,\n",
       "        0.00000000e+000, 0.00000000e+000, 0.00000000e+000,\n",
       "        0.00000000e+000, 0.00000000e+000, 0.00000000e+000,\n",
       "        0.00000000e+000, 0.00000000e+000, 0.00000000e+000,\n",
       "        0.00000000e+000, 0.00000000e+000, 0.00000000e+000,\n",
       "        0.00000000e+000],\n",
       "       [1.40162693e-005, 6.16062516e-002, 9.38377022e-001,\n",
       "        2.71048493e-006, 3.51647467e-045, 1.18351149e-147,\n",
       "        0.00000000e+000, 0.00000000e+000, 0.00000000e+000,\n",
       "        0.00000000e+000, 0.00000000e+000, 0.00000000e+000,\n",
       "        0.00000000e+000, 0.00000000e+000, 0.00000000e+000,\n",
       "        0.00000000e+000, 0.00000000e+000, 0.00000000e+000,\n",
       "        0.00000000e+000, 0.00000000e+000, 0.00000000e+000,\n",
       "        0.00000000e+000, 0.00000000e+000, 0.00000000e+000,\n",
       "        0.00000000e+000, 0.00000000e+000, 0.00000000e+000,\n",
       "        0.00000000e+000],\n",
       "       [9.99635005e-001, 3.64994535e-004, 4.03927762e-086,\n",
       "        0.00000000e+000, 0.00000000e+000, 0.00000000e+000,\n",
       "        0.00000000e+000, 0.00000000e+000, 0.00000000e+000,\n",
       "        0.00000000e+000, 0.00000000e+000, 0.00000000e+000,\n",
       "        0.00000000e+000, 0.00000000e+000, 0.00000000e+000,\n",
       "        0.00000000e+000, 0.00000000e+000, 0.00000000e+000,\n",
       "        0.00000000e+000, 0.00000000e+000, 0.00000000e+000,\n",
       "        0.00000000e+000, 0.00000000e+000, 0.00000000e+000,\n",
       "        0.00000000e+000, 0.00000000e+000, 0.00000000e+000,\n",
       "        0.00000000e+000],\n",
       "       [9.99998927e-001, 1.07305058e-006, 1.28235265e-126,\n",
       "        0.00000000e+000, 0.00000000e+000, 0.00000000e+000,\n",
       "        0.00000000e+000, 0.00000000e+000, 0.00000000e+000,\n",
       "        0.00000000e+000, 0.00000000e+000, 0.00000000e+000,\n",
       "        0.00000000e+000, 0.00000000e+000, 0.00000000e+000,\n",
       "        0.00000000e+000, 0.00000000e+000, 0.00000000e+000,\n",
       "        0.00000000e+000, 0.00000000e+000, 0.00000000e+000,\n",
       "        0.00000000e+000, 0.00000000e+000, 0.00000000e+000,\n",
       "        0.00000000e+000, 0.00000000e+000, 0.00000000e+000,\n",
       "        0.00000000e+000],\n",
       "       [7.06521723e-008, 8.90742050e-004, 3.75640673e-005,\n",
       "        4.46251474e-005, 2.53502389e-003, 9.96489021e-001,\n",
       "        2.95289769e-006, 3.83431780e-042, 7.75864448e-185,\n",
       "        3.00736711e-158, 4.79683691e-317, 0.00000000e+000,\n",
       "        0.00000000e+000, 0.00000000e+000, 0.00000000e+000,\n",
       "        0.00000000e+000, 0.00000000e+000, 0.00000000e+000,\n",
       "        0.00000000e+000, 0.00000000e+000, 0.00000000e+000,\n",
       "        0.00000000e+000, 0.00000000e+000, 0.00000000e+000,\n",
       "        0.00000000e+000, 0.00000000e+000, 0.00000000e+000,\n",
       "        0.00000000e+000]])"
      ]
     },
     "metadata": {},
     "execution_count": 341
    }
   ],
   "source": [
    "model.predict_proba(X_test[:10])"
   ]
  },
  {
   "cell_type": "code",
   "execution_count": 342,
   "metadata": {},
   "outputs": [
    {
     "output_type": "stream",
     "name": "stderr",
     "text": [
      "/Users/navamongkoltongta/opt/anaconda3/lib/python3.8/site-packages/sklearn/model_selection/_split.py:670: UserWarning: The least populated class in y has only 1 members, which is less than n_splits=5.\n  warnings.warn((\"The least populated class in y has only %d\"\n"
     ]
    },
    {
     "output_type": "execute_result",
     "data": {
      "text/plain": [
       "array([0.97876448, 0.99227799, 0.99034749, 0.98262548, 0.98069498])"
      ]
     },
     "metadata": {},
     "execution_count": 342
    }
   ],
   "source": [
    "from sklearn.model_selection import cross_val_score\n",
    "cross_val_score(GaussianNB(),X_train, y_train, cv=5)"
   ]
  },
  {
   "cell_type": "code",
   "execution_count": null,
   "metadata": {},
   "outputs": [],
   "source": []
  }
 ],
 "metadata": {
  "kernelspec": {
   "display_name": "Python 3",
   "language": "python",
   "name": "python3"
  },
  "language_info": {
   "codemirror_mode": {
    "name": "ipython",
    "version": 3
   },
   "file_extension": ".py",
   "mimetype": "text/x-python",
   "name": "python",
   "nbconvert_exporter": "python",
   "pygments_lexer": "ipython3",
   "version": "3.8.5-final"
  }
 },
 "nbformat": 4,
 "nbformat_minor": 4
}