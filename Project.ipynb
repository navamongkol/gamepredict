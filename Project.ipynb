{
 "cells": [
  {
   "cell_type": "code",
   "execution_count": 610,
   "metadata": {},
   "outputs": [],
   "source": [
    "#import\n",
    "import pandas as pd\n",
    "import numpy as np\n",
    "\n",
    "from sklearn.model_selection import train_test_split\n",
    "from sklearn.metrics import classification_report\n",
    "from sklearn.preprocessing import OrdinalEncoder\n",
    "\n",
    "from sklearn.naive_bayes import GaussianNB\n"
   ]
  },
  {
   "cell_type": "code",
   "execution_count": 611,
   "metadata": {},
   "outputs": [],
   "source": [
    "#read_csv\n",
    "df = pd.read_csv('/Users/navamongkoltongta/OneDrive - Assumption University/Year2.2/Data Science/Project/vgsales.csv')"
   ]
  },
  {
   "cell_type": "code",
   "execution_count": 612,
   "metadata": {},
   "outputs": [],
   "source": [
    "#drop_unneccessary_column\n",
    "df.drop(columns=['NA_Sales','EU_Sales','JP_Sales','Other_Sales'], inplace=True)"
   ]
  },
  {
   "cell_type": "code",
   "execution_count": 613,
   "metadata": {},
   "outputs": [
    {
     "output_type": "execute_result",
     "data": {
      "text/plain": [
       "Rank            16598\n",
       "Name            16598\n",
       "Platform        16598\n",
       "Year            16327\n",
       "Genre           16598\n",
       "Publisher       16540\n",
       "Global_Sales    16598\n",
       "dtype: int64"
      ]
     },
     "metadata": {},
     "execution_count": 613
    }
   ],
   "source": [
    "df.count()"
   ]
  },
  {
   "cell_type": "code",
   "execution_count": 614,
   "metadata": {},
   "outputs": [],
   "source": [
    "df.dropna(how='any',subset=['Year','Publisher'],inplace=True)"
   ]
  },
  {
   "cell_type": "code",
   "execution_count": 615,
   "metadata": {},
   "outputs": [
    {
     "output_type": "execute_result",
     "data": {
      "text/plain": [
       "Empty DataFrame\n",
       "Columns: [Rank, Name, Platform, Year, Genre, Publisher, Global_Sales]\n",
       "Index: []"
      ],
      "text/html": "<div>\n<style scoped>\n    .dataframe tbody tr th:only-of-type {\n        vertical-align: middle;\n    }\n\n    .dataframe tbody tr th {\n        vertical-align: top;\n    }\n\n    .dataframe thead th {\n        text-align: right;\n    }\n</style>\n<table border=\"1\" class=\"dataframe\">\n  <thead>\n    <tr style=\"text-align: right;\">\n      <th></th>\n      <th>Rank</th>\n      <th>Name</th>\n      <th>Platform</th>\n      <th>Year</th>\n      <th>Genre</th>\n      <th>Publisher</th>\n      <th>Global_Sales</th>\n    </tr>\n  </thead>\n  <tbody>\n  </tbody>\n</table>\n</div>"
     },
     "metadata": {},
     "execution_count": 615
    }
   ],
   "source": [
    "df[df['Publisher'].isnull()]"
   ]
  },
  {
   "cell_type": "code",
   "execution_count": 616,
   "metadata": {},
   "outputs": [
    {
     "output_type": "execute_result",
     "data": {
      "text/plain": [
       "Rank            0\n",
       "Name            0\n",
       "Platform        0\n",
       "Year            0\n",
       "Genre           0\n",
       "Publisher       0\n",
       "Global_Sales    0\n",
       "dtype: int64"
      ]
     },
     "metadata": {},
     "execution_count": 616
    }
   ],
   "source": [
    "df.isnull().sum()"
   ]
  },
  {
   "cell_type": "code",
   "execution_count": 617,
   "metadata": {},
   "outputs": [
    {
     "output_type": "execute_result",
     "data": {
      "text/plain": [
       "Rank            16291\n",
       "Name            16291\n",
       "Platform        16291\n",
       "Year            16291\n",
       "Genre           16291\n",
       "Publisher       16291\n",
       "Global_Sales    16291\n",
       "dtype: int64"
      ]
     },
     "metadata": {},
     "execution_count": 617
    }
   ],
   "source": [
    "df.count()"
   ]
  },
  {
   "cell_type": "code",
   "execution_count": 618,
   "metadata": {},
   "outputs": [
    {
     "output_type": "execute_result",
     "data": {
      "text/plain": [
       "               Rank          Year  Global_Sales\n",
       "count  16291.000000  16291.000000  16291.000000\n",
       "mean    8290.190228   2006.405561      0.540910\n",
       "std     4792.654450      5.832412      1.567345\n",
       "min        1.000000   1980.000000      0.010000\n",
       "25%     4132.500000   2003.000000      0.060000\n",
       "50%     8292.000000   2007.000000      0.170000\n",
       "75%    12439.500000   2010.000000      0.480000\n",
       "max    16600.000000   2020.000000     82.740000"
      ],
      "text/html": "<div>\n<style scoped>\n    .dataframe tbody tr th:only-of-type {\n        vertical-align: middle;\n    }\n\n    .dataframe tbody tr th {\n        vertical-align: top;\n    }\n\n    .dataframe thead th {\n        text-align: right;\n    }\n</style>\n<table border=\"1\" class=\"dataframe\">\n  <thead>\n    <tr style=\"text-align: right;\">\n      <th></th>\n      <th>Rank</th>\n      <th>Year</th>\n      <th>Global_Sales</th>\n    </tr>\n  </thead>\n  <tbody>\n    <tr>\n      <th>count</th>\n      <td>16291.000000</td>\n      <td>16291.000000</td>\n      <td>16291.000000</td>\n    </tr>\n    <tr>\n      <th>mean</th>\n      <td>8290.190228</td>\n      <td>2006.405561</td>\n      <td>0.540910</td>\n    </tr>\n    <tr>\n      <th>std</th>\n      <td>4792.654450</td>\n      <td>5.832412</td>\n      <td>1.567345</td>\n    </tr>\n    <tr>\n      <th>min</th>\n      <td>1.000000</td>\n      <td>1980.000000</td>\n      <td>0.010000</td>\n    </tr>\n    <tr>\n      <th>25%</th>\n      <td>4132.500000</td>\n      <td>2003.000000</td>\n      <td>0.060000</td>\n    </tr>\n    <tr>\n      <th>50%</th>\n      <td>8292.000000</td>\n      <td>2007.000000</td>\n      <td>0.170000</td>\n    </tr>\n    <tr>\n      <th>75%</th>\n      <td>12439.500000</td>\n      <td>2010.000000</td>\n      <td>0.480000</td>\n    </tr>\n    <tr>\n      <th>max</th>\n      <td>16600.000000</td>\n      <td>2020.000000</td>\n      <td>82.740000</td>\n    </tr>\n  </tbody>\n</table>\n</div>"
     },
     "metadata": {},
     "execution_count": 618
    }
   ],
   "source": [
    "df.describe()"
   ]
  },
  {
   "cell_type": "code",
   "execution_count": 619,
   "metadata": {},
   "outputs": [
    {
     "output_type": "execute_result",
     "data": {
      "text/plain": [
       "        Rank                                            Name Platform    Year  \\\n",
       "6687    6689                                Wheel of Fortune      N64  1997.0   \n",
       "12845  12847             Lernerfolg Vorschule: Capt'n Sharky       DS  2009.0   \n",
       "12811  12813  Sled Shred featuring the Jamaican Bobsled Team      Wii  2010.0   \n",
       "4581    4583                                      Dog's Life      PS2  2003.0   \n",
       "6623    6625                Romance of the Three Kingdoms II     SNES  1991.0   \n",
       "\n",
       "           Genre                    Publisher  Global_Sales  Sales_level  \n",
       "6687        Misc         Take-Two Interactive          0.25          0.0  \n",
       "12845       Misc                       Tivola          0.05          0.0  \n",
       "12811     Sports              SouthPeak Games          0.06          0.0  \n",
       "4581   Adventure  Sony Computer Entertainment          0.42          0.0  \n",
       "6623    Strategy                   Tecmo Koei          0.25          0.0  "
      ],
      "text/html": "<div>\n<style scoped>\n    .dataframe tbody tr th:only-of-type {\n        vertical-align: middle;\n    }\n\n    .dataframe tbody tr th {\n        vertical-align: top;\n    }\n\n    .dataframe thead th {\n        text-align: right;\n    }\n</style>\n<table border=\"1\" class=\"dataframe\">\n  <thead>\n    <tr style=\"text-align: right;\">\n      <th></th>\n      <th>Rank</th>\n      <th>Name</th>\n      <th>Platform</th>\n      <th>Year</th>\n      <th>Genre</th>\n      <th>Publisher</th>\n      <th>Global_Sales</th>\n      <th>Sales_level</th>\n    </tr>\n  </thead>\n  <tbody>\n    <tr>\n      <th>6687</th>\n      <td>6689</td>\n      <td>Wheel of Fortune</td>\n      <td>N64</td>\n      <td>1997.0</td>\n      <td>Misc</td>\n      <td>Take-Two Interactive</td>\n      <td>0.25</td>\n      <td>0.0</td>\n    </tr>\n    <tr>\n      <th>12845</th>\n      <td>12847</td>\n      <td>Lernerfolg Vorschule: Capt'n Sharky</td>\n      <td>DS</td>\n      <td>2009.0</td>\n      <td>Misc</td>\n      <td>Tivola</td>\n      <td>0.05</td>\n      <td>0.0</td>\n    </tr>\n    <tr>\n      <th>12811</th>\n      <td>12813</td>\n      <td>Sled Shred featuring the Jamaican Bobsled Team</td>\n      <td>Wii</td>\n      <td>2010.0</td>\n      <td>Sports</td>\n      <td>SouthPeak Games</td>\n      <td>0.06</td>\n      <td>0.0</td>\n    </tr>\n    <tr>\n      <th>4581</th>\n      <td>4583</td>\n      <td>Dog's Life</td>\n      <td>PS2</td>\n      <td>2003.0</td>\n      <td>Adventure</td>\n      <td>Sony Computer Entertainment</td>\n      <td>0.42</td>\n      <td>0.0</td>\n    </tr>\n    <tr>\n      <th>6623</th>\n      <td>6625</td>\n      <td>Romance of the Three Kingdoms II</td>\n      <td>SNES</td>\n      <td>1991.0</td>\n      <td>Strategy</td>\n      <td>Tecmo Koei</td>\n      <td>0.25</td>\n      <td>0.0</td>\n    </tr>\n  </tbody>\n</table>\n</div>"
     },
     "metadata": {},
     "execution_count": 619
    }
   ],
   "source": [
    "#create new column level of global sales\n",
    "df.loc[df['Global_Sales'].between(10.0,100), 'Sales_level'] = 3\n",
    "df.loc[df['Global_Sales'].between(1,9.9), 'Sales_level'] = 2\n",
    "df.loc[df['Global_Sales'].between(0.5377441,0.999), 'Sales_level'] = 1\n",
    "df.loc[df['Global_Sales'] < 0.5377441, 'Sales_level'] = 0\n",
    "\n",
    "df.sample(5)\n"
   ]
  },
  {
   "cell_type": "code",
   "execution_count": 621,
   "metadata": {},
   "outputs": [
    {
     "output_type": "execute_result",
     "data": {
      "text/plain": [
       "Action          3251\n",
       "Sports          2304\n",
       "Misc            1686\n",
       "Role-Playing    1470\n",
       "Shooter         1282\n",
       "Adventure       1274\n",
       "Racing          1225\n",
       "Platform         875\n",
       "Simulation       848\n",
       "Fighting         836\n",
       "Strategy         670\n",
       "Puzzle           570\n",
       "Name: Genre, dtype: int64"
      ]
     },
     "metadata": {},
     "execution_count": 621
    }
   ],
   "source": [
    "#See all Genre\n",
    "df.Genre.value_counts()"
   ]
  },
  {
   "cell_type": "code",
   "execution_count": 622,
   "metadata": {},
   "outputs": [
    {
     "output_type": "execute_result",
     "data": {
      "text/plain": [
       "DS      2131\n",
       "PS2     2127\n",
       "PS3     1304\n",
       "Wii     1290\n",
       "X360    1234\n",
       "PSP     1197\n",
       "PS      1189\n",
       "PC       938\n",
       "XB       803\n",
       "GBA      786\n",
       "GC       542\n",
       "3DS      499\n",
       "PSV      410\n",
       "PS4      336\n",
       "N64      316\n",
       "SNES     239\n",
       "XOne     213\n",
       "SAT      173\n",
       "WiiU     143\n",
       "2600     116\n",
       "NES       98\n",
       "GB        97\n",
       "DC        52\n",
       "GEN       27\n",
       "NG        12\n",
       "SCD        6\n",
       "WS         6\n",
       "3DO        3\n",
       "TG16       2\n",
       "GG         1\n",
       "PCFX       1\n",
       "Name: Platform, dtype: int64"
      ]
     },
     "metadata": {},
     "execution_count": 622
    }
   ],
   "source": [
    "#See all Platform\n",
    "df.Platform.value_counts()"
   ]
  },
  {
   "cell_type": "code",
   "execution_count": 623,
   "metadata": {},
   "outputs": [
    {
     "output_type": "execute_result",
     "data": {
      "text/plain": [
       "        Rank                                               Name Platform  \\\n",
       "14370  14373                                    Starsky & Hutch      GBA   \n",
       "11178  11180                                 Escape Dead Island     X360   \n",
       "10968  10970                                Kawasaki Quad Bikes      Wii   \n",
       "843      845                                      Forza Horizon     X360   \n",
       "6385    6387  Dora the Explorer: Dora Saves the Crystal Kingdom      Wii   \n",
       "8398    8400                 Batman Beyond: Return of the Joker       PS   \n",
       "14219  14222                     Call of Juarez: Bound in Blood       PC   \n",
       "5718    5720             Sesame Street: Elmo's Letter Adventure       PS   \n",
       "11151  11153                   Digimon World Re:Digitize Decode      3DS   \n",
       "9700    9702                          Homefront: The Revolution     XOne   \n",
       "\n",
       "         Year         Genre                Publisher  Global_Sales  \\\n",
       "14370  2003.0        Racing       Empire Interactive          0.03   \n",
       "11178  2014.0        Action              Deep Silver          0.09   \n",
       "10968  2007.0        Racing  Data Design Interactive          0.09   \n",
       "843    2012.0        Racing   Microsoft Game Studios          2.02   \n",
       "6385   2009.0          Misc     Take-Two Interactive          0.27   \n",
       "8398   2000.0        Action                  Ubisoft          0.17   \n",
       "14219  2009.0       Shooter                  Ubisoft          0.03   \n",
       "5718   1998.0          Misc                 NewKidCo          0.31   \n",
       "11151  2013.0  Role-Playing       Namco Bandai Games          0.09   \n",
       "9700   2016.0       Shooter              Deep Silver          0.12   \n",
       "\n",
       "       Sales_level  PlatformId  \n",
       "14370          0.0        10.0  \n",
       "11178          0.0         5.0  \n",
       "10968          0.0         4.0  \n",
       "843            2.0         5.0  \n",
       "6385           0.0         4.0  \n",
       "8398           0.0         7.0  \n",
       "14219          0.0         8.0  \n",
       "5718           0.0         7.0  \n",
       "11151          0.0        12.0  \n",
       "9700           0.0        17.0  "
      ],
      "text/html": "<div>\n<style scoped>\n    .dataframe tbody tr th:only-of-type {\n        vertical-align: middle;\n    }\n\n    .dataframe tbody tr th {\n        vertical-align: top;\n    }\n\n    .dataframe thead th {\n        text-align: right;\n    }\n</style>\n<table border=\"1\" class=\"dataframe\">\n  <thead>\n    <tr style=\"text-align: right;\">\n      <th></th>\n      <th>Rank</th>\n      <th>Name</th>\n      <th>Platform</th>\n      <th>Year</th>\n      <th>Genre</th>\n      <th>Publisher</th>\n      <th>Global_Sales</th>\n      <th>Sales_level</th>\n      <th>PlatformId</th>\n    </tr>\n  </thead>\n  <tbody>\n    <tr>\n      <th>14370</th>\n      <td>14373</td>\n      <td>Starsky &amp; Hutch</td>\n      <td>GBA</td>\n      <td>2003.0</td>\n      <td>Racing</td>\n      <td>Empire Interactive</td>\n      <td>0.03</td>\n      <td>0.0</td>\n      <td>10.0</td>\n    </tr>\n    <tr>\n      <th>11178</th>\n      <td>11180</td>\n      <td>Escape Dead Island</td>\n      <td>X360</td>\n      <td>2014.0</td>\n      <td>Action</td>\n      <td>Deep Silver</td>\n      <td>0.09</td>\n      <td>0.0</td>\n      <td>5.0</td>\n    </tr>\n    <tr>\n      <th>10968</th>\n      <td>10970</td>\n      <td>Kawasaki Quad Bikes</td>\n      <td>Wii</td>\n      <td>2007.0</td>\n      <td>Racing</td>\n      <td>Data Design Interactive</td>\n      <td>0.09</td>\n      <td>0.0</td>\n      <td>4.0</td>\n    </tr>\n    <tr>\n      <th>843</th>\n      <td>845</td>\n      <td>Forza Horizon</td>\n      <td>X360</td>\n      <td>2012.0</td>\n      <td>Racing</td>\n      <td>Microsoft Game Studios</td>\n      <td>2.02</td>\n      <td>2.0</td>\n      <td>5.0</td>\n    </tr>\n    <tr>\n      <th>6385</th>\n      <td>6387</td>\n      <td>Dora the Explorer: Dora Saves the Crystal Kingdom</td>\n      <td>Wii</td>\n      <td>2009.0</td>\n      <td>Misc</td>\n      <td>Take-Two Interactive</td>\n      <td>0.27</td>\n      <td>0.0</td>\n      <td>4.0</td>\n    </tr>\n    <tr>\n      <th>8398</th>\n      <td>8400</td>\n      <td>Batman Beyond: Return of the Joker</td>\n      <td>PS</td>\n      <td>2000.0</td>\n      <td>Action</td>\n      <td>Ubisoft</td>\n      <td>0.17</td>\n      <td>0.0</td>\n      <td>7.0</td>\n    </tr>\n    <tr>\n      <th>14219</th>\n      <td>14222</td>\n      <td>Call of Juarez: Bound in Blood</td>\n      <td>PC</td>\n      <td>2009.0</td>\n      <td>Shooter</td>\n      <td>Ubisoft</td>\n      <td>0.03</td>\n      <td>0.0</td>\n      <td>8.0</td>\n    </tr>\n    <tr>\n      <th>5718</th>\n      <td>5720</td>\n      <td>Sesame Street: Elmo's Letter Adventure</td>\n      <td>PS</td>\n      <td>1998.0</td>\n      <td>Misc</td>\n      <td>NewKidCo</td>\n      <td>0.31</td>\n      <td>0.0</td>\n      <td>7.0</td>\n    </tr>\n    <tr>\n      <th>11151</th>\n      <td>11153</td>\n      <td>Digimon World Re:Digitize Decode</td>\n      <td>3DS</td>\n      <td>2013.0</td>\n      <td>Role-Playing</td>\n      <td>Namco Bandai Games</td>\n      <td>0.09</td>\n      <td>0.0</td>\n      <td>12.0</td>\n    </tr>\n    <tr>\n      <th>9700</th>\n      <td>9702</td>\n      <td>Homefront: The Revolution</td>\n      <td>XOne</td>\n      <td>2016.0</td>\n      <td>Shooter</td>\n      <td>Deep Silver</td>\n      <td>0.12</td>\n      <td>0.0</td>\n      <td>17.0</td>\n    </tr>\n  </tbody>\n</table>\n</div>"
     },
     "metadata": {},
     "execution_count": 623
    }
   ],
   "source": [
    "#Sort platform to num\n",
    "df.loc[df['Platform'] == 'DS', 'PlatformId'] = 1 \n",
    "df.loc[df['Platform'] == 'PS2', 'PlatformId'] = 2\n",
    "df.loc[df['Platform'] == 'PS3', 'PlatformId'] = 3 \n",
    "df.loc[df['Platform'] == 'Wii', 'PlatformId'] = 4 \n",
    "df.loc[df['Platform'] == 'X360', 'PlatformId'] = 5 \n",
    "df.loc[df['Platform'] == 'PSP', 'PlatformId'] = 6 \n",
    "df.loc[df['Platform'] == 'PS', 'PlatformId'] = 7 \n",
    "df.loc[df['Platform'] == 'PC', 'PlatformId'] = 8 \n",
    "df.loc[df['Platform'] == 'XB', 'PlatformId'] = 9\n",
    "df.loc[df['Platform'] == 'GBA', 'PlatformId'] = 10\n",
    "df.loc[df['Platform'] == 'GC', 'PlatformId'] = 11\n",
    "df.loc[df['Platform'] == '3DS', 'PlatformId'] = 12\n",
    "df.loc[df['Platform'] == 'PSV', 'PlatformId'] = 13\n",
    "df.loc[df['Platform'] == 'PS4', 'PlatformId'] = 14\n",
    "df.loc[df['Platform'] == 'N64', 'PlatformId'] = 15\n",
    "df.loc[df['Platform'] == 'SNES', 'PlatformId'] = 16\n",
    "df.loc[df['Platform'] == 'XOne', 'PlatformId'] = 17\n",
    "df.loc[df['Platform'] == 'SAT', 'PlatformId'] = 18\n",
    "df.loc[df['Platform'] == 'WiiU', 'PlatformId'] = 19\n",
    "df.loc[df['Platform'] == '2600', 'PlatformId'] = 20\n",
    "df.loc[df['Platform'] == 'NES', 'PlatformId'] = 21\n",
    "df.loc[df['Platform'] == 'GB', 'PlatformId'] = 22\n",
    "df.loc[df['Platform'] == 'DC', 'PlatformId'] = 23\n",
    "df.loc[df['Platform'] == 'GEN', 'PlatformId'] = 24\n",
    "df.loc[df['Platform'] == 'NG', 'PlatformId'] = 25\n",
    "df.loc[df['Platform'] == 'SCD', 'PlatformId'] = 26\n",
    "df.loc[df['Platform'] == 'WS', 'PlatformId'] = 27\n",
    "df.loc[df['Platform'] == '3DO', 'PlatformId'] = 28\n",
    "df.loc[df['Platform'] == 'TG16', 'PlatformId'] = 39\n",
    "df.loc[df['Platform'] == 'GG', 'PlatformId'] = 30\n",
    "df.loc[df['Platform'] == 'PCFX', 'PlatformId'] = 31\n",
    "\n",
    "df.sample(10)\n"
   ]
  },
  {
   "cell_type": "code",
   "execution_count": 624,
   "metadata": {},
   "outputs": [
    {
     "output_type": "execute_result",
     "data": {
      "text/plain": [
       "        Rank                                              Name Platform  \\\n",
       "15525  15528          Teenage Mutant Ninja Turtles Double Pack      GBA   \n",
       "1595    1597      Tom Clancy's Splinter Cell: Pandora Tomorrow      PS2   \n",
       "7069    7071                                     WWE All Stars      3DS   \n",
       "5348    5350                UEFA Euro 2008 Austria-Switzerland     X360   \n",
       "13295  13297                ESPN Great Outdoor Games Bass 2002      GBA   \n",
       "12581  12583  Teenage Mutant Ninja Turtles 3: Mutant Nightmare       DS   \n",
       "6676    6678                                            NHL 06       XB   \n",
       "5480    5482                                NCAA Basketball 10      PS3   \n",
       "296      297                                       Star Fox 64      N64   \n",
       "2004    2006                                      Project CARS      PS4   \n",
       "\n",
       "         Year     Genre                     Publisher  Global_Sales  \\\n",
       "15525  2006.0    Action  Konami Digital Entertainment          0.02   \n",
       "1595   2004.0    Action                       Ubisoft          1.25   \n",
       "7069   2011.0  Fighting                           THQ          0.23   \n",
       "5348   2008.0    Sports               Electronic Arts          0.35   \n",
       "13295  2001.0    Sports  Konami Digital Entertainment          0.05   \n",
       "12581  2005.0    Action  Konami Digital Entertainment          0.06   \n",
       "6676   2005.0    Sports               Electronic Arts          0.25   \n",
       "5480   2009.0    Sports               Electronic Arts          0.33   \n",
       "296    1997.0   Shooter                      Nintendo          4.03   \n",
       "2004   2015.0    Racing          Slightly Mad Studios          1.04   \n",
       "\n",
       "       Sales_level  PlatformId  GenreId  \n",
       "15525          0.0        10.0      1.0  \n",
       "1595           2.0         2.0      1.0  \n",
       "7069           0.0        12.0      8.0  \n",
       "5348           0.0         5.0      2.0  \n",
       "13295          0.0        10.0      2.0  \n",
       "12581          0.0         1.0      1.0  \n",
       "6676           0.0         9.0      2.0  \n",
       "5480           0.0         3.0      2.0  \n",
       "296            2.0        15.0      3.0  \n",
       "2004           2.0        14.0      6.0  "
      ],
      "text/html": "<div>\n<style scoped>\n    .dataframe tbody tr th:only-of-type {\n        vertical-align: middle;\n    }\n\n    .dataframe tbody tr th {\n        vertical-align: top;\n    }\n\n    .dataframe thead th {\n        text-align: right;\n    }\n</style>\n<table border=\"1\" class=\"dataframe\">\n  <thead>\n    <tr style=\"text-align: right;\">\n      <th></th>\n      <th>Rank</th>\n      <th>Name</th>\n      <th>Platform</th>\n      <th>Year</th>\n      <th>Genre</th>\n      <th>Publisher</th>\n      <th>Global_Sales</th>\n      <th>Sales_level</th>\n      <th>PlatformId</th>\n      <th>GenreId</th>\n    </tr>\n  </thead>\n  <tbody>\n    <tr>\n      <th>15525</th>\n      <td>15528</td>\n      <td>Teenage Mutant Ninja Turtles Double Pack</td>\n      <td>GBA</td>\n      <td>2006.0</td>\n      <td>Action</td>\n      <td>Konami Digital Entertainment</td>\n      <td>0.02</td>\n      <td>0.0</td>\n      <td>10.0</td>\n      <td>1.0</td>\n    </tr>\n    <tr>\n      <th>1595</th>\n      <td>1597</td>\n      <td>Tom Clancy's Splinter Cell: Pandora Tomorrow</td>\n      <td>PS2</td>\n      <td>2004.0</td>\n      <td>Action</td>\n      <td>Ubisoft</td>\n      <td>1.25</td>\n      <td>2.0</td>\n      <td>2.0</td>\n      <td>1.0</td>\n    </tr>\n    <tr>\n      <th>7069</th>\n      <td>7071</td>\n      <td>WWE All Stars</td>\n      <td>3DS</td>\n      <td>2011.0</td>\n      <td>Fighting</td>\n      <td>THQ</td>\n      <td>0.23</td>\n      <td>0.0</td>\n      <td>12.0</td>\n      <td>8.0</td>\n    </tr>\n    <tr>\n      <th>5348</th>\n      <td>5350</td>\n      <td>UEFA Euro 2008 Austria-Switzerland</td>\n      <td>X360</td>\n      <td>2008.0</td>\n      <td>Sports</td>\n      <td>Electronic Arts</td>\n      <td>0.35</td>\n      <td>0.0</td>\n      <td>5.0</td>\n      <td>2.0</td>\n    </tr>\n    <tr>\n      <th>13295</th>\n      <td>13297</td>\n      <td>ESPN Great Outdoor Games Bass 2002</td>\n      <td>GBA</td>\n      <td>2001.0</td>\n      <td>Sports</td>\n      <td>Konami Digital Entertainment</td>\n      <td>0.05</td>\n      <td>0.0</td>\n      <td>10.0</td>\n      <td>2.0</td>\n    </tr>\n    <tr>\n      <th>12581</th>\n      <td>12583</td>\n      <td>Teenage Mutant Ninja Turtles 3: Mutant Nightmare</td>\n      <td>DS</td>\n      <td>2005.0</td>\n      <td>Action</td>\n      <td>Konami Digital Entertainment</td>\n      <td>0.06</td>\n      <td>0.0</td>\n      <td>1.0</td>\n      <td>1.0</td>\n    </tr>\n    <tr>\n      <th>6676</th>\n      <td>6678</td>\n      <td>NHL 06</td>\n      <td>XB</td>\n      <td>2005.0</td>\n      <td>Sports</td>\n      <td>Electronic Arts</td>\n      <td>0.25</td>\n      <td>0.0</td>\n      <td>9.0</td>\n      <td>2.0</td>\n    </tr>\n    <tr>\n      <th>5480</th>\n      <td>5482</td>\n      <td>NCAA Basketball 10</td>\n      <td>PS3</td>\n      <td>2009.0</td>\n      <td>Sports</td>\n      <td>Electronic Arts</td>\n      <td>0.33</td>\n      <td>0.0</td>\n      <td>3.0</td>\n      <td>2.0</td>\n    </tr>\n    <tr>\n      <th>296</th>\n      <td>297</td>\n      <td>Star Fox 64</td>\n      <td>N64</td>\n      <td>1997.0</td>\n      <td>Shooter</td>\n      <td>Nintendo</td>\n      <td>4.03</td>\n      <td>2.0</td>\n      <td>15.0</td>\n      <td>3.0</td>\n    </tr>\n    <tr>\n      <th>2004</th>\n      <td>2006</td>\n      <td>Project CARS</td>\n      <td>PS4</td>\n      <td>2015.0</td>\n      <td>Racing</td>\n      <td>Slightly Mad Studios</td>\n      <td>1.04</td>\n      <td>2.0</td>\n      <td>14.0</td>\n      <td>6.0</td>\n    </tr>\n  </tbody>\n</table>\n</div>"
     },
     "metadata": {},
     "execution_count": 624
    }
   ],
   "source": [
    "#Sort Genre to num\n",
    "df.loc[df['Genre'] == 'Action', 'GenreId'] = 1 \n",
    "df.loc[df['Genre'] == 'Sports', 'GenreId'] = 2\n",
    "df.loc[df['Genre'] == 'Shooter', 'GenreId'] = 3 \n",
    "df.loc[df['Genre'] == 'Role-Playing', 'GenreId'] = 4 \n",
    "df.loc[df['Genre'] == 'Misc', 'GenreId'] = 5 \n",
    "df.loc[df['Genre'] == 'Racing', 'GenreId'] = 6 \n",
    "df.loc[df['Genre'] == 'Platform', 'GenreId'] = 7 \n",
    "df.loc[df['Genre'] == 'Fighting', 'GenreId'] = 8 \n",
    "df.loc[df['Genre'] == 'Simulation', 'GenreId'] = 9 \n",
    "df.loc[df['Genre'] == 'Puzzle', 'GenreId'] = 10 \n",
    "df.loc[df['Genre'] == 'Adventure', 'GenreId'] = 11 \n",
    "df.loc[df['Genre'] == 'Strategy', 'GenreId'] = 12 \n",
    "\n",
    "df.sample(10)\n",
    "\n"
   ]
  },
  {
   "cell_type": "code",
   "execution_count": 625,
   "metadata": {},
   "outputs": [],
   "source": [
    "#Define X and Y\n",
    "inputs = df.drop('Sales_level',axis='columns')\n",
    "target = df.Sales_level"
   ]
  },
  {
   "cell_type": "code",
   "execution_count": 626,
   "metadata": {},
   "outputs": [],
   "source": [
    "# inputs = pd.concat([inputs,GenreId],axis='columns')\n",
    "# inputs.head(5)\n"
   ]
  },
  {
   "cell_type": "code",
   "execution_count": 627,
   "metadata": {},
   "outputs": [
    {
     "output_type": "execute_result",
     "data": {
      "text/plain": [
       "     Year  PlatformId  GenreId\n",
       "0  2006.0         4.0      2.0\n",
       "1  1985.0        21.0      7.0\n",
       "2  2008.0         4.0      6.0\n",
       "3  2009.0         4.0      2.0\n",
       "4  1996.0        22.0      4.0"
      ],
      "text/html": "<div>\n<style scoped>\n    .dataframe tbody tr th:only-of-type {\n        vertical-align: middle;\n    }\n\n    .dataframe tbody tr th {\n        vertical-align: top;\n    }\n\n    .dataframe thead th {\n        text-align: right;\n    }\n</style>\n<table border=\"1\" class=\"dataframe\">\n  <thead>\n    <tr style=\"text-align: right;\">\n      <th></th>\n      <th>Year</th>\n      <th>PlatformId</th>\n      <th>GenreId</th>\n    </tr>\n  </thead>\n  <tbody>\n    <tr>\n      <th>0</th>\n      <td>2006.0</td>\n      <td>4.0</td>\n      <td>2.0</td>\n    </tr>\n    <tr>\n      <th>1</th>\n      <td>1985.0</td>\n      <td>21.0</td>\n      <td>7.0</td>\n    </tr>\n    <tr>\n      <th>2</th>\n      <td>2008.0</td>\n      <td>4.0</td>\n      <td>6.0</td>\n    </tr>\n    <tr>\n      <th>3</th>\n      <td>2009.0</td>\n      <td>4.0</td>\n      <td>2.0</td>\n    </tr>\n    <tr>\n      <th>4</th>\n      <td>1996.0</td>\n      <td>22.0</td>\n      <td>4.0</td>\n    </tr>\n  </tbody>\n</table>\n</div>"
     },
     "metadata": {},
     "execution_count": 627
    }
   ],
   "source": [
    "#Drop unused column\n",
    "inputs.drop(['Rank','Name','Platform','Publisher','Genre','Global_Sales'],axis='columns',inplace=True)\n",
    "inputs.head()"
   ]
  },
  {
   "cell_type": "code",
   "execution_count": 628,
   "metadata": {},
   "outputs": [],
   "source": [
    "#Define X and Y\n",
    "X = inputs.astype(int)\n",
    "Y = target.astype(int)\n",
    "X_train, X_test, y_train, y_test = train_test_split(X,Y,test_size=0.2)\n",
    "model = GaussianNB()"
   ]
  },
  {
   "cell_type": "code",
   "execution_count": 629,
   "metadata": {},
   "outputs": [
    {
     "output_type": "execute_result",
     "data": {
      "text/plain": [
       "       Year  PlatformId  GenreId\n",
       "14905  2007           1       11\n",
       "11187  2000           7        6\n",
       "6474   2005           6        6\n",
       "285    1992          16        8\n",
       "5762   2015          17        1\n",
       "15604  2009           1       10\n",
       "11158  2006           8       12\n",
       "4729   1999          15        1\n",
       "2465   2007           4        9\n",
       "12060  1996           7        9"
      ],
      "text/html": "<div>\n<style scoped>\n    .dataframe tbody tr th:only-of-type {\n        vertical-align: middle;\n    }\n\n    .dataframe tbody tr th {\n        vertical-align: top;\n    }\n\n    .dataframe thead th {\n        text-align: right;\n    }\n</style>\n<table border=\"1\" class=\"dataframe\">\n  <thead>\n    <tr style=\"text-align: right;\">\n      <th></th>\n      <th>Year</th>\n      <th>PlatformId</th>\n      <th>GenreId</th>\n    </tr>\n  </thead>\n  <tbody>\n    <tr>\n      <th>14905</th>\n      <td>2007</td>\n      <td>1</td>\n      <td>11</td>\n    </tr>\n    <tr>\n      <th>11187</th>\n      <td>2000</td>\n      <td>7</td>\n      <td>6</td>\n    </tr>\n    <tr>\n      <th>6474</th>\n      <td>2005</td>\n      <td>6</td>\n      <td>6</td>\n    </tr>\n    <tr>\n      <th>285</th>\n      <td>1992</td>\n      <td>16</td>\n      <td>8</td>\n    </tr>\n    <tr>\n      <th>5762</th>\n      <td>2015</td>\n      <td>17</td>\n      <td>1</td>\n    </tr>\n    <tr>\n      <th>15604</th>\n      <td>2009</td>\n      <td>1</td>\n      <td>10</td>\n    </tr>\n    <tr>\n      <th>11158</th>\n      <td>2006</td>\n      <td>8</td>\n      <td>12</td>\n    </tr>\n    <tr>\n      <th>4729</th>\n      <td>1999</td>\n      <td>15</td>\n      <td>1</td>\n    </tr>\n    <tr>\n      <th>2465</th>\n      <td>2007</td>\n      <td>4</td>\n      <td>9</td>\n    </tr>\n    <tr>\n      <th>12060</th>\n      <td>1996</td>\n      <td>7</td>\n      <td>9</td>\n    </tr>\n  </tbody>\n</table>\n</div>"
     },
     "metadata": {},
     "execution_count": 629
    }
   ],
   "source": [
    "X_test[0:10]"
   ]
  },
  {
   "cell_type": "code",
   "execution_count": 630,
   "metadata": {},
   "outputs": [
    {
     "output_type": "execute_result",
     "data": {
      "text/plain": [
       "GaussianNB()"
      ]
     },
     "metadata": {},
     "execution_count": 630
    }
   ],
   "source": [
    "model.fit(X_train,y_train)"
   ]
  },
  {
   "cell_type": "code",
   "execution_count": 631,
   "metadata": {},
   "outputs": [
    {
     "output_type": "execute_result",
     "data": {
      "text/plain": [
       "0.7686406873274011"
      ]
     },
     "metadata": {},
     "execution_count": 631
    }
   ],
   "source": [
    "model.score(X_test,y_test)"
   ]
  },
  {
   "cell_type": "code",
   "execution_count": 632,
   "metadata": {},
   "outputs": [
    {
     "output_type": "execute_result",
     "data": {
      "text/plain": [
       "array([0, 0, 0, 2, 0, 0, 0, 0, 0, 0])"
      ]
     },
     "metadata": {},
     "execution_count": 632
    }
   ],
   "source": [
    "model.predict(X_test[0:10])"
   ]
  },
  {
   "cell_type": "code",
   "execution_count": 633,
   "metadata": {},
   "outputs": [
    {
     "output_type": "execute_result",
     "data": {
      "text/plain": [
       "array([[9.15600616e-01, 4.86553689e-02, 3.53145762e-02, 4.29439189e-04],\n",
       "       [7.37978295e-01, 1.21510997e-01, 1.36066687e-01, 4.44402142e-03],\n",
       "       [8.04433782e-01, 1.03316621e-01, 8.92620000e-02, 2.98759678e-03],\n",
       "       [3.84584812e-01, 9.32351937e-02, 5.06028310e-01, 1.61516842e-02],\n",
       "       [6.68466508e-01, 9.01355329e-02, 2.34079823e-01, 7.31813690e-03],\n",
       "       [8.96394612e-01, 5.85750508e-02, 4.42434859e-02, 7.86851688e-04],\n",
       "       [9.36321989e-01, 3.77185038e-02, 2.57753229e-02, 1.84184385e-04],\n",
       "       [6.05425161e-01, 1.12678853e-01, 2.75335032e-01, 6.56095336e-03],\n",
       "       [8.76252243e-01, 7.04334780e-02, 5.21933328e-02, 1.12094663e-03],\n",
       "       [7.34046897e-01, 1.10642661e-01, 1.52212771e-01, 3.09767070e-03]])"
      ]
     },
     "metadata": {},
     "execution_count": 633
    }
   ],
   "source": [
    "model.predict_proba(X_test[:10])"
   ]
  },
  {
   "cell_type": "code",
   "execution_count": 634,
   "metadata": {},
   "outputs": [
    {
     "output_type": "execute_result",
     "data": {
      "text/plain": [
       "array([0.75949367, 0.75642501, 0.76669225, 0.76745971, 0.75901765])"
      ]
     },
     "metadata": {},
     "execution_count": 634
    }
   ],
   "source": [
    "from sklearn.model_selection import cross_val_score\n",
    "cross_val_score(GaussianNB(),X_train, y_train, cv=5)"
   ]
  }
 ],
 "metadata": {
  "kernelspec": {
   "display_name": "Python 3",
   "language": "python",
   "name": "python3"
  },
  "language_info": {
   "codemirror_mode": {
    "name": "ipython",
    "version": 3
   },
   "file_extension": ".py",
   "mimetype": "text/x-python",
   "name": "python",
   "nbconvert_exporter": "python",
   "pygments_lexer": "ipython3",
   "version": "3.8.5-final"
  }
 },
 "nbformat": 4,
 "nbformat_minor": 4
}