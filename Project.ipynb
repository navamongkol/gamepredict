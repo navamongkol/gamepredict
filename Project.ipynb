{
 "cells": [
  {
   "cell_type": "code",
   "execution_count": 1083,
   "metadata": {},
   "outputs": [],
   "source": [
    "#import\n",
    "import pandas as pd\n",
    "import numpy as np\n",
    "\n",
    "from sklearn.model_selection import train_test_split\n",
    "from sklearn.metrics import classification_report\n",
    "from sklearn.preprocessing import OrdinalEncoder\n",
    "\n",
    "from sklearn.naive_bayes import GaussianNB\n"
   ]
  },
  {
   "cell_type": "code",
   "execution_count": 1084,
   "metadata": {},
   "outputs": [],
   "source": [
    "#read_csv\n",
    "df = pd.read_csv('/Users/navamongkoltongta/OneDrive - Assumption University/Year2.2/Data Science/Project/vgsales.csv')"
   ]
  },
  {
   "cell_type": "code",
   "execution_count": 1085,
   "metadata": {},
   "outputs": [],
   "source": [
    "#drop_unneccessary_column\n",
    "df.drop(columns=['NA_Sales','EU_Sales','JP_Sales','Other_Sales'], inplace=True)"
   ]
  },
  {
   "cell_type": "code",
   "execution_count": 1086,
   "metadata": {},
   "outputs": [
    {
     "output_type": "execute_result",
     "data": {
      "text/plain": [
       "Rank            16598\n",
       "Name            16598\n",
       "Platform        16598\n",
       "Year            16327\n",
       "Genre           16598\n",
       "Publisher       16540\n",
       "Global_Sales    16598\n",
       "dtype: int64"
      ]
     },
     "metadata": {},
     "execution_count": 1086
    }
   ],
   "source": [
    "df.count()"
   ]
  },
  {
   "cell_type": "code",
   "execution_count": 1087,
   "metadata": {},
   "outputs": [],
   "source": [
    "df.dropna(how='any',subset=['Year','Publisher'],inplace=True)"
   ]
  },
  {
   "cell_type": "code",
   "execution_count": 1088,
   "metadata": {},
   "outputs": [
    {
     "output_type": "execute_result",
     "data": {
      "text/plain": [
       "Empty DataFrame\n",
       "Columns: [Rank, Name, Platform, Year, Genre, Publisher, Global_Sales]\n",
       "Index: []"
      ],
      "text/html": "<div>\n<style scoped>\n    .dataframe tbody tr th:only-of-type {\n        vertical-align: middle;\n    }\n\n    .dataframe tbody tr th {\n        vertical-align: top;\n    }\n\n    .dataframe thead th {\n        text-align: right;\n    }\n</style>\n<table border=\"1\" class=\"dataframe\">\n  <thead>\n    <tr style=\"text-align: right;\">\n      <th></th>\n      <th>Rank</th>\n      <th>Name</th>\n      <th>Platform</th>\n      <th>Year</th>\n      <th>Genre</th>\n      <th>Publisher</th>\n      <th>Global_Sales</th>\n    </tr>\n  </thead>\n  <tbody>\n  </tbody>\n</table>\n</div>"
     },
     "metadata": {},
     "execution_count": 1088
    }
   ],
   "source": [
    "df[df['Publisher'].isnull()]"
   ]
  },
  {
   "cell_type": "code",
   "execution_count": 1089,
   "metadata": {},
   "outputs": [
    {
     "output_type": "execute_result",
     "data": {
      "text/plain": [
       "Rank            0\n",
       "Name            0\n",
       "Platform        0\n",
       "Year            0\n",
       "Genre           0\n",
       "Publisher       0\n",
       "Global_Sales    0\n",
       "dtype: int64"
      ]
     },
     "metadata": {},
     "execution_count": 1089
    }
   ],
   "source": [
    "df.isnull().sum()"
   ]
  },
  {
   "cell_type": "code",
   "execution_count": 1090,
   "metadata": {},
   "outputs": [
    {
     "output_type": "execute_result",
     "data": {
      "text/plain": [
       "Rank            16291\n",
       "Name            16291\n",
       "Platform        16291\n",
       "Year            16291\n",
       "Genre           16291\n",
       "Publisher       16291\n",
       "Global_Sales    16291\n",
       "dtype: int64"
      ]
     },
     "metadata": {},
     "execution_count": 1090
    }
   ],
   "source": [
    "df.count()"
   ]
  },
  {
   "cell_type": "code",
   "execution_count": 1091,
   "metadata": {},
   "outputs": [
    {
     "output_type": "execute_result",
     "data": {
      "text/plain": [
       "               Rank          Year  Global_Sales\n",
       "count  16291.000000  16291.000000  16291.000000\n",
       "mean    8290.190228   2006.405561      0.540910\n",
       "std     4792.654450      5.832412      1.567345\n",
       "min        1.000000   1980.000000      0.010000\n",
       "25%     4132.500000   2003.000000      0.060000\n",
       "50%     8292.000000   2007.000000      0.170000\n",
       "75%    12439.500000   2010.000000      0.480000\n",
       "max    16600.000000   2020.000000     82.740000"
      ],
      "text/html": "<div>\n<style scoped>\n    .dataframe tbody tr th:only-of-type {\n        vertical-align: middle;\n    }\n\n    .dataframe tbody tr th {\n        vertical-align: top;\n    }\n\n    .dataframe thead th {\n        text-align: right;\n    }\n</style>\n<table border=\"1\" class=\"dataframe\">\n  <thead>\n    <tr style=\"text-align: right;\">\n      <th></th>\n      <th>Rank</th>\n      <th>Year</th>\n      <th>Global_Sales</th>\n    </tr>\n  </thead>\n  <tbody>\n    <tr>\n      <th>count</th>\n      <td>16291.000000</td>\n      <td>16291.000000</td>\n      <td>16291.000000</td>\n    </tr>\n    <tr>\n      <th>mean</th>\n      <td>8290.190228</td>\n      <td>2006.405561</td>\n      <td>0.540910</td>\n    </tr>\n    <tr>\n      <th>std</th>\n      <td>4792.654450</td>\n      <td>5.832412</td>\n      <td>1.567345</td>\n    </tr>\n    <tr>\n      <th>min</th>\n      <td>1.000000</td>\n      <td>1980.000000</td>\n      <td>0.010000</td>\n    </tr>\n    <tr>\n      <th>25%</th>\n      <td>4132.500000</td>\n      <td>2003.000000</td>\n      <td>0.060000</td>\n    </tr>\n    <tr>\n      <th>50%</th>\n      <td>8292.000000</td>\n      <td>2007.000000</td>\n      <td>0.170000</td>\n    </tr>\n    <tr>\n      <th>75%</th>\n      <td>12439.500000</td>\n      <td>2010.000000</td>\n      <td>0.480000</td>\n    </tr>\n    <tr>\n      <th>max</th>\n      <td>16600.000000</td>\n      <td>2020.000000</td>\n      <td>82.740000</td>\n    </tr>\n  </tbody>\n</table>\n</div>"
     },
     "metadata": {},
     "execution_count": 1091
    }
   ],
   "source": [
    "df.describe()"
   ]
  },
  {
   "cell_type": "code",
   "execution_count": 1092,
   "metadata": {},
   "outputs": [
    {
     "output_type": "execute_result",
     "data": {
      "text/plain": [
       "   Rank                      Name Platform    Year         Genre Publisher  \\\n",
       "0     1                Wii Sports      Wii  2006.0        Sports  Nintendo   \n",
       "1     2         Super Mario Bros.      NES  1985.0      Platform  Nintendo   \n",
       "2     3            Mario Kart Wii      Wii  2008.0        Racing  Nintendo   \n",
       "3     4         Wii Sports Resort      Wii  2009.0        Sports  Nintendo   \n",
       "4     5  Pokemon Red/Pokemon Blue       GB  1996.0  Role-Playing  Nintendo   \n",
       "\n",
       "   Global_Sales  Sales_level  \n",
       "0         82.74          3.0  \n",
       "1         40.24          3.0  \n",
       "2         35.82          3.0  \n",
       "3         33.00          3.0  \n",
       "4         31.37          3.0  "
      ],
      "text/html": "<div>\n<style scoped>\n    .dataframe tbody tr th:only-of-type {\n        vertical-align: middle;\n    }\n\n    .dataframe tbody tr th {\n        vertical-align: top;\n    }\n\n    .dataframe thead th {\n        text-align: right;\n    }\n</style>\n<table border=\"1\" class=\"dataframe\">\n  <thead>\n    <tr style=\"text-align: right;\">\n      <th></th>\n      <th>Rank</th>\n      <th>Name</th>\n      <th>Platform</th>\n      <th>Year</th>\n      <th>Genre</th>\n      <th>Publisher</th>\n      <th>Global_Sales</th>\n      <th>Sales_level</th>\n    </tr>\n  </thead>\n  <tbody>\n    <tr>\n      <th>0</th>\n      <td>1</td>\n      <td>Wii Sports</td>\n      <td>Wii</td>\n      <td>2006.0</td>\n      <td>Sports</td>\n      <td>Nintendo</td>\n      <td>82.74</td>\n      <td>3.0</td>\n    </tr>\n    <tr>\n      <th>1</th>\n      <td>2</td>\n      <td>Super Mario Bros.</td>\n      <td>NES</td>\n      <td>1985.0</td>\n      <td>Platform</td>\n      <td>Nintendo</td>\n      <td>40.24</td>\n      <td>3.0</td>\n    </tr>\n    <tr>\n      <th>2</th>\n      <td>3</td>\n      <td>Mario Kart Wii</td>\n      <td>Wii</td>\n      <td>2008.0</td>\n      <td>Racing</td>\n      <td>Nintendo</td>\n      <td>35.82</td>\n      <td>3.0</td>\n    </tr>\n    <tr>\n      <th>3</th>\n      <td>4</td>\n      <td>Wii Sports Resort</td>\n      <td>Wii</td>\n      <td>2009.0</td>\n      <td>Sports</td>\n      <td>Nintendo</td>\n      <td>33.00</td>\n      <td>3.0</td>\n    </tr>\n    <tr>\n      <th>4</th>\n      <td>5</td>\n      <td>Pokemon Red/Pokemon Blue</td>\n      <td>GB</td>\n      <td>1996.0</td>\n      <td>Role-Playing</td>\n      <td>Nintendo</td>\n      <td>31.37</td>\n      <td>3.0</td>\n    </tr>\n  </tbody>\n</table>\n</div>"
     },
     "metadata": {},
     "execution_count": 1092
    }
   ],
   "source": [
    "#create new column level of global sales\n",
    "df.loc[df['Global_Sales'].between(10.0,100), 'Sales_level'] = 3\n",
    "df.loc[df['Global_Sales'].between(1,9.9), 'Sales_level'] = 2\n",
    "df.loc[df['Global_Sales'].between(0.5377441,0.999), 'Sales_level'] = 1\n",
    "df.loc[df['Global_Sales'] < 0.5377441, 'Sales_level'] = 0\n",
    "\n",
    "df.head(5)\n"
   ]
  },
  {
   "cell_type": "code",
   "execution_count": 1093,
   "metadata": {},
   "outputs": [
    {
     "output_type": "execute_result",
     "data": {
      "text/plain": [
       "Action          3251\n",
       "Sports          2304\n",
       "Misc            1686\n",
       "Role-Playing    1470\n",
       "Shooter         1282\n",
       "Adventure       1274\n",
       "Racing          1225\n",
       "Platform         875\n",
       "Simulation       848\n",
       "Fighting         836\n",
       "Strategy         670\n",
       "Puzzle           570\n",
       "Name: Genre, dtype: int64"
      ]
     },
     "metadata": {},
     "execution_count": 1093
    }
   ],
   "source": [
    "#See all Genre\n",
    "df.Genre.value_counts()"
   ]
  },
  {
   "cell_type": "code",
   "execution_count": 1094,
   "metadata": {},
   "outputs": [
    {
     "output_type": "execute_result",
     "data": {
      "text/plain": [
       "DS      2131\n",
       "PS2     2127\n",
       "PS3     1304\n",
       "Wii     1290\n",
       "X360    1234\n",
       "PSP     1197\n",
       "PS      1189\n",
       "PC       938\n",
       "XB       803\n",
       "GBA      786\n",
       "GC       542\n",
       "3DS      499\n",
       "PSV      410\n",
       "PS4      336\n",
       "N64      316\n",
       "SNES     239\n",
       "XOne     213\n",
       "SAT      173\n",
       "WiiU     143\n",
       "2600     116\n",
       "NES       98\n",
       "GB        97\n",
       "DC        52\n",
       "GEN       27\n",
       "NG        12\n",
       "SCD        6\n",
       "WS         6\n",
       "3DO        3\n",
       "TG16       2\n",
       "GG         1\n",
       "PCFX       1\n",
       "Name: Platform, dtype: int64"
      ]
     },
     "metadata": {},
     "execution_count": 1094
    }
   ],
   "source": [
    "#See all Platform\n",
    "df.Platform.value_counts()"
   ]
  },
  {
   "cell_type": "code",
   "execution_count": 1095,
   "metadata": {},
   "outputs": [
    {
     "output_type": "execute_result",
     "data": {
      "text/plain": [
       "        Rank                                               Name Platform  \\\n",
       "219      220                                            FIFA 15      PS3   \n",
       "676      678                          WWE SmackDown vs Raw 2008      PS2   \n",
       "3920    3922                      Disgaea 3: Absence of Justice      PS3   \n",
       "13268  13270  Venus & Braves: Majo to Megami to Horobi no Yogen      PSP   \n",
       "14659  14662                                          Fireblade       GC   \n",
       "15753  15756                    Memories Off: Yubikiri no Kikou      PSP   \n",
       "9539    9541                     Monster Hunter Frontier Online     X360   \n",
       "8395    8397            The Naked Brothers Band: The Video Game      PS2   \n",
       "1155    1157         Dragon Quest V: Hand of the Heavenly Bride       DS   \n",
       "16336  16339            Nakayoshi All-Stars: Mezase Gakuen Idol       DS   \n",
       "\n",
       "         Year         Genre           Publisher  Global_Sales  Sales_level  \\\n",
       "219    2014.0        Sports     Electronic Arts          4.82          2.0   \n",
       "676    2007.0      Fighting                 THQ          2.34          2.0   \n",
       "3920   2008.0  Role-Playing         Square Enix          0.51          0.0   \n",
       "13268  2011.0  Role-Playing  Namco Bandai Games          0.05          0.0   \n",
       "14659  2002.0        Action        Midway Games          0.03          0.0   \n",
       "15753  2011.0     Adventure                 5pb          0.02          0.0   \n",
       "9539   2010.0  Role-Playing              Capcom          0.13          0.0   \n",
       "8395   2008.0          Misc                 THQ          0.17          0.0   \n",
       "1155   2008.0  Role-Playing         Square Enix          1.60          2.0   \n",
       "16336  2008.0          Misc       Creative Core          0.01          0.0   \n",
       "\n",
       "       PlatformId  \n",
       "219           3.0  \n",
       "676           2.0  \n",
       "3920          3.0  \n",
       "13268         6.0  \n",
       "14659        11.0  \n",
       "15753         6.0  \n",
       "9539          5.0  \n",
       "8395          2.0  \n",
       "1155          1.0  \n",
       "16336         1.0  "
      ],
      "text/html": "<div>\n<style scoped>\n    .dataframe tbody tr th:only-of-type {\n        vertical-align: middle;\n    }\n\n    .dataframe tbody tr th {\n        vertical-align: top;\n    }\n\n    .dataframe thead th {\n        text-align: right;\n    }\n</style>\n<table border=\"1\" class=\"dataframe\">\n  <thead>\n    <tr style=\"text-align: right;\">\n      <th></th>\n      <th>Rank</th>\n      <th>Name</th>\n      <th>Platform</th>\n      <th>Year</th>\n      <th>Genre</th>\n      <th>Publisher</th>\n      <th>Global_Sales</th>\n      <th>Sales_level</th>\n      <th>PlatformId</th>\n    </tr>\n  </thead>\n  <tbody>\n    <tr>\n      <th>219</th>\n      <td>220</td>\n      <td>FIFA 15</td>\n      <td>PS3</td>\n      <td>2014.0</td>\n      <td>Sports</td>\n      <td>Electronic Arts</td>\n      <td>4.82</td>\n      <td>2.0</td>\n      <td>3.0</td>\n    </tr>\n    <tr>\n      <th>676</th>\n      <td>678</td>\n      <td>WWE SmackDown vs Raw 2008</td>\n      <td>PS2</td>\n      <td>2007.0</td>\n      <td>Fighting</td>\n      <td>THQ</td>\n      <td>2.34</td>\n      <td>2.0</td>\n      <td>2.0</td>\n    </tr>\n    <tr>\n      <th>3920</th>\n      <td>3922</td>\n      <td>Disgaea 3: Absence of Justice</td>\n      <td>PS3</td>\n      <td>2008.0</td>\n      <td>Role-Playing</td>\n      <td>Square Enix</td>\n      <td>0.51</td>\n      <td>0.0</td>\n      <td>3.0</td>\n    </tr>\n    <tr>\n      <th>13268</th>\n      <td>13270</td>\n      <td>Venus &amp; Braves: Majo to Megami to Horobi no Yogen</td>\n      <td>PSP</td>\n      <td>2011.0</td>\n      <td>Role-Playing</td>\n      <td>Namco Bandai Games</td>\n      <td>0.05</td>\n      <td>0.0</td>\n      <td>6.0</td>\n    </tr>\n    <tr>\n      <th>14659</th>\n      <td>14662</td>\n      <td>Fireblade</td>\n      <td>GC</td>\n      <td>2002.0</td>\n      <td>Action</td>\n      <td>Midway Games</td>\n      <td>0.03</td>\n      <td>0.0</td>\n      <td>11.0</td>\n    </tr>\n    <tr>\n      <th>15753</th>\n      <td>15756</td>\n      <td>Memories Off: Yubikiri no Kikou</td>\n      <td>PSP</td>\n      <td>2011.0</td>\n      <td>Adventure</td>\n      <td>5pb</td>\n      <td>0.02</td>\n      <td>0.0</td>\n      <td>6.0</td>\n    </tr>\n    <tr>\n      <th>9539</th>\n      <td>9541</td>\n      <td>Monster Hunter Frontier Online</td>\n      <td>X360</td>\n      <td>2010.0</td>\n      <td>Role-Playing</td>\n      <td>Capcom</td>\n      <td>0.13</td>\n      <td>0.0</td>\n      <td>5.0</td>\n    </tr>\n    <tr>\n      <th>8395</th>\n      <td>8397</td>\n      <td>The Naked Brothers Band: The Video Game</td>\n      <td>PS2</td>\n      <td>2008.0</td>\n      <td>Misc</td>\n      <td>THQ</td>\n      <td>0.17</td>\n      <td>0.0</td>\n      <td>2.0</td>\n    </tr>\n    <tr>\n      <th>1155</th>\n      <td>1157</td>\n      <td>Dragon Quest V: Hand of the Heavenly Bride</td>\n      <td>DS</td>\n      <td>2008.0</td>\n      <td>Role-Playing</td>\n      <td>Square Enix</td>\n      <td>1.60</td>\n      <td>2.0</td>\n      <td>1.0</td>\n    </tr>\n    <tr>\n      <th>16336</th>\n      <td>16339</td>\n      <td>Nakayoshi All-Stars: Mezase Gakuen Idol</td>\n      <td>DS</td>\n      <td>2008.0</td>\n      <td>Misc</td>\n      <td>Creative Core</td>\n      <td>0.01</td>\n      <td>0.0</td>\n      <td>1.0</td>\n    </tr>\n  </tbody>\n</table>\n</div>"
     },
     "metadata": {},
     "execution_count": 1095
    }
   ],
   "source": [
    "#Sort platform to num\n",
    "df.loc[df['Platform'] == 'DS', 'PlatformId'] = 1 \n",
    "df.loc[df['Platform'] == 'PS2', 'PlatformId'] = 2\n",
    "df.loc[df['Platform'] == 'PS3', 'PlatformId'] = 3 \n",
    "df.loc[df['Platform'] == 'Wii', 'PlatformId'] = 4 \n",
    "df.loc[df['Platform'] == 'X360', 'PlatformId'] = 5 \n",
    "df.loc[df['Platform'] == 'PSP', 'PlatformId'] = 6 \n",
    "df.loc[df['Platform'] == 'PS', 'PlatformId'] = 7 \n",
    "df.loc[df['Platform'] == 'PC', 'PlatformId'] = 8 \n",
    "df.loc[df['Platform'] == 'XB', 'PlatformId'] = 9\n",
    "df.loc[df['Platform'] == 'GBA', 'PlatformId'] = 10\n",
    "df.loc[df['Platform'] == 'GC', 'PlatformId'] = 11\n",
    "df.loc[df['Platform'] == '3DS', 'PlatformId'] = 12\n",
    "df.loc[df['Platform'] == 'PSV', 'PlatformId'] = 13\n",
    "df.loc[df['Platform'] == 'PS4', 'PlatformId'] = 14\n",
    "df.loc[df['Platform'] == 'N64', 'PlatformId'] = 15\n",
    "df.loc[df['Platform'] == 'SNES', 'PlatformId'] = 16\n",
    "df.loc[df['Platform'] == 'XOne', 'PlatformId'] = 17\n",
    "df.loc[df['Platform'] == 'SAT', 'PlatformId'] = 18\n",
    "df.loc[df['Platform'] == 'WiiU', 'PlatformId'] = 19\n",
    "df.loc[df['Platform'] == '2600', 'PlatformId'] = 20\n",
    "df.loc[df['Platform'] == 'NES', 'PlatformId'] = 21\n",
    "df.loc[df['Platform'] == 'GB', 'PlatformId'] = 22\n",
    "df.loc[df['Platform'] == 'DC', 'PlatformId'] = 23\n",
    "df.loc[df['Platform'] == 'GEN', 'PlatformId'] = 24\n",
    "df.loc[df['Platform'] == 'NG', 'PlatformId'] = 25\n",
    "df.loc[df['Platform'] == 'SCD', 'PlatformId'] = 26\n",
    "df.loc[df['Platform'] == 'WS', 'PlatformId'] = 27\n",
    "df.loc[df['Platform'] == '3DO', 'PlatformId'] = 28\n",
    "df.loc[df['Platform'] == 'TG16', 'PlatformId'] = 39\n",
    "df.loc[df['Platform'] == 'GG', 'PlatformId'] = 30\n",
    "df.loc[df['Platform'] == 'PCFX', 'PlatformId'] = 31\n",
    "\n",
    "df.sample(10)\n"
   ]
  },
  {
   "cell_type": "code",
   "execution_count": 1096,
   "metadata": {},
   "outputs": [
    {
     "output_type": "execute_result",
     "data": {
      "text/plain": [
       "        Rank                       Name Platform    Year         Genre  \\\n",
       "10846  10848     Medieval II: Total War       PC  2006.0      Strategy   \n",
       "4161    4163           Gauntlet Legends       PS  2000.0        Action   \n",
       "5963    5965                       NieR     X360  2010.0  Role-Playing   \n",
       "3360    3362      Mickey's Speedway USA      N64  2000.0        Racing   \n",
       "15105  15108    Frontlines: Fuel of War       PC  2008.0       Shooter   \n",
       "5183    5185    Tiger Woods PGA Tour 14     X360  2013.0        Sports   \n",
       "3144    3146     GoldenEye: Rogue Agent      PS2  2004.0       Shooter   \n",
       "4727    4729                    Dig Dug      NES  1985.0        Puzzle   \n",
       "10086  10088  Skylanders: SuperChargers      3DS  2015.0        Action   \n",
       "14211  14214                    RACE On       PC  2009.0        Racing   \n",
       "\n",
       "                Publisher  Global_Sales  Sales_level  PlatformId  GenreId  \n",
       "10846                Sega          0.09          0.0         8.0     12.0  \n",
       "4161         Midway Games          0.47          0.0         7.0      1.0  \n",
       "5963          Square Enix          0.29          0.0         5.0      4.0  \n",
       "3360             Nintendo          0.60          1.0        15.0      6.0  \n",
       "15105                 THQ          0.02          0.0         8.0      3.0  \n",
       "5183      Electronic Arts          0.36          0.0         5.0      2.0  \n",
       "3144      Electronic Arts          0.64          1.0         2.0      3.0  \n",
       "4727   Namco Bandai Games          0.41          0.0        21.0     10.0  \n",
       "10086          Activision          0.11          0.0        12.0      1.0  \n",
       "14211   bitComposer Games          0.03          0.0         8.0      6.0  "
      ],
      "text/html": "<div>\n<style scoped>\n    .dataframe tbody tr th:only-of-type {\n        vertical-align: middle;\n    }\n\n    .dataframe tbody tr th {\n        vertical-align: top;\n    }\n\n    .dataframe thead th {\n        text-align: right;\n    }\n</style>\n<table border=\"1\" class=\"dataframe\">\n  <thead>\n    <tr style=\"text-align: right;\">\n      <th></th>\n      <th>Rank</th>\n      <th>Name</th>\n      <th>Platform</th>\n      <th>Year</th>\n      <th>Genre</th>\n      <th>Publisher</th>\n      <th>Global_Sales</th>\n      <th>Sales_level</th>\n      <th>PlatformId</th>\n      <th>GenreId</th>\n    </tr>\n  </thead>\n  <tbody>\n    <tr>\n      <th>10846</th>\n      <td>10848</td>\n      <td>Medieval II: Total War</td>\n      <td>PC</td>\n      <td>2006.0</td>\n      <td>Strategy</td>\n      <td>Sega</td>\n      <td>0.09</td>\n      <td>0.0</td>\n      <td>8.0</td>\n      <td>12.0</td>\n    </tr>\n    <tr>\n      <th>4161</th>\n      <td>4163</td>\n      <td>Gauntlet Legends</td>\n      <td>PS</td>\n      <td>2000.0</td>\n      <td>Action</td>\n      <td>Midway Games</td>\n      <td>0.47</td>\n      <td>0.0</td>\n      <td>7.0</td>\n      <td>1.0</td>\n    </tr>\n    <tr>\n      <th>5963</th>\n      <td>5965</td>\n      <td>NieR</td>\n      <td>X360</td>\n      <td>2010.0</td>\n      <td>Role-Playing</td>\n      <td>Square Enix</td>\n      <td>0.29</td>\n      <td>0.0</td>\n      <td>5.0</td>\n      <td>4.0</td>\n    </tr>\n    <tr>\n      <th>3360</th>\n      <td>3362</td>\n      <td>Mickey's Speedway USA</td>\n      <td>N64</td>\n      <td>2000.0</td>\n      <td>Racing</td>\n      <td>Nintendo</td>\n      <td>0.60</td>\n      <td>1.0</td>\n      <td>15.0</td>\n      <td>6.0</td>\n    </tr>\n    <tr>\n      <th>15105</th>\n      <td>15108</td>\n      <td>Frontlines: Fuel of War</td>\n      <td>PC</td>\n      <td>2008.0</td>\n      <td>Shooter</td>\n      <td>THQ</td>\n      <td>0.02</td>\n      <td>0.0</td>\n      <td>8.0</td>\n      <td>3.0</td>\n    </tr>\n    <tr>\n      <th>5183</th>\n      <td>5185</td>\n      <td>Tiger Woods PGA Tour 14</td>\n      <td>X360</td>\n      <td>2013.0</td>\n      <td>Sports</td>\n      <td>Electronic Arts</td>\n      <td>0.36</td>\n      <td>0.0</td>\n      <td>5.0</td>\n      <td>2.0</td>\n    </tr>\n    <tr>\n      <th>3144</th>\n      <td>3146</td>\n      <td>GoldenEye: Rogue Agent</td>\n      <td>PS2</td>\n      <td>2004.0</td>\n      <td>Shooter</td>\n      <td>Electronic Arts</td>\n      <td>0.64</td>\n      <td>1.0</td>\n      <td>2.0</td>\n      <td>3.0</td>\n    </tr>\n    <tr>\n      <th>4727</th>\n      <td>4729</td>\n      <td>Dig Dug</td>\n      <td>NES</td>\n      <td>1985.0</td>\n      <td>Puzzle</td>\n      <td>Namco Bandai Games</td>\n      <td>0.41</td>\n      <td>0.0</td>\n      <td>21.0</td>\n      <td>10.0</td>\n    </tr>\n    <tr>\n      <th>10086</th>\n      <td>10088</td>\n      <td>Skylanders: SuperChargers</td>\n      <td>3DS</td>\n      <td>2015.0</td>\n      <td>Action</td>\n      <td>Activision</td>\n      <td>0.11</td>\n      <td>0.0</td>\n      <td>12.0</td>\n      <td>1.0</td>\n    </tr>\n    <tr>\n      <th>14211</th>\n      <td>14214</td>\n      <td>RACE On</td>\n      <td>PC</td>\n      <td>2009.0</td>\n      <td>Racing</td>\n      <td>bitComposer Games</td>\n      <td>0.03</td>\n      <td>0.0</td>\n      <td>8.0</td>\n      <td>6.0</td>\n    </tr>\n  </tbody>\n</table>\n</div>"
     },
     "metadata": {},
     "execution_count": 1096
    }
   ],
   "source": [
    "#Sort Genre to num\n",
    "df.loc[df['Genre'] == 'Action', 'GenreId'] = 1 \n",
    "df.loc[df['Genre'] == 'Sports', 'GenreId'] = 2\n",
    "df.loc[df['Genre'] == 'Shooter', 'GenreId'] = 3 \n",
    "df.loc[df['Genre'] == 'Role-Playing', 'GenreId'] = 4 \n",
    "df.loc[df['Genre'] == 'Misc', 'GenreId'] = 5 \n",
    "df.loc[df['Genre'] == 'Racing', 'GenreId'] = 6 \n",
    "df.loc[df['Genre'] == 'Platform', 'GenreId'] = 7 \n",
    "df.loc[df['Genre'] == 'Fighting', 'GenreId'] = 8 \n",
    "df.loc[df['Genre'] == 'Simulation', 'GenreId'] = 9 \n",
    "df.loc[df['Genre'] == 'Puzzle', 'GenreId'] = 10 \n",
    "df.loc[df['Genre'] == 'Adventure', 'GenreId'] = 11 \n",
    "df.loc[df['Genre'] == 'Strategy', 'GenreId'] = 12 \n",
    "\n",
    "df.sample(10)\n",
    "\n"
   ]
  },
  {
   "cell_type": "code",
   "execution_count": 1097,
   "metadata": {},
   "outputs": [],
   "source": [
    "#Define X and Y\n",
    "inputs = df.drop('Sales_level',axis='columns')\n",
    "target = df.Sales_level"
   ]
  },
  {
   "cell_type": "code",
   "execution_count": 1098,
   "metadata": {},
   "outputs": [
    {
     "output_type": "execute_result",
     "data": {
      "text/plain": [
       "   PlatformId  GenreId\n",
       "0         4.0      2.0\n",
       "1        21.0      7.0\n",
       "2         4.0      6.0\n",
       "3         4.0      2.0\n",
       "4        22.0      4.0"
      ],
      "text/html": "<div>\n<style scoped>\n    .dataframe tbody tr th:only-of-type {\n        vertical-align: middle;\n    }\n\n    .dataframe tbody tr th {\n        vertical-align: top;\n    }\n\n    .dataframe thead th {\n        text-align: right;\n    }\n</style>\n<table border=\"1\" class=\"dataframe\">\n  <thead>\n    <tr style=\"text-align: right;\">\n      <th></th>\n      <th>PlatformId</th>\n      <th>GenreId</th>\n    </tr>\n  </thead>\n  <tbody>\n    <tr>\n      <th>0</th>\n      <td>4.0</td>\n      <td>2.0</td>\n    </tr>\n    <tr>\n      <th>1</th>\n      <td>21.0</td>\n      <td>7.0</td>\n    </tr>\n    <tr>\n      <th>2</th>\n      <td>4.0</td>\n      <td>6.0</td>\n    </tr>\n    <tr>\n      <th>3</th>\n      <td>4.0</td>\n      <td>2.0</td>\n    </tr>\n    <tr>\n      <th>4</th>\n      <td>22.0</td>\n      <td>4.0</td>\n    </tr>\n  </tbody>\n</table>\n</div>"
     },
     "metadata": {},
     "execution_count": 1098
    }
   ],
   "source": [
    "#Drop unused column\n",
    "inputs.drop(['Year','Rank','Name','Platform','Publisher','Genre','Global_Sales'],axis='columns',inplace=True)\n",
    "inputs.head()"
   ]
  },
  {
   "cell_type": "code",
   "execution_count": 1099,
   "metadata": {},
   "outputs": [],
   "source": [
    "#Define X and Y\n",
    "X = inputs.astype(int)\n",
    "Y = target.astype(int)\n",
    "X_train, X_test, y_train, y_test = train_test_split(X,Y,test_size=0.3)\n",
    "model = GaussianNB()"
   ]
  },
  {
   "cell_type": "code",
   "execution_count": 1100,
   "metadata": {},
   "outputs": [
    {
     "output_type": "execute_result",
     "data": {
      "text/plain": [
       "       PlatformId  GenreId\n",
       "6096            7        2\n",
       "11635           4        1\n",
       "12979           1        9\n",
       "14635           8       12\n",
       "11964           2        1\n",
       "3310            4        5\n",
       "5631            7        7\n",
       "6934            9        2\n",
       "14794           8        1\n",
       "14265           8       12"
      ],
      "text/html": "<div>\n<style scoped>\n    .dataframe tbody tr th:only-of-type {\n        vertical-align: middle;\n    }\n\n    .dataframe tbody tr th {\n        vertical-align: top;\n    }\n\n    .dataframe thead th {\n        text-align: right;\n    }\n</style>\n<table border=\"1\" class=\"dataframe\">\n  <thead>\n    <tr style=\"text-align: right;\">\n      <th></th>\n      <th>PlatformId</th>\n      <th>GenreId</th>\n    </tr>\n  </thead>\n  <tbody>\n    <tr>\n      <th>6096</th>\n      <td>7</td>\n      <td>2</td>\n    </tr>\n    <tr>\n      <th>11635</th>\n      <td>4</td>\n      <td>1</td>\n    </tr>\n    <tr>\n      <th>12979</th>\n      <td>1</td>\n      <td>9</td>\n    </tr>\n    <tr>\n      <th>14635</th>\n      <td>8</td>\n      <td>12</td>\n    </tr>\n    <tr>\n      <th>11964</th>\n      <td>2</td>\n      <td>1</td>\n    </tr>\n    <tr>\n      <th>3310</th>\n      <td>4</td>\n      <td>5</td>\n    </tr>\n    <tr>\n      <th>5631</th>\n      <td>7</td>\n      <td>7</td>\n    </tr>\n    <tr>\n      <th>6934</th>\n      <td>9</td>\n      <td>2</td>\n    </tr>\n    <tr>\n      <th>14794</th>\n      <td>8</td>\n      <td>1</td>\n    </tr>\n    <tr>\n      <th>14265</th>\n      <td>8</td>\n      <td>12</td>\n    </tr>\n  </tbody>\n</table>\n</div>"
     },
     "metadata": {},
     "execution_count": 1100
    }
   ],
   "source": [
    "X_test[0:10]"
   ]
  },
  {
   "cell_type": "code",
   "execution_count": 1101,
   "metadata": {},
   "outputs": [
    {
     "output_type": "execute_result",
     "data": {
      "text/plain": [
       "GaussianNB()"
      ]
     },
     "metadata": {},
     "execution_count": 1101
    }
   ],
   "source": [
    "model.fit(X_train,y_train)"
   ]
  },
  {
   "cell_type": "code",
   "execution_count": 1102,
   "metadata": {},
   "outputs": [
    {
     "output_type": "execute_result",
     "data": {
      "text/plain": [
       "0.7696399345335515"
      ]
     },
     "metadata": {},
     "execution_count": 1102
    }
   ],
   "source": [
    "model.score(X_test,y_test)"
   ]
  },
  {
   "cell_type": "code",
   "execution_count": 1103,
   "metadata": {},
   "outputs": [
    {
     "output_type": "execute_result",
     "data": {
      "text/plain": [
       "array([0, 0, 0, 0, 0, 0, 0, 0, 0, 0])"
      ]
     },
     "metadata": {},
     "execution_count": 1103
    }
   ],
   "source": [
    "model.predict(X_test[0:10])"
   ]
  },
  {
   "cell_type": "code",
   "execution_count": 1104,
   "metadata": {},
   "outputs": [
    {
     "output_type": "execute_result",
     "data": {
      "text/plain": [
       "array([[7.48056995e-01, 1.26304018e-01, 1.22451113e-01, 3.18787370e-03],\n",
       "       [7.55450234e-01, 1.27948255e-01, 1.13927090e-01, 2.67442049e-03],\n",
       "       [8.46654823e-01, 7.47060747e-02, 7.62607718e-02, 2.37833068e-03],\n",
       "       [9.24799821e-01, 3.95128327e-02, 3.50295724e-02, 6.57773710e-04],\n",
       "       [7.49836032e-01, 1.28283828e-01, 1.18925340e-01, 2.95480006e-03],\n",
       "       [7.66741525e-01, 1.15240133e-01, 1.14319353e-01, 3.69898887e-03],\n",
       "       [8.03064181e-01, 9.55290160e-02, 9.83196885e-02, 3.08711435e-03],\n",
       "       [7.39962904e-01, 1.23964689e-01, 1.32514779e-01, 3.55762842e-03],\n",
       "       [7.51013384e-01, 1.24997461e-01, 1.21168811e-01, 2.82034476e-03],\n",
       "       [9.24799821e-01, 3.95128327e-02, 3.50295724e-02, 6.57773710e-04]])"
      ]
     },
     "metadata": {},
     "execution_count": 1104
    }
   ],
   "source": [
    "model.predict_proba(X_test[:10])"
   ]
  },
  {
   "cell_type": "code",
   "execution_count": 1105,
   "metadata": {},
   "outputs": [
    {
     "output_type": "execute_result",
     "data": {
      "text/plain": [
       "array([0.76983779, 0.76939939, 0.76852258, 0.77017544, 0.77324561])"
      ]
     },
     "metadata": {},
     "execution_count": 1105
    }
   ],
   "source": [
    "from sklearn.model_selection import cross_val_score\n",
    "cross_val_score(GaussianNB(),X_train, y_train, cv=5)"
   ]
  }
 ],
 "metadata": {
  "kernelspec": {
   "display_name": "Python 3",
   "language": "python",
   "name": "python3"
  },
  "language_info": {
   "codemirror_mode": {
    "name": "ipython",
    "version": 3
   },
   "file_extension": ".py",
   "mimetype": "text/x-python",
   "name": "python",
   "nbconvert_exporter": "python",
   "pygments_lexer": "ipython3",
   "version": "3.8.5-final"
  }
 },
 "nbformat": 4,
 "nbformat_minor": 4
}