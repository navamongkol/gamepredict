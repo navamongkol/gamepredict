{
 "cells": [
  {
   "cell_type": "code",
   "execution_count": 220,
   "metadata": {},
   "outputs": [],
   "source": [
    "import pandas as pd # for data manipulation\n",
    "import numpy as np # for data manipulation\n",
    "\n",
    "from sklearn.model_selection import train_test_split # for splitting the data into train and test samples\n",
    "from sklearn.metrics import classification_report # for model evaluation metrics\n",
    "from sklearn.preprocessing import OrdinalEncoder # for encoding categorical features from strings to number arrays\n",
    "\n",
    "# Differnt types of Naive Bayes Classifiers\n",
    "from sklearn.naive_bayes import GaussianNB\n",
    "from sklearn.naive_bayes import CategoricalNB\n",
    "from sklearn.naive_bayes import BernoulliNB"
   ]
  },
  {
   "cell_type": "code",
   "execution_count": 221,
   "metadata": {},
   "outputs": [],
   "source": [
    "df = pd.read_csv('/Users/navamongkoltongta/OneDrive - Assumption University/Year2.2/Data Science/Project/vgsales.csv')"
   ]
  },
  {
   "cell_type": "code",
   "execution_count": 222,
   "metadata": {},
   "outputs": [],
   "source": [
    "df.drop(columns=['NA_Sales','EU_Sales','JP_Sales','Other_Sales'], inplace=True)"
   ]
  },
  {
   "cell_type": "code",
   "execution_count": 223,
   "metadata": {},
   "outputs": [
    {
     "output_type": "execute_result",
     "data": {
      "text/plain": [
       "Rank            16598\n",
       "Name            16598\n",
       "Platform        16598\n",
       "Year            16327\n",
       "Genre           16598\n",
       "Publisher       16540\n",
       "Global_Sales    16598\n",
       "dtype: int64"
      ]
     },
     "metadata": {},
     "execution_count": 223
    }
   ],
   "source": [
    "df.count()"
   ]
  },
  {
   "cell_type": "code",
   "execution_count": 224,
   "metadata": {},
   "outputs": [],
   "source": [
    "df.dropna(how='any',subset=['Year','Publisher'],inplace=True)"
   ]
  },
  {
   "cell_type": "code",
   "execution_count": 225,
   "metadata": {},
   "outputs": [
    {
     "output_type": "execute_result",
     "data": {
      "text/plain": [
       "Empty DataFrame\n",
       "Columns: [Rank, Name, Platform, Year, Genre, Publisher, Global_Sales]\n",
       "Index: []"
      ],
      "text/html": "<div>\n<style scoped>\n    .dataframe tbody tr th:only-of-type {\n        vertical-align: middle;\n    }\n\n    .dataframe tbody tr th {\n        vertical-align: top;\n    }\n\n    .dataframe thead th {\n        text-align: right;\n    }\n</style>\n<table border=\"1\" class=\"dataframe\">\n  <thead>\n    <tr style=\"text-align: right;\">\n      <th></th>\n      <th>Rank</th>\n      <th>Name</th>\n      <th>Platform</th>\n      <th>Year</th>\n      <th>Genre</th>\n      <th>Publisher</th>\n      <th>Global_Sales</th>\n    </tr>\n  </thead>\n  <tbody>\n  </tbody>\n</table>\n</div>"
     },
     "metadata": {},
     "execution_count": 225
    }
   ],
   "source": [
    "df[df['Publisher'].isnull()]"
   ]
  },
  {
   "cell_type": "code",
   "execution_count": 226,
   "metadata": {},
   "outputs": [
    {
     "output_type": "execute_result",
     "data": {
      "text/plain": [
       "Rank            0\n",
       "Name            0\n",
       "Platform        0\n",
       "Year            0\n",
       "Genre           0\n",
       "Publisher       0\n",
       "Global_Sales    0\n",
       "dtype: int64"
      ]
     },
     "metadata": {},
     "execution_count": 226
    }
   ],
   "source": [
    "df.isnull().sum()"
   ]
  },
  {
   "cell_type": "code",
   "execution_count": 227,
   "metadata": {},
   "outputs": [
    {
     "output_type": "execute_result",
     "data": {
      "text/plain": [
       "Rank            16291\n",
       "Name            16291\n",
       "Platform        16291\n",
       "Year            16291\n",
       "Genre           16291\n",
       "Publisher       16291\n",
       "Global_Sales    16291\n",
       "dtype: int64"
      ]
     },
     "metadata": {},
     "execution_count": 227
    }
   ],
   "source": [
    "df.count()"
   ]
  },
  {
   "cell_type": "code",
   "execution_count": 228,
   "metadata": {},
   "outputs": [
    {
     "output_type": "execute_result",
     "data": {
      "text/plain": [
       "               Rank          Year  Global_Sales\n",
       "count  16291.000000  16291.000000  16291.000000\n",
       "mean    8290.190228   2006.405561      0.540910\n",
       "std     4792.654450      5.832412      1.567345\n",
       "min        1.000000   1980.000000      0.010000\n",
       "25%     4132.500000   2003.000000      0.060000\n",
       "50%     8292.000000   2007.000000      0.170000\n",
       "75%    12439.500000   2010.000000      0.480000\n",
       "max    16600.000000   2020.000000     82.740000"
      ],
      "text/html": "<div>\n<style scoped>\n    .dataframe tbody tr th:only-of-type {\n        vertical-align: middle;\n    }\n\n    .dataframe tbody tr th {\n        vertical-align: top;\n    }\n\n    .dataframe thead th {\n        text-align: right;\n    }\n</style>\n<table border=\"1\" class=\"dataframe\">\n  <thead>\n    <tr style=\"text-align: right;\">\n      <th></th>\n      <th>Rank</th>\n      <th>Year</th>\n      <th>Global_Sales</th>\n    </tr>\n  </thead>\n  <tbody>\n    <tr>\n      <th>count</th>\n      <td>16291.000000</td>\n      <td>16291.000000</td>\n      <td>16291.000000</td>\n    </tr>\n    <tr>\n      <th>mean</th>\n      <td>8290.190228</td>\n      <td>2006.405561</td>\n      <td>0.540910</td>\n    </tr>\n    <tr>\n      <th>std</th>\n      <td>4792.654450</td>\n      <td>5.832412</td>\n      <td>1.567345</td>\n    </tr>\n    <tr>\n      <th>min</th>\n      <td>1.000000</td>\n      <td>1980.000000</td>\n      <td>0.010000</td>\n    </tr>\n    <tr>\n      <th>25%</th>\n      <td>4132.500000</td>\n      <td>2003.000000</td>\n      <td>0.060000</td>\n    </tr>\n    <tr>\n      <th>50%</th>\n      <td>8292.000000</td>\n      <td>2007.000000</td>\n      <td>0.170000</td>\n    </tr>\n    <tr>\n      <th>75%</th>\n      <td>12439.500000</td>\n      <td>2010.000000</td>\n      <td>0.480000</td>\n    </tr>\n    <tr>\n      <th>max</th>\n      <td>16600.000000</td>\n      <td>2020.000000</td>\n      <td>82.740000</td>\n    </tr>\n  </tbody>\n</table>\n</div>"
     },
     "metadata": {},
     "execution_count": 228
    }
   ],
   "source": [
    "df.describe()"
   ]
  },
  {
   "cell_type": "code",
   "execution_count": 229,
   "metadata": {},
   "outputs": [],
   "source": [
    "# White wins flag (1=win vs. 0=not-win) - dependent (target) variable\n",
    "df['Mean_global']=df['Global_Sales'].apply(lambda x: 'High' if x>=0.5377441 else 'Low')"
   ]
  },
  {
   "cell_type": "code",
   "execution_count": 230,
   "metadata": {},
   "outputs": [
    {
     "output_type": "execute_result",
     "data": {
      "text/plain": [
       "   Rank                      Name Platform    Year         Genre Publisher  \\\n",
       "0     1                Wii Sports      Wii  2006.0        Sports  Nintendo   \n",
       "1     2         Super Mario Bros.      NES  1985.0      Platform  Nintendo   \n",
       "2     3            Mario Kart Wii      Wii  2008.0        Racing  Nintendo   \n",
       "3     4         Wii Sports Resort      Wii  2009.0        Sports  Nintendo   \n",
       "4     5  Pokemon Red/Pokemon Blue       GB  1996.0  Role-Playing  Nintendo   \n",
       "\n",
       "   Global_Sales Mean_global  \n",
       "0         82.74        High  \n",
       "1         40.24        High  \n",
       "2         35.82        High  \n",
       "3         33.00        High  \n",
       "4         31.37        High  "
      ],
      "text/html": "<div>\n<style scoped>\n    .dataframe tbody tr th:only-of-type {\n        vertical-align: middle;\n    }\n\n    .dataframe tbody tr th {\n        vertical-align: top;\n    }\n\n    .dataframe thead th {\n        text-align: right;\n    }\n</style>\n<table border=\"1\" class=\"dataframe\">\n  <thead>\n    <tr style=\"text-align: right;\">\n      <th></th>\n      <th>Rank</th>\n      <th>Name</th>\n      <th>Platform</th>\n      <th>Year</th>\n      <th>Genre</th>\n      <th>Publisher</th>\n      <th>Global_Sales</th>\n      <th>Mean_global</th>\n    </tr>\n  </thead>\n  <tbody>\n    <tr>\n      <th>0</th>\n      <td>1</td>\n      <td>Wii Sports</td>\n      <td>Wii</td>\n      <td>2006.0</td>\n      <td>Sports</td>\n      <td>Nintendo</td>\n      <td>82.74</td>\n      <td>High</td>\n    </tr>\n    <tr>\n      <th>1</th>\n      <td>2</td>\n      <td>Super Mario Bros.</td>\n      <td>NES</td>\n      <td>1985.0</td>\n      <td>Platform</td>\n      <td>Nintendo</td>\n      <td>40.24</td>\n      <td>High</td>\n    </tr>\n    <tr>\n      <th>2</th>\n      <td>3</td>\n      <td>Mario Kart Wii</td>\n      <td>Wii</td>\n      <td>2008.0</td>\n      <td>Racing</td>\n      <td>Nintendo</td>\n      <td>35.82</td>\n      <td>High</td>\n    </tr>\n    <tr>\n      <th>3</th>\n      <td>4</td>\n      <td>Wii Sports Resort</td>\n      <td>Wii</td>\n      <td>2009.0</td>\n      <td>Sports</td>\n      <td>Nintendo</td>\n      <td>33.00</td>\n      <td>High</td>\n    </tr>\n    <tr>\n      <th>4</th>\n      <td>5</td>\n      <td>Pokemon Red/Pokemon Blue</td>\n      <td>GB</td>\n      <td>1996.0</td>\n      <td>Role-Playing</td>\n      <td>Nintendo</td>\n      <td>31.37</td>\n      <td>High</td>\n    </tr>\n  </tbody>\n</table>\n</div>"
     },
     "metadata": {},
     "execution_count": 230
    }
   ],
   "source": [
    "dfhigh = df.loc[df['Mean_global'] == 'High']\n",
    "dfhigh.head(5)"
   ]
  },
  {
   "cell_type": "code",
   "execution_count": 231,
   "metadata": {},
   "outputs": [
    {
     "output_type": "execute_result",
     "data": {
      "text/plain": [
       "Action          758\n",
       "Sports          601\n",
       "Shooter         412\n",
       "Role-Playing    366\n",
       "Misc            311\n",
       "Racing          305\n",
       "Platform        301\n",
       "Fighting        219\n",
       "Simulation      171\n",
       "Puzzle           93\n",
       "Adventure        86\n",
       "Strategy         78\n",
       "Name: Genre, dtype: int64"
      ]
     },
     "metadata": {},
     "execution_count": 231
    }
   ],
   "source": [
    "dfhigh.Genre.value_counts()"
   ]
  },
  {
   "cell_type": "code",
   "execution_count": 232,
   "metadata": {},
   "outputs": [
    {
     "output_type": "stream",
     "name": "stderr",
     "text": [
      "/Users/navamongkoltongta/opt/anaconda3/lib/python3.8/site-packages/pandas/core/indexing.py:1596: SettingWithCopyWarning: \nA value is trying to be set on a copy of a slice from a DataFrame.\nTry using .loc[row_indexer,col_indexer] = value instead\n\nSee the caveats in the documentation: https://pandas.pydata.org/pandas-docs/stable/user_guide/indexing.html#returning-a-view-versus-a-copy\n  self.obj[key] = _infer_fill_value(value)\n/Users/navamongkoltongta/opt/anaconda3/lib/python3.8/site-packages/pandas/core/indexing.py:1765: SettingWithCopyWarning: \nA value is trying to be set on a copy of a slice from a DataFrame.\nTry using .loc[row_indexer,col_indexer] = value instead\n\nSee the caveats in the documentation: https://pandas.pydata.org/pandas-docs/stable/user_guide/indexing.html#returning-a-view-versus-a-copy\n  isetter(loc, value)\n"
     ]
    },
    {
     "output_type": "execute_result",
     "data": {
      "text/plain": [
       "      Rank                           Name Platform    Year       Genre  \\\n",
       "3362  3364          Skylanders SWAP Force     WiiU  2013.0    Platform   \n",
       "1504  1506                Deal or No Deal      Wii  2009.0        Misc   \n",
       "511    512   Command & Conquer: Red Alert       PC  1996.0    Strategy   \n",
       "890    892  Mortal Kombat vs. DC Universe     X360  2008.0    Fighting   \n",
       "3306  3308             Yakuza: Dead Souls      PS3  2011.0     Shooter   \n",
       "2908  2910     The Sims 2: Apartment Pets       DS  2008.0  Simulation   \n",
       "3003  3005                  Country Dance      Wii  2011.0        Misc   \n",
       "2934  2936                TimeSplitters 2      PS2  2002.0     Shooter   \n",
       "543    544          Saints Row: The Third     X360  2011.0      Action   \n",
       "2604  2606           Momotarou Dentetsu 7       PS  1997.0  Simulation   \n",
       "\n",
       "                 Publisher  Global_Sales Mean_global  GenreId  \n",
       "3362            Activision          0.60        High      7.0  \n",
       "1504             Zoo Games          1.31        High      5.0  \n",
       "511     Virgin Interactive          2.85        High     12.0  \n",
       "890           Midway Games          1.93        High      8.0  \n",
       "3306                  Sega          0.61        High      3.0  \n",
       "2908       Electronic Arts          0.70        High      9.0  \n",
       "3003          Funbox Media          0.68        High      5.0  \n",
       "2934     Eidos Interactive          0.70        High      3.0  \n",
       "543                    THQ          2.77        High      1.0  \n",
       "2604  Hudson Entertainment          0.79        High      9.0  "
      ],
      "text/html": "<div>\n<style scoped>\n    .dataframe tbody tr th:only-of-type {\n        vertical-align: middle;\n    }\n\n    .dataframe tbody tr th {\n        vertical-align: top;\n    }\n\n    .dataframe thead th {\n        text-align: right;\n    }\n</style>\n<table border=\"1\" class=\"dataframe\">\n  <thead>\n    <tr style=\"text-align: right;\">\n      <th></th>\n      <th>Rank</th>\n      <th>Name</th>\n      <th>Platform</th>\n      <th>Year</th>\n      <th>Genre</th>\n      <th>Publisher</th>\n      <th>Global_Sales</th>\n      <th>Mean_global</th>\n      <th>GenreId</th>\n    </tr>\n  </thead>\n  <tbody>\n    <tr>\n      <th>3362</th>\n      <td>3364</td>\n      <td>Skylanders SWAP Force</td>\n      <td>WiiU</td>\n      <td>2013.0</td>\n      <td>Platform</td>\n      <td>Activision</td>\n      <td>0.60</td>\n      <td>High</td>\n      <td>7.0</td>\n    </tr>\n    <tr>\n      <th>1504</th>\n      <td>1506</td>\n      <td>Deal or No Deal</td>\n      <td>Wii</td>\n      <td>2009.0</td>\n      <td>Misc</td>\n      <td>Zoo Games</td>\n      <td>1.31</td>\n      <td>High</td>\n      <td>5.0</td>\n    </tr>\n    <tr>\n      <th>511</th>\n      <td>512</td>\n      <td>Command &amp; Conquer: Red Alert</td>\n      <td>PC</td>\n      <td>1996.0</td>\n      <td>Strategy</td>\n      <td>Virgin Interactive</td>\n      <td>2.85</td>\n      <td>High</td>\n      <td>12.0</td>\n    </tr>\n    <tr>\n      <th>890</th>\n      <td>892</td>\n      <td>Mortal Kombat vs. DC Universe</td>\n      <td>X360</td>\n      <td>2008.0</td>\n      <td>Fighting</td>\n      <td>Midway Games</td>\n      <td>1.93</td>\n      <td>High</td>\n      <td>8.0</td>\n    </tr>\n    <tr>\n      <th>3306</th>\n      <td>3308</td>\n      <td>Yakuza: Dead Souls</td>\n      <td>PS3</td>\n      <td>2011.0</td>\n      <td>Shooter</td>\n      <td>Sega</td>\n      <td>0.61</td>\n      <td>High</td>\n      <td>3.0</td>\n    </tr>\n    <tr>\n      <th>2908</th>\n      <td>2910</td>\n      <td>The Sims 2: Apartment Pets</td>\n      <td>DS</td>\n      <td>2008.0</td>\n      <td>Simulation</td>\n      <td>Electronic Arts</td>\n      <td>0.70</td>\n      <td>High</td>\n      <td>9.0</td>\n    </tr>\n    <tr>\n      <th>3003</th>\n      <td>3005</td>\n      <td>Country Dance</td>\n      <td>Wii</td>\n      <td>2011.0</td>\n      <td>Misc</td>\n      <td>Funbox Media</td>\n      <td>0.68</td>\n      <td>High</td>\n      <td>5.0</td>\n    </tr>\n    <tr>\n      <th>2934</th>\n      <td>2936</td>\n      <td>TimeSplitters 2</td>\n      <td>PS2</td>\n      <td>2002.0</td>\n      <td>Shooter</td>\n      <td>Eidos Interactive</td>\n      <td>0.70</td>\n      <td>High</td>\n      <td>3.0</td>\n    </tr>\n    <tr>\n      <th>543</th>\n      <td>544</td>\n      <td>Saints Row: The Third</td>\n      <td>X360</td>\n      <td>2011.0</td>\n      <td>Action</td>\n      <td>THQ</td>\n      <td>2.77</td>\n      <td>High</td>\n      <td>1.0</td>\n    </tr>\n    <tr>\n      <th>2604</th>\n      <td>2606</td>\n      <td>Momotarou Dentetsu 7</td>\n      <td>PS</td>\n      <td>1997.0</td>\n      <td>Simulation</td>\n      <td>Hudson Entertainment</td>\n      <td>0.79</td>\n      <td>High</td>\n      <td>9.0</td>\n    </tr>\n  </tbody>\n</table>\n</div>"
     },
     "metadata": {},
     "execution_count": 232
    }
   ],
   "source": [
    "# dummies = pd.get_dummies(inputs.Genre)\n",
    "# dummies.head(10)\n",
    "# def genretoid(x):\n",
    "#     if x == \"Action\":\n",
    "#        return 1\n",
    "#     elif x == \"Sports\":\n",
    "#        return 2\n",
    "#     elif x == \"Shooter\":\n",
    "#        return 3\n",
    "#     elif x == \"Role-Playing\":\n",
    "#        return 4\n",
    "#     elif x == \"Misc\":\n",
    "#        return 5\n",
    "#     elif x == \"Racing\":\n",
    "#        return 6\n",
    "#     elif x == \"Platform\":\n",
    "#        return 7\n",
    "#     elif x == \"Fighting\":\n",
    "#        return 8\n",
    "#     elif x == \"Simulation\":\n",
    "#        return 9\n",
    "#     elif x == \"Puzzle\":\n",
    "#        return 10\n",
    "#     elif x == \"Adventure\":\n",
    "#        return 11\n",
    "#     elif x == \"Strategy\":\n",
    "#        return 12\n",
    "dfhigh.loc[df['Genre'] == 'Action', 'GenreId'] = 1 \n",
    "dfhigh.loc[df['Genre'] == 'Sports', 'GenreId'] = 2\n",
    "dfhigh.loc[df['Genre'] == 'Shooter', 'GenreId'] = 3 \n",
    "dfhigh.loc[df['Genre'] == 'Role-Playing', 'GenreId'] = 4 \n",
    "dfhigh.loc[df['Genre'] == 'Misc', 'GenreId'] = 5 \n",
    "dfhigh.loc[df['Genre'] == 'Racing', 'GenreId'] = 6 \n",
    "dfhigh.loc[df['Genre'] == 'Platform', 'GenreId'] = 7 \n",
    "dfhigh.loc[df['Genre'] == 'Fighting', 'GenreId'] = 8 \n",
    "dfhigh.loc[df['Genre'] == 'Simulation', 'GenreId'] = 9 \n",
    "dfhigh.loc[df['Genre'] == 'Puzzle', 'GenreId'] = 10 \n",
    "dfhigh.loc[df['Genre'] == 'Adventure', 'GenreId'] = 11 \n",
    "dfhigh.loc[df['Genre'] == 'Strategy', 'GenreId'] = 12 \n",
    "\n",
    "\n",
    "# df['Mean_global']=df['Global_Sales'].apply(lambda x: 'High' if x>=0.5377441 else 'Low')\n",
    "# dfhigh['GenreId']=dfhigh['Genre'].apply(genretoid)\n",
    "dfhigh.sample(10)\n",
    "\n"
   ]
  },
  {
   "cell_type": "code",
   "execution_count": 233,
   "metadata": {},
   "outputs": [],
   "source": [
    "inputs = dfhigh.drop('Global_Sales',axis='columns')\n",
    "target = dfhigh.Global_Sales"
   ]
  },
  {
   "cell_type": "code",
   "execution_count": 234,
   "metadata": {},
   "outputs": [],
   "source": [
    "# inputs = pd.concat([inputs,GenreId],axis='columns')\n",
    "# inputs.head(5)\n"
   ]
  },
  {
   "cell_type": "code",
   "execution_count": 235,
   "metadata": {},
   "outputs": [
    {
     "output_type": "execute_result",
     "data": {
      "text/plain": [
       "   Rank  GenreId\n",
       "0     1      2.0\n",
       "1     2      7.0\n",
       "2     3      6.0\n",
       "3     4      2.0\n",
       "4     5      4.0"
      ],
      "text/html": "<div>\n<style scoped>\n    .dataframe tbody tr th:only-of-type {\n        vertical-align: middle;\n    }\n\n    .dataframe tbody tr th {\n        vertical-align: top;\n    }\n\n    .dataframe thead th {\n        text-align: right;\n    }\n</style>\n<table border=\"1\" class=\"dataframe\">\n  <thead>\n    <tr style=\"text-align: right;\">\n      <th></th>\n      <th>Rank</th>\n      <th>GenreId</th>\n    </tr>\n  </thead>\n  <tbody>\n    <tr>\n      <th>0</th>\n      <td>1</td>\n      <td>2.0</td>\n    </tr>\n    <tr>\n      <th>1</th>\n      <td>2</td>\n      <td>7.0</td>\n    </tr>\n    <tr>\n      <th>2</th>\n      <td>3</td>\n      <td>6.0</td>\n    </tr>\n    <tr>\n      <th>3</th>\n      <td>4</td>\n      <td>2.0</td>\n    </tr>\n    <tr>\n      <th>4</th>\n      <td>5</td>\n      <td>4.0</td>\n    </tr>\n  </tbody>\n</table>\n</div>"
     },
     "metadata": {},
     "execution_count": 235
    }
   ],
   "source": [
    "inputs.drop(['Name','Platform','Genre','Year','Publisher','Mean_global'],axis='columns',inplace=True)\n",
    "inputs.head()"
   ]
  },
  {
   "cell_type": "code",
   "execution_count": 239,
   "metadata": {},
   "outputs": [],
   "source": [
    "X = inputs.astype(int)\n",
    "Y = target.astype(int)\n",
    "X_train, X_test, y_train, y_test = train_test_split(X,Y,test_size=0.3)\n",
    "model = GaussianNB()"
   ]
  },
  {
   "cell_type": "code",
   "execution_count": 240,
   "metadata": {},
   "outputs": [
    {
     "output_type": "execute_result",
     "data": {
      "text/plain": [
       "      Rank  GenreId\n",
       "1656  1658        1\n",
       "3686  3688        8\n",
       "1154  1156        1\n",
       "3471  3473        4\n",
       "1738  1740       10\n",
       "...    ...      ...\n",
       "2003  2005        1\n",
       "3108  3110        5\n",
       "1598  1600        4\n",
       "2951  2953        1\n",
       "3015  3017        3\n",
       "\n",
       "[2590 rows x 2 columns]"
      ],
      "text/html": "<div>\n<style scoped>\n    .dataframe tbody tr th:only-of-type {\n        vertical-align: middle;\n    }\n\n    .dataframe tbody tr th {\n        vertical-align: top;\n    }\n\n    .dataframe thead th {\n        text-align: right;\n    }\n</style>\n<table border=\"1\" class=\"dataframe\">\n  <thead>\n    <tr style=\"text-align: right;\">\n      <th></th>\n      <th>Rank</th>\n      <th>GenreId</th>\n    </tr>\n  </thead>\n  <tbody>\n    <tr>\n      <th>1656</th>\n      <td>1658</td>\n      <td>1</td>\n    </tr>\n    <tr>\n      <th>3686</th>\n      <td>3688</td>\n      <td>8</td>\n    </tr>\n    <tr>\n      <th>1154</th>\n      <td>1156</td>\n      <td>1</td>\n    </tr>\n    <tr>\n      <th>3471</th>\n      <td>3473</td>\n      <td>4</td>\n    </tr>\n    <tr>\n      <th>1738</th>\n      <td>1740</td>\n      <td>10</td>\n    </tr>\n    <tr>\n      <th>...</th>\n      <td>...</td>\n      <td>...</td>\n    </tr>\n    <tr>\n      <th>2003</th>\n      <td>2005</td>\n      <td>1</td>\n    </tr>\n    <tr>\n      <th>3108</th>\n      <td>3110</td>\n      <td>5</td>\n    </tr>\n    <tr>\n      <th>1598</th>\n      <td>1600</td>\n      <td>4</td>\n    </tr>\n    <tr>\n      <th>2951</th>\n      <td>2953</td>\n      <td>1</td>\n    </tr>\n    <tr>\n      <th>3015</th>\n      <td>3017</td>\n      <td>3</td>\n    </tr>\n  </tbody>\n</table>\n<p>2590 rows × 2 columns</p>\n</div>"
     },
     "metadata": {},
     "execution_count": 240
    }
   ],
   "source": [
    "X_train"
   ]
  },
  {
   "cell_type": "code",
   "execution_count": 241,
   "metadata": {},
   "outputs": [
    {
     "output_type": "execute_result",
     "data": {
      "text/plain": [
       "GaussianNB()"
      ]
     },
     "metadata": {},
     "execution_count": 241
    }
   ],
   "source": [
    "model.fit(X_train,y_train)"
   ]
  },
  {
   "cell_type": "code",
   "execution_count": 242,
   "metadata": {},
   "outputs": [
    {
     "output_type": "execute_result",
     "data": {
      "text/plain": [
       "0.9756975697569757"
      ]
     },
     "metadata": {},
     "execution_count": 242
    }
   ],
   "source": [
    "model.score(X_test,y_test)"
   ]
  },
  {
   "cell_type": "code",
   "execution_count": 243,
   "metadata": {},
   "outputs": [
    {
     "output_type": "execute_result",
     "data": {
      "text/plain": [
       "array([1, 1, 1, 0, 1, 0, 1, 2, 1, 0])"
      ]
     },
     "metadata": {},
     "execution_count": 243
    }
   ],
   "source": [
    "model.predict(X_test[0:10])"
   ]
  },
  {
   "cell_type": "code",
   "execution_count": 115,
   "metadata": {},
   "outputs": [
    {
     "output_type": "execute_result",
     "data": {
      "text/plain": [
       "array([[9.78947563e-006, 9.99890141e-001, 1.00069962e-004,\n",
       "        4.11214529e-014, 9.45822530e-015, 3.67825900e-019,\n",
       "        2.62114975e-018, 2.16877131e-045, 7.52205013e-103,\n",
       "        4.83790809e-077, 6.62535211e-076, 9.54999327e-090,\n",
       "        3.44555650e-260, 0.00000000e+000, 2.48089872e-052,\n",
       "        0.00000000e+000, 0.00000000e+000, 0.00000000e+000,\n",
       "        0.00000000e+000, 0.00000000e+000, 0.00000000e+000,\n",
       "        0.00000000e+000, 3.18899035e-211, 0.00000000e+000,\n",
       "        2.76478706e-185, 0.00000000e+000, 0.00000000e+000],\n",
       "       [2.35361223e-001, 7.64638777e-001, 2.04655733e-032,\n",
       "        1.43592678e-235, 0.00000000e+000, 0.00000000e+000,\n",
       "        0.00000000e+000, 0.00000000e+000, 0.00000000e+000,\n",
       "        0.00000000e+000, 0.00000000e+000, 0.00000000e+000,\n",
       "        0.00000000e+000, 0.00000000e+000, 0.00000000e+000,\n",
       "        0.00000000e+000, 0.00000000e+000, 0.00000000e+000,\n",
       "        0.00000000e+000, 0.00000000e+000, 0.00000000e+000,\n",
       "        0.00000000e+000, 0.00000000e+000, 0.00000000e+000,\n",
       "        0.00000000e+000, 0.00000000e+000, 0.00000000e+000],\n",
       "       [7.78219049e-003, 9.92217810e-001, 2.29431276e-012,\n",
       "        2.16295993e-107, 0.00000000e+000, 0.00000000e+000,\n",
       "        0.00000000e+000, 0.00000000e+000, 0.00000000e+000,\n",
       "        0.00000000e+000, 0.00000000e+000, 0.00000000e+000,\n",
       "        0.00000000e+000, 0.00000000e+000, 0.00000000e+000,\n",
       "        0.00000000e+000, 0.00000000e+000, 0.00000000e+000,\n",
       "        0.00000000e+000, 0.00000000e+000, 0.00000000e+000,\n",
       "        0.00000000e+000, 0.00000000e+000, 0.00000000e+000,\n",
       "        0.00000000e+000, 0.00000000e+000, 0.00000000e+000],\n",
       "       [9.99854633e-001, 1.45366765e-004, 1.67539435e-099,\n",
       "        0.00000000e+000, 0.00000000e+000, 0.00000000e+000,\n",
       "        0.00000000e+000, 0.00000000e+000, 0.00000000e+000,\n",
       "        0.00000000e+000, 0.00000000e+000, 0.00000000e+000,\n",
       "        0.00000000e+000, 0.00000000e+000, 0.00000000e+000,\n",
       "        0.00000000e+000, 0.00000000e+000, 0.00000000e+000,\n",
       "        0.00000000e+000, 0.00000000e+000, 0.00000000e+000,\n",
       "        0.00000000e+000, 0.00000000e+000, 0.00000000e+000,\n",
       "        0.00000000e+000, 0.00000000e+000, 0.00000000e+000],\n",
       "       [2.71875077e-001, 7.28124923e-001, 8.70760386e-041,\n",
       "        3.74548115e-267, 0.00000000e+000, 0.00000000e+000,\n",
       "        0.00000000e+000, 0.00000000e+000, 0.00000000e+000,\n",
       "        0.00000000e+000, 0.00000000e+000, 0.00000000e+000,\n",
       "        0.00000000e+000, 0.00000000e+000, 0.00000000e+000,\n",
       "        0.00000000e+000, 0.00000000e+000, 0.00000000e+000,\n",
       "        0.00000000e+000, 0.00000000e+000, 0.00000000e+000,\n",
       "        0.00000000e+000, 0.00000000e+000, 0.00000000e+000,\n",
       "        0.00000000e+000, 0.00000000e+000, 0.00000000e+000],\n",
       "       [6.19697098e-002, 9.38030290e-001, 4.77765516e-030,\n",
       "        1.75887876e-224, 0.00000000e+000, 0.00000000e+000,\n",
       "        0.00000000e+000, 0.00000000e+000, 0.00000000e+000,\n",
       "        0.00000000e+000, 0.00000000e+000, 0.00000000e+000,\n",
       "        0.00000000e+000, 0.00000000e+000, 0.00000000e+000,\n",
       "        0.00000000e+000, 0.00000000e+000, 0.00000000e+000,\n",
       "        0.00000000e+000, 0.00000000e+000, 0.00000000e+000,\n",
       "        0.00000000e+000, 0.00000000e+000, 0.00000000e+000,\n",
       "        0.00000000e+000, 0.00000000e+000, 0.00000000e+000],\n",
       "       [9.97389217e-001, 2.61078255e-003, 1.86859931e-079,\n",
       "        0.00000000e+000, 0.00000000e+000, 0.00000000e+000,\n",
       "        0.00000000e+000, 0.00000000e+000, 0.00000000e+000,\n",
       "        0.00000000e+000, 0.00000000e+000, 0.00000000e+000,\n",
       "        0.00000000e+000, 0.00000000e+000, 0.00000000e+000,\n",
       "        0.00000000e+000, 0.00000000e+000, 0.00000000e+000,\n",
       "        0.00000000e+000, 0.00000000e+000, 0.00000000e+000,\n",
       "        0.00000000e+000, 0.00000000e+000, 0.00000000e+000,\n",
       "        0.00000000e+000, 0.00000000e+000, 0.00000000e+000],\n",
       "       [9.99999862e-001, 1.37940742e-007, 1.06850738e-081,\n",
       "        0.00000000e+000, 0.00000000e+000, 0.00000000e+000,\n",
       "        0.00000000e+000, 0.00000000e+000, 0.00000000e+000,\n",
       "        0.00000000e+000, 0.00000000e+000, 0.00000000e+000,\n",
       "        0.00000000e+000, 0.00000000e+000, 0.00000000e+000,\n",
       "        0.00000000e+000, 0.00000000e+000, 0.00000000e+000,\n",
       "        0.00000000e+000, 0.00000000e+000, 0.00000000e+000,\n",
       "        0.00000000e+000, 0.00000000e+000, 0.00000000e+000,\n",
       "        0.00000000e+000, 0.00000000e+000, 0.00000000e+000],\n",
       "       [9.49363834e-001, 5.06361657e-002, 1.44134716e-058,\n",
       "        0.00000000e+000, 0.00000000e+000, 0.00000000e+000,\n",
       "        0.00000000e+000, 0.00000000e+000, 0.00000000e+000,\n",
       "        0.00000000e+000, 0.00000000e+000, 0.00000000e+000,\n",
       "        0.00000000e+000, 0.00000000e+000, 0.00000000e+000,\n",
       "        0.00000000e+000, 0.00000000e+000, 0.00000000e+000,\n",
       "        0.00000000e+000, 0.00000000e+000, 0.00000000e+000,\n",
       "        0.00000000e+000, 0.00000000e+000, 0.00000000e+000,\n",
       "        0.00000000e+000, 0.00000000e+000, 0.00000000e+000],\n",
       "       [9.99997394e-001, 2.60646024e-006, 5.41122428e-130,\n",
       "        0.00000000e+000, 0.00000000e+000, 0.00000000e+000,\n",
       "        0.00000000e+000, 0.00000000e+000, 0.00000000e+000,\n",
       "        0.00000000e+000, 0.00000000e+000, 0.00000000e+000,\n",
       "        0.00000000e+000, 0.00000000e+000, 0.00000000e+000,\n",
       "        0.00000000e+000, 0.00000000e+000, 0.00000000e+000,\n",
       "        0.00000000e+000, 0.00000000e+000, 0.00000000e+000,\n",
       "        0.00000000e+000, 0.00000000e+000, 0.00000000e+000,\n",
       "        0.00000000e+000, 0.00000000e+000, 0.00000000e+000]])"
      ]
     },
     "metadata": {},
     "execution_count": 115
    }
   ],
   "source": [
    "model.predict_proba(X_test[:10])"
   ]
  },
  {
   "cell_type": "code",
   "execution_count": 244,
   "metadata": {},
   "outputs": [
    {
     "output_type": "stream",
     "name": "stderr",
     "text": [
      "/Users/navamongkoltongta/opt/anaconda3/lib/python3.8/site-packages/sklearn/model_selection/_split.py:670: UserWarning: The least populated class in y has only 1 members, which is less than n_splits=5.\n  warnings.warn((\"The least populated class in y has only %d\"\n"
     ]
    },
    {
     "output_type": "execute_result",
     "data": {
      "text/plain": [
       "array([0.98262548, 0.97683398, 0.97490347, 0.98069498, 0.98841699])"
      ]
     },
     "metadata": {},
     "execution_count": 244
    }
   ],
   "source": [
    "from sklearn.model_selection import cross_val_score\n",
    "cross_val_score(GaussianNB(),X_train, y_train, cv=5)"
   ]
  },
  {
   "cell_type": "code",
   "execution_count": null,
   "metadata": {},
   "outputs": [],
   "source": []
  }
 ],
 "metadata": {
  "kernelspec": {
   "display_name": "Python 3",
   "language": "python",
   "name": "python3"
  },
  "language_info": {
   "codemirror_mode": {
    "name": "ipython",
    "version": 3
   },
   "file_extension": ".py",
   "mimetype": "text/x-python",
   "name": "python",
   "nbconvert_exporter": "python",
   "pygments_lexer": "ipython3",
   "version": "3.8.5-final"
  }
 },
 "nbformat": 4,
 "nbformat_minor": 4
}