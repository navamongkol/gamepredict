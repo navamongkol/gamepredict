{
 "cells": [
  {
   "cell_type": "code",
   "execution_count": 1,
   "metadata": {},
   "outputs": [],
   "source": [
    "#import\n",
    "import pandas as pd\n",
    "import numpy as np\n",
    "from matplotlib import pyplot as plt\n",
    "\n",
    "from sklearn.model_selection import train_test_split\n",
    "from sklearn.metrics import classification_report\n",
    "from sklearn.preprocessing import OrdinalEncoder\n",
    "\n",
    "from sklearn.naive_bayes import GaussianNB\n"
   ]
  },
  {
   "cell_type": "code",
   "execution_count": 2,
   "metadata": {},
   "outputs": [],
   "source": [
    "#read_csv\n",
    "df = pd.read_csv('/Users/navamongkoltongta/OneDrive - Assumption University/Year2.2/Data Science/Project/vgsales.csv')"
   ]
  },
  {
   "cell_type": "code",
   "execution_count": 3,
   "metadata": {},
   "outputs": [
    {
     "data": {
      "text/html": [
       "<div>\n",
       "<style scoped>\n",
       "    .dataframe tbody tr th:only-of-type {\n",
       "        vertical-align: middle;\n",
       "    }\n",
       "\n",
       "    .dataframe tbody tr th {\n",
       "        vertical-align: top;\n",
       "    }\n",
       "\n",
       "    .dataframe thead th {\n",
       "        text-align: right;\n",
       "    }\n",
       "</style>\n",
       "<table border=\"1\" class=\"dataframe\">\n",
       "  <thead>\n",
       "    <tr style=\"text-align: right;\">\n",
       "      <th></th>\n",
       "      <th>Rank</th>\n",
       "      <th>Name</th>\n",
       "      <th>Platform</th>\n",
       "      <th>Year</th>\n",
       "      <th>Genre</th>\n",
       "      <th>Publisher</th>\n",
       "      <th>NA_Sales</th>\n",
       "      <th>EU_Sales</th>\n",
       "      <th>JP_Sales</th>\n",
       "      <th>Other_Sales</th>\n",
       "      <th>Global_Sales</th>\n",
       "    </tr>\n",
       "  </thead>\n",
       "  <tbody>\n",
       "    <tr>\n",
       "      <th>0</th>\n",
       "      <td>1</td>\n",
       "      <td>Wii Sports</td>\n",
       "      <td>Wii</td>\n",
       "      <td>2006.0</td>\n",
       "      <td>Sports</td>\n",
       "      <td>Nintendo</td>\n",
       "      <td>41.49</td>\n",
       "      <td>29.02</td>\n",
       "      <td>3.77</td>\n",
       "      <td>8.46</td>\n",
       "      <td>82.74</td>\n",
       "    </tr>\n",
       "    <tr>\n",
       "      <th>1</th>\n",
       "      <td>2</td>\n",
       "      <td>Super Mario Bros.</td>\n",
       "      <td>NES</td>\n",
       "      <td>1985.0</td>\n",
       "      <td>Platform</td>\n",
       "      <td>Nintendo</td>\n",
       "      <td>29.08</td>\n",
       "      <td>3.58</td>\n",
       "      <td>6.81</td>\n",
       "      <td>0.77</td>\n",
       "      <td>40.24</td>\n",
       "    </tr>\n",
       "    <tr>\n",
       "      <th>2</th>\n",
       "      <td>3</td>\n",
       "      <td>Mario Kart Wii</td>\n",
       "      <td>Wii</td>\n",
       "      <td>2008.0</td>\n",
       "      <td>Racing</td>\n",
       "      <td>Nintendo</td>\n",
       "      <td>15.85</td>\n",
       "      <td>12.88</td>\n",
       "      <td>3.79</td>\n",
       "      <td>3.31</td>\n",
       "      <td>35.82</td>\n",
       "    </tr>\n",
       "    <tr>\n",
       "      <th>3</th>\n",
       "      <td>4</td>\n",
       "      <td>Wii Sports Resort</td>\n",
       "      <td>Wii</td>\n",
       "      <td>2009.0</td>\n",
       "      <td>Sports</td>\n",
       "      <td>Nintendo</td>\n",
       "      <td>15.75</td>\n",
       "      <td>11.01</td>\n",
       "      <td>3.28</td>\n",
       "      <td>2.96</td>\n",
       "      <td>33.00</td>\n",
       "    </tr>\n",
       "    <tr>\n",
       "      <th>4</th>\n",
       "      <td>5</td>\n",
       "      <td>Pokemon Red/Pokemon Blue</td>\n",
       "      <td>GB</td>\n",
       "      <td>1996.0</td>\n",
       "      <td>Role-Playing</td>\n",
       "      <td>Nintendo</td>\n",
       "      <td>11.27</td>\n",
       "      <td>8.89</td>\n",
       "      <td>10.22</td>\n",
       "      <td>1.00</td>\n",
       "      <td>31.37</td>\n",
       "    </tr>\n",
       "  </tbody>\n",
       "</table>\n",
       "</div>"
      ],
      "text/plain": [
       "   Rank                      Name Platform    Year         Genre Publisher  \\\n",
       "0     1                Wii Sports      Wii  2006.0        Sports  Nintendo   \n",
       "1     2         Super Mario Bros.      NES  1985.0      Platform  Nintendo   \n",
       "2     3            Mario Kart Wii      Wii  2008.0        Racing  Nintendo   \n",
       "3     4         Wii Sports Resort      Wii  2009.0        Sports  Nintendo   \n",
       "4     5  Pokemon Red/Pokemon Blue       GB  1996.0  Role-Playing  Nintendo   \n",
       "\n",
       "   NA_Sales  EU_Sales  JP_Sales  Other_Sales  Global_Sales  \n",
       "0     41.49     29.02      3.77         8.46         82.74  \n",
       "1     29.08      3.58      6.81         0.77         40.24  \n",
       "2     15.85     12.88      3.79         3.31         35.82  \n",
       "3     15.75     11.01      3.28         2.96         33.00  \n",
       "4     11.27      8.89     10.22         1.00         31.37  "
      ]
     },
     "execution_count": 3,
     "metadata": {},
     "output_type": "execute_result"
    }
   ],
   "source": [
    "df.head()"
   ]
  },
  {
   "cell_type": "code",
   "execution_count": 4,
   "metadata": {},
   "outputs": [],
   "source": [
    "#drop_unneccessary_column\n",
    "df.drop(columns=['NA_Sales','EU_Sales','JP_Sales','Other_Sales'], inplace=True)"
   ]
  },
  {
   "cell_type": "code",
   "execution_count": 5,
   "metadata": {},
   "outputs": [
    {
     "data": {
      "text/plain": [
       "Rank            16598\n",
       "Name            16598\n",
       "Platform        16598\n",
       "Year            16327\n",
       "Genre           16598\n",
       "Publisher       16540\n",
       "Global_Sales    16598\n",
       "dtype: int64"
      ]
     },
     "execution_count": 5,
     "metadata": {},
     "output_type": "execute_result"
    }
   ],
   "source": [
    "df.count()"
   ]
  },
  {
   "cell_type": "code",
   "execution_count": 6,
   "metadata": {},
   "outputs": [],
   "source": [
    "df.dropna(how='any',subset=['Year','Publisher'],inplace=True)"
   ]
  },
  {
   "cell_type": "code",
   "execution_count": 7,
   "metadata": {},
   "outputs": [],
   "source": [
    "df.drop(df[df.Year < 2010].index, inplace=True)"
   ]
  },
  {
   "cell_type": "code",
   "execution_count": 8,
   "metadata": {},
   "outputs": [
    {
     "data": {
      "text/html": [
       "<div>\n",
       "<style scoped>\n",
       "    .dataframe tbody tr th:only-of-type {\n",
       "        vertical-align: middle;\n",
       "    }\n",
       "\n",
       "    .dataframe tbody tr th {\n",
       "        vertical-align: top;\n",
       "    }\n",
       "\n",
       "    .dataframe thead th {\n",
       "        text-align: right;\n",
       "    }\n",
       "</style>\n",
       "<table border=\"1\" class=\"dataframe\">\n",
       "  <thead>\n",
       "    <tr style=\"text-align: right;\">\n",
       "      <th></th>\n",
       "      <th>Rank</th>\n",
       "      <th>Name</th>\n",
       "      <th>Platform</th>\n",
       "      <th>Year</th>\n",
       "      <th>Genre</th>\n",
       "      <th>Publisher</th>\n",
       "      <th>Global_Sales</th>\n",
       "    </tr>\n",
       "  </thead>\n",
       "  <tbody>\n",
       "  </tbody>\n",
       "</table>\n",
       "</div>"
      ],
      "text/plain": [
       "Empty DataFrame\n",
       "Columns: [Rank, Name, Platform, Year, Genre, Publisher, Global_Sales]\n",
       "Index: []"
      ]
     },
     "execution_count": 8,
     "metadata": {},
     "output_type": "execute_result"
    }
   ],
   "source": [
    "df[df['Publisher'].isnull()]"
   ]
  },
  {
   "cell_type": "code",
   "execution_count": 9,
   "metadata": {},
   "outputs": [
    {
     "data": {
      "text/plain": [
       "Rank            0\n",
       "Name            0\n",
       "Platform        0\n",
       "Year            0\n",
       "Genre           0\n",
       "Publisher       0\n",
       "Global_Sales    0\n",
       "dtype: int64"
      ]
     },
     "execution_count": 9,
     "metadata": {},
     "output_type": "execute_result"
    }
   ],
   "source": [
    "df.isnull().sum()"
   ]
  },
  {
   "cell_type": "code",
   "execution_count": 10,
   "metadata": {},
   "outputs": [
    {
     "data": {
      "text/plain": [
       "Rank            5134\n",
       "Name            5134\n",
       "Platform        5134\n",
       "Year            5134\n",
       "Genre           5134\n",
       "Publisher       5134\n",
       "Global_Sales    5134\n",
       "dtype: int64"
      ]
     },
     "execution_count": 10,
     "metadata": {},
     "output_type": "execute_result"
    }
   ],
   "source": [
    "df.count()"
   ]
  },
  {
   "cell_type": "code",
   "execution_count": 11,
   "metadata": {},
   "outputs": [
    {
     "data": {
      "text/html": [
       "<div>\n",
       "<style scoped>\n",
       "    .dataframe tbody tr th:only-of-type {\n",
       "        vertical-align: middle;\n",
       "    }\n",
       "\n",
       "    .dataframe tbody tr th {\n",
       "        vertical-align: top;\n",
       "    }\n",
       "\n",
       "    .dataframe thead th {\n",
       "        text-align: right;\n",
       "    }\n",
       "</style>\n",
       "<table border=\"1\" class=\"dataframe\">\n",
       "  <thead>\n",
       "    <tr style=\"text-align: right;\">\n",
       "      <th></th>\n",
       "      <th>Rank</th>\n",
       "      <th>Year</th>\n",
       "      <th>Global_Sales</th>\n",
       "    </tr>\n",
       "  </thead>\n",
       "  <tbody>\n",
       "    <tr>\n",
       "      <th>count</th>\n",
       "      <td>5134.000000</td>\n",
       "      <td>5134.000000</td>\n",
       "      <td>5134.000000</td>\n",
       "    </tr>\n",
       "    <tr>\n",
       "      <th>mean</th>\n",
       "      <td>8903.949357</td>\n",
       "      <td>2012.251071</td>\n",
       "      <td>0.490923</td>\n",
       "    </tr>\n",
       "    <tr>\n",
       "      <th>std</th>\n",
       "      <td>4914.303885</td>\n",
       "      <td>1.966175</td>\n",
       "      <td>1.242906</td>\n",
       "    </tr>\n",
       "    <tr>\n",
       "      <th>min</th>\n",
       "      <td>16.000000</td>\n",
       "      <td>2010.000000</td>\n",
       "      <td>0.010000</td>\n",
       "    </tr>\n",
       "    <tr>\n",
       "      <th>25%</th>\n",
       "      <td>4680.250000</td>\n",
       "      <td>2011.000000</td>\n",
       "      <td>0.050000</td>\n",
       "    </tr>\n",
       "    <tr>\n",
       "      <th>50%</th>\n",
       "      <td>9246.000000</td>\n",
       "      <td>2012.000000</td>\n",
       "      <td>0.140000</td>\n",
       "    </tr>\n",
       "    <tr>\n",
       "      <th>75%</th>\n",
       "      <td>13335.500000</td>\n",
       "      <td>2014.000000</td>\n",
       "      <td>0.410000</td>\n",
       "    </tr>\n",
       "    <tr>\n",
       "      <th>max</th>\n",
       "      <td>16599.000000</td>\n",
       "      <td>2020.000000</td>\n",
       "      <td>21.820000</td>\n",
       "    </tr>\n",
       "  </tbody>\n",
       "</table>\n",
       "</div>"
      ],
      "text/plain": [
       "               Rank         Year  Global_Sales\n",
       "count   5134.000000  5134.000000   5134.000000\n",
       "mean    8903.949357  2012.251071      0.490923\n",
       "std     4914.303885     1.966175      1.242906\n",
       "min       16.000000  2010.000000      0.010000\n",
       "25%     4680.250000  2011.000000      0.050000\n",
       "50%     9246.000000  2012.000000      0.140000\n",
       "75%    13335.500000  2014.000000      0.410000\n",
       "max    16599.000000  2020.000000     21.820000"
      ]
     },
     "execution_count": 11,
     "metadata": {},
     "output_type": "execute_result"
    }
   ],
   "source": [
    "df.describe()"
   ]
  },
  {
   "cell_type": "code",
   "execution_count": 12,
   "metadata": {},
   "outputs": [
    {
     "data": {
      "text/html": [
       "<div>\n",
       "<style scoped>\n",
       "    .dataframe tbody tr th:only-of-type {\n",
       "        vertical-align: middle;\n",
       "    }\n",
       "\n",
       "    .dataframe tbody tr th {\n",
       "        vertical-align: top;\n",
       "    }\n",
       "\n",
       "    .dataframe thead th {\n",
       "        text-align: right;\n",
       "    }\n",
       "</style>\n",
       "<table border=\"1\" class=\"dataframe\">\n",
       "  <thead>\n",
       "    <tr style=\"text-align: right;\">\n",
       "      <th></th>\n",
       "      <th>Rank</th>\n",
       "      <th>Name</th>\n",
       "      <th>Platform</th>\n",
       "      <th>Year</th>\n",
       "      <th>Genre</th>\n",
       "      <th>Publisher</th>\n",
       "      <th>Global_Sales</th>\n",
       "      <th>Sales_level</th>\n",
       "    </tr>\n",
       "  </thead>\n",
       "  <tbody>\n",
       "    <tr>\n",
       "      <th>15</th>\n",
       "      <td>16</td>\n",
       "      <td>Kinect Adventures!</td>\n",
       "      <td>X360</td>\n",
       "      <td>2010.0</td>\n",
       "      <td>Misc</td>\n",
       "      <td>Microsoft Game Studios</td>\n",
       "      <td>21.82</td>\n",
       "      <td>4.0</td>\n",
       "    </tr>\n",
       "    <tr>\n",
       "      <th>16</th>\n",
       "      <td>17</td>\n",
       "      <td>Grand Theft Auto V</td>\n",
       "      <td>PS3</td>\n",
       "      <td>2013.0</td>\n",
       "      <td>Action</td>\n",
       "      <td>Take-Two Interactive</td>\n",
       "      <td>21.40</td>\n",
       "      <td>4.0</td>\n",
       "    </tr>\n",
       "    <tr>\n",
       "      <th>23</th>\n",
       "      <td>24</td>\n",
       "      <td>Grand Theft Auto V</td>\n",
       "      <td>X360</td>\n",
       "      <td>2013.0</td>\n",
       "      <td>Action</td>\n",
       "      <td>Take-Two Interactive</td>\n",
       "      <td>16.38</td>\n",
       "      <td>4.0</td>\n",
       "    </tr>\n",
       "    <tr>\n",
       "      <th>26</th>\n",
       "      <td>27</td>\n",
       "      <td>Pokemon Black/Pokemon White</td>\n",
       "      <td>DS</td>\n",
       "      <td>2010.0</td>\n",
       "      <td>Role-Playing</td>\n",
       "      <td>Nintendo</td>\n",
       "      <td>15.32</td>\n",
       "      <td>4.0</td>\n",
       "    </tr>\n",
       "    <tr>\n",
       "      <th>29</th>\n",
       "      <td>30</td>\n",
       "      <td>Call of Duty: Modern Warfare 3</td>\n",
       "      <td>X360</td>\n",
       "      <td>2011.0</td>\n",
       "      <td>Shooter</td>\n",
       "      <td>Activision</td>\n",
       "      <td>14.76</td>\n",
       "      <td>4.0</td>\n",
       "    </tr>\n",
       "  </tbody>\n",
       "</table>\n",
       "</div>"
      ],
      "text/plain": [
       "    Rank                            Name Platform    Year         Genre  \\\n",
       "15    16              Kinect Adventures!     X360  2010.0          Misc   \n",
       "16    17              Grand Theft Auto V      PS3  2013.0        Action   \n",
       "23    24              Grand Theft Auto V     X360  2013.0        Action   \n",
       "26    27     Pokemon Black/Pokemon White       DS  2010.0  Role-Playing   \n",
       "29    30  Call of Duty: Modern Warfare 3     X360  2011.0       Shooter   \n",
       "\n",
       "                 Publisher  Global_Sales  Sales_level  \n",
       "15  Microsoft Game Studios         21.82          4.0  \n",
       "16    Take-Two Interactive         21.40          4.0  \n",
       "23    Take-Two Interactive         16.38          4.0  \n",
       "26                Nintendo         15.32          4.0  \n",
       "29              Activision         14.76          4.0  "
      ]
     },
     "execution_count": 12,
     "metadata": {},
     "output_type": "execute_result"
    }
   ],
   "source": [
    "## create new column level of global sales\n",
    "df.loc[df['Global_Sales'].between(0.42,22), 'Sales_level'] = 4\n",
    "df.loc[df['Global_Sales'].between(0.15,0.41), 'Sales_level'] = 3\n",
    "df.loc[df['Global_Sales'].between(0.05,0.14), 'Sales_level'] = 2\n",
    "df.loc[df['Global_Sales'] <= 0.05, 'Sales_level'] = 1\n",
    "\n",
    "df.head(5)\n"
   ]
  },
  {
   "cell_type": "code",
   "execution_count": 13,
   "metadata": {},
   "outputs": [
    {
     "data": {
      "text/plain": [
       "1.0    1447\n",
       "4.0    1283\n",
       "3.0    1221\n",
       "2.0    1183\n",
       "Name: Sales_level, dtype: int64"
      ]
     },
     "execution_count": 13,
     "metadata": {},
     "output_type": "execute_result"
    }
   ],
   "source": [
    "df.Sales_level.value_counts()"
   ]
  },
  {
   "cell_type": "code",
   "execution_count": 14,
   "metadata": {},
   "outputs": [
    {
     "data": {
      "text/plain": [
       "Rank            0\n",
       "Name            0\n",
       "Platform        0\n",
       "Year            0\n",
       "Genre           0\n",
       "Publisher       0\n",
       "Global_Sales    0\n",
       "Sales_level     0\n",
       "dtype: int64"
      ]
     },
     "execution_count": 14,
     "metadata": {},
     "output_type": "execute_result"
    }
   ],
   "source": [
    "df.isnull().sum()"
   ]
  },
  {
   "cell_type": "code",
   "execution_count": 15,
   "metadata": {},
   "outputs": [
    {
     "data": {
      "text/plain": [
       "Action          1438\n",
       "Sports           570\n",
       "Misc             563\n",
       "Role-Playing     557\n",
       "Adventure        542\n",
       "Shooter          395\n",
       "Racing           233\n",
       "Simulation       207\n",
       "Fighting         197\n",
       "Strategy         167\n",
       "Platform         150\n",
       "Puzzle           115\n",
       "Name: Genre, dtype: int64"
      ]
     },
     "execution_count": 15,
     "metadata": {},
     "output_type": "execute_result"
    }
   ],
   "source": [
    "#See all Genre\n",
    "df.Genre.value_counts()"
   ]
  },
  {
   "cell_type": "code",
   "execution_count": 16,
   "metadata": {},
   "outputs": [
    {
     "data": {
      "text/plain": [
       "PS3     886\n",
       "X360    681\n",
       "DS      513\n",
       "PSP     500\n",
       "3DS     499\n",
       "PC      456\n",
       "Wii     452\n",
       "PSV     410\n",
       "PS4     336\n",
       "XOne    213\n",
       "WiiU    143\n",
       "PS2      45\n",
       "Name: Platform, dtype: int64"
      ]
     },
     "execution_count": 16,
     "metadata": {},
     "output_type": "execute_result"
    }
   ],
   "source": [
    "#See all Platform\n",
    "df.Platform.value_counts()"
   ]
  },
  {
   "cell_type": "code",
   "execution_count": 17,
   "metadata": {},
   "outputs": [
    {
     "data": {
      "text/html": [
       "<div>\n",
       "<style scoped>\n",
       "    .dataframe tbody tr th:only-of-type {\n",
       "        vertical-align: middle;\n",
       "    }\n",
       "\n",
       "    .dataframe tbody tr th {\n",
       "        vertical-align: top;\n",
       "    }\n",
       "\n",
       "    .dataframe thead th {\n",
       "        text-align: right;\n",
       "    }\n",
       "</style>\n",
       "<table border=\"1\" class=\"dataframe\">\n",
       "  <thead>\n",
       "    <tr style=\"text-align: right;\">\n",
       "      <th></th>\n",
       "      <th>Rank</th>\n",
       "      <th>Name</th>\n",
       "      <th>Platform</th>\n",
       "      <th>Year</th>\n",
       "      <th>Genre</th>\n",
       "      <th>Publisher</th>\n",
       "      <th>Global_Sales</th>\n",
       "      <th>Sales_level</th>\n",
       "      <th>PlatformId</th>\n",
       "    </tr>\n",
       "  </thead>\n",
       "  <tbody>\n",
       "    <tr>\n",
       "      <th>12416</th>\n",
       "      <td>12418</td>\n",
       "      <td>MotoGP 10/11</td>\n",
       "      <td>X360</td>\n",
       "      <td>2011.0</td>\n",
       "      <td>Racing</td>\n",
       "      <td>Capcom</td>\n",
       "      <td>0.06</td>\n",
       "      <td>2.0</td>\n",
       "      <td>5.0</td>\n",
       "    </tr>\n",
       "    <tr>\n",
       "      <th>7290</th>\n",
       "      <td>7292</td>\n",
       "      <td>Code Name: S.T.E.A.M.</td>\n",
       "      <td>3DS</td>\n",
       "      <td>2015.0</td>\n",
       "      <td>Strategy</td>\n",
       "      <td>Nintendo</td>\n",
       "      <td>0.22</td>\n",
       "      <td>3.0</td>\n",
       "      <td>12.0</td>\n",
       "    </tr>\n",
       "    <tr>\n",
       "      <th>2800</th>\n",
       "      <td>2802</td>\n",
       "      <td>F1 2011</td>\n",
       "      <td>X360</td>\n",
       "      <td>2011.0</td>\n",
       "      <td>Racing</td>\n",
       "      <td>Codemasters</td>\n",
       "      <td>0.73</td>\n",
       "      <td>4.0</td>\n",
       "      <td>5.0</td>\n",
       "    </tr>\n",
       "    <tr>\n",
       "      <th>10768</th>\n",
       "      <td>10770</td>\n",
       "      <td>NASCAR Unleashed</td>\n",
       "      <td>PS3</td>\n",
       "      <td>2011.0</td>\n",
       "      <td>Racing</td>\n",
       "      <td>Activision</td>\n",
       "      <td>0.10</td>\n",
       "      <td>2.0</td>\n",
       "      <td>3.0</td>\n",
       "    </tr>\n",
       "    <tr>\n",
       "      <th>13057</th>\n",
       "      <td>13059</td>\n",
       "      <td>Men of War: Assault Squad</td>\n",
       "      <td>PC</td>\n",
       "      <td>2011.0</td>\n",
       "      <td>Strategy</td>\n",
       "      <td>1C Company</td>\n",
       "      <td>0.05</td>\n",
       "      <td>1.0</td>\n",
       "      <td>8.0</td>\n",
       "    </tr>\n",
       "    <tr>\n",
       "      <th>8673</th>\n",
       "      <td>8675</td>\n",
       "      <td>Guilty Gear Xrd: Sign</td>\n",
       "      <td>PS4</td>\n",
       "      <td>2014.0</td>\n",
       "      <td>Fighting</td>\n",
       "      <td>Arc System Works</td>\n",
       "      <td>0.16</td>\n",
       "      <td>3.0</td>\n",
       "      <td>14.0</td>\n",
       "    </tr>\n",
       "    <tr>\n",
       "      <th>10519</th>\n",
       "      <td>10521</td>\n",
       "      <td>God Eater 2: Rage Burst</td>\n",
       "      <td>PS4</td>\n",
       "      <td>2015.0</td>\n",
       "      <td>Role-Playing</td>\n",
       "      <td>Namco Bandai Games</td>\n",
       "      <td>0.10</td>\n",
       "      <td>2.0</td>\n",
       "      <td>14.0</td>\n",
       "    </tr>\n",
       "    <tr>\n",
       "      <th>9298</th>\n",
       "      <td>9300</td>\n",
       "      <td>Kamen Rider Battle: Ganbaride</td>\n",
       "      <td>DS</td>\n",
       "      <td>2010.0</td>\n",
       "      <td>Strategy</td>\n",
       "      <td>Namco Bandai Games</td>\n",
       "      <td>0.14</td>\n",
       "      <td>2.0</td>\n",
       "      <td>1.0</td>\n",
       "    </tr>\n",
       "    <tr>\n",
       "      <th>7649</th>\n",
       "      <td>7651</td>\n",
       "      <td>Pro Yaky? Spirits 2013</td>\n",
       "      <td>PS3</td>\n",
       "      <td>2013.0</td>\n",
       "      <td>Sports</td>\n",
       "      <td>Konami Digital Entertainment</td>\n",
       "      <td>0.20</td>\n",
       "      <td>3.0</td>\n",
       "      <td>3.0</td>\n",
       "    </tr>\n",
       "    <tr>\n",
       "      <th>2160</th>\n",
       "      <td>2162</td>\n",
       "      <td>Lost Planet 2</td>\n",
       "      <td>PS3</td>\n",
       "      <td>2010.0</td>\n",
       "      <td>Shooter</td>\n",
       "      <td>Capcom</td>\n",
       "      <td>0.96</td>\n",
       "      <td>4.0</td>\n",
       "      <td>3.0</td>\n",
       "    </tr>\n",
       "  </tbody>\n",
       "</table>\n",
       "</div>"
      ],
      "text/plain": [
       "        Rank                           Name Platform    Year         Genre  \\\n",
       "12416  12418                   MotoGP 10/11     X360  2011.0        Racing   \n",
       "7290    7292          Code Name: S.T.E.A.M.      3DS  2015.0      Strategy   \n",
       "2800    2802                        F1 2011     X360  2011.0        Racing   \n",
       "10768  10770               NASCAR Unleashed      PS3  2011.0        Racing   \n",
       "13057  13059      Men of War: Assault Squad       PC  2011.0      Strategy   \n",
       "8673    8675          Guilty Gear Xrd: Sign      PS4  2014.0      Fighting   \n",
       "10519  10521        God Eater 2: Rage Burst      PS4  2015.0  Role-Playing   \n",
       "9298    9300  Kamen Rider Battle: Ganbaride       DS  2010.0      Strategy   \n",
       "7649    7651         Pro Yaky? Spirits 2013      PS3  2013.0        Sports   \n",
       "2160    2162                  Lost Planet 2      PS3  2010.0       Shooter   \n",
       "\n",
       "                          Publisher  Global_Sales  Sales_level  PlatformId  \n",
       "12416                        Capcom          0.06          2.0         5.0  \n",
       "7290                       Nintendo          0.22          3.0        12.0  \n",
       "2800                    Codemasters          0.73          4.0         5.0  \n",
       "10768                    Activision          0.10          2.0         3.0  \n",
       "13057                    1C Company          0.05          1.0         8.0  \n",
       "8673               Arc System Works          0.16          3.0        14.0  \n",
       "10519            Namco Bandai Games          0.10          2.0        14.0  \n",
       "9298             Namco Bandai Games          0.14          2.0         1.0  \n",
       "7649   Konami Digital Entertainment          0.20          3.0         3.0  \n",
       "2160                         Capcom          0.96          4.0         3.0  "
      ]
     },
     "execution_count": 17,
     "metadata": {},
     "output_type": "execute_result"
    }
   ],
   "source": [
    "#Sort platform to num\n",
    "df.loc[df['Platform'] == 'DS', 'PlatformId'] = 1 \n",
    "df.loc[df['Platform'] == 'PS2', 'PlatformId'] = 2\n",
    "df.loc[df['Platform'] == 'PS3', 'PlatformId'] = 3 \n",
    "df.loc[df['Platform'] == 'Wii', 'PlatformId'] = 4 \n",
    "df.loc[df['Platform'] == 'X360', 'PlatformId'] = 5 \n",
    "df.loc[df['Platform'] == 'PSP', 'PlatformId'] = 6 \n",
    "df.loc[df['Platform'] == 'PS', 'PlatformId'] = 7 \n",
    "df.loc[df['Platform'] == 'PC', 'PlatformId'] = 8 \n",
    "df.loc[df['Platform'] == 'XB', 'PlatformId'] = 9\n",
    "df.loc[df['Platform'] == 'GBA', 'PlatformId'] = 10\n",
    "df.loc[df['Platform'] == 'GC', 'PlatformId'] = 11\n",
    "df.loc[df['Platform'] == '3DS', 'PlatformId'] = 12\n",
    "df.loc[df['Platform'] == 'PSV', 'PlatformId'] = 13\n",
    "df.loc[df['Platform'] == 'PS4', 'PlatformId'] = 14\n",
    "df.loc[df['Platform'] == 'N64', 'PlatformId'] = 15\n",
    "df.loc[df['Platform'] == 'SNES', 'PlatformId'] = 16\n",
    "df.loc[df['Platform'] == 'XOne', 'PlatformId'] = 17\n",
    "df.loc[df['Platform'] == 'SAT', 'PlatformId'] = 18\n",
    "df.loc[df['Platform'] == 'WiiU', 'PlatformId'] = 19\n",
    "df.loc[df['Platform'] == '2600', 'PlatformId'] = 20\n",
    "df.loc[df['Platform'] == 'NES', 'PlatformId'] = 21\n",
    "df.loc[df['Platform'] == 'GB', 'PlatformId'] = 22\n",
    "df.loc[df['Platform'] == 'DC', 'PlatformId'] = 23\n",
    "df.loc[df['Platform'] == 'GEN', 'PlatformId'] = 24\n",
    "df.loc[df['Platform'] == 'NG', 'PlatformId'] = 25\n",
    "df.loc[df['Platform'] == 'SCD', 'PlatformId'] = 26\n",
    "df.loc[df['Platform'] == 'WS', 'PlatformId'] = 27\n",
    "df.loc[df['Platform'] == '3DO', 'PlatformId'] = 28\n",
    "df.loc[df['Platform'] == 'TG16', 'PlatformId'] = 29\n",
    "df.loc[df['Platform'] == 'GG', 'PlatformId'] = 30\n",
    "df.loc[df['Platform'] == 'PCFX', 'PlatformId'] = 31\n",
    "\n",
    "df.sample(10)\n"
   ]
  },
  {
   "cell_type": "code",
   "execution_count": 18,
   "metadata": {},
   "outputs": [
    {
     "data": {
      "text/html": [
       "<div>\n",
       "<style scoped>\n",
       "    .dataframe tbody tr th:only-of-type {\n",
       "        vertical-align: middle;\n",
       "    }\n",
       "\n",
       "    .dataframe tbody tr th {\n",
       "        vertical-align: top;\n",
       "    }\n",
       "\n",
       "    .dataframe thead th {\n",
       "        text-align: right;\n",
       "    }\n",
       "</style>\n",
       "<table border=\"1\" class=\"dataframe\">\n",
       "  <thead>\n",
       "    <tr style=\"text-align: right;\">\n",
       "      <th></th>\n",
       "      <th>Rank</th>\n",
       "      <th>Name</th>\n",
       "      <th>Platform</th>\n",
       "      <th>Year</th>\n",
       "      <th>Genre</th>\n",
       "      <th>Publisher</th>\n",
       "      <th>Global_Sales</th>\n",
       "      <th>Sales_level</th>\n",
       "      <th>PlatformId</th>\n",
       "      <th>GenreId</th>\n",
       "    </tr>\n",
       "  </thead>\n",
       "  <tbody>\n",
       "    <tr>\n",
       "      <th>8286</th>\n",
       "      <td>8288</td>\n",
       "      <td>Despicable Me: The Game</td>\n",
       "      <td>PSP</td>\n",
       "      <td>2010.0</td>\n",
       "      <td>Platform</td>\n",
       "      <td>D3Publisher</td>\n",
       "      <td>0.17</td>\n",
       "      <td>3.0</td>\n",
       "      <td>6.0</td>\n",
       "      <td>7.0</td>\n",
       "    </tr>\n",
       "    <tr>\n",
       "      <th>2965</th>\n",
       "      <td>2967</td>\n",
       "      <td>Nintendo Presents: New Style Boutique 2 - Fash...</td>\n",
       "      <td>3DS</td>\n",
       "      <td>2015.0</td>\n",
       "      <td>Misc</td>\n",
       "      <td>Nintendo</td>\n",
       "      <td>0.69</td>\n",
       "      <td>4.0</td>\n",
       "      <td>12.0</td>\n",
       "      <td>5.0</td>\n",
       "    </tr>\n",
       "    <tr>\n",
       "      <th>12998</th>\n",
       "      <td>13000</td>\n",
       "      <td>Lucha Libre AAA: Heroes del Ring</td>\n",
       "      <td>X360</td>\n",
       "      <td>2010.0</td>\n",
       "      <td>Fighting</td>\n",
       "      <td>Konami Digital Entertainment</td>\n",
       "      <td>0.05</td>\n",
       "      <td>1.0</td>\n",
       "      <td>5.0</td>\n",
       "      <td>8.0</td>\n",
       "    </tr>\n",
       "    <tr>\n",
       "      <th>14344</th>\n",
       "      <td>14347</td>\n",
       "      <td>Atelier Sophie: The Alchemist of the Mysteriou...</td>\n",
       "      <td>PS3</td>\n",
       "      <td>2015.0</td>\n",
       "      <td>Role-Playing</td>\n",
       "      <td>Tecmo Koei</td>\n",
       "      <td>0.03</td>\n",
       "      <td>1.0</td>\n",
       "      <td>3.0</td>\n",
       "      <td>4.0</td>\n",
       "    </tr>\n",
       "    <tr>\n",
       "      <th>14857</th>\n",
       "      <td>14860</td>\n",
       "      <td>Little Busters! Converted Edition</td>\n",
       "      <td>PSV</td>\n",
       "      <td>2012.0</td>\n",
       "      <td>Action</td>\n",
       "      <td>Prototype</td>\n",
       "      <td>0.03</td>\n",
       "      <td>1.0</td>\n",
       "      <td>13.0</td>\n",
       "      <td>1.0</td>\n",
       "    </tr>\n",
       "    <tr>\n",
       "      <th>5419</th>\n",
       "      <td>5421</td>\n",
       "      <td>Zoo Tycoon (2013)</td>\n",
       "      <td>XOne</td>\n",
       "      <td>2013.0</td>\n",
       "      <td>Simulation</td>\n",
       "      <td>Microsoft Game Studios</td>\n",
       "      <td>0.34</td>\n",
       "      <td>3.0</td>\n",
       "      <td>17.0</td>\n",
       "      <td>9.0</td>\n",
       "    </tr>\n",
       "    <tr>\n",
       "      <th>1698</th>\n",
       "      <td>1700</td>\n",
       "      <td>FIFA 14</td>\n",
       "      <td>XOne</td>\n",
       "      <td>2013.0</td>\n",
       "      <td>Sports</td>\n",
       "      <td>Electronic Arts</td>\n",
       "      <td>1.19</td>\n",
       "      <td>4.0</td>\n",
       "      <td>17.0</td>\n",
       "      <td>2.0</td>\n",
       "    </tr>\n",
       "    <tr>\n",
       "      <th>13698</th>\n",
       "      <td>13700</td>\n",
       "      <td>Gakuen Hetalia Portable</td>\n",
       "      <td>PSP</td>\n",
       "      <td>2011.0</td>\n",
       "      <td>Adventure</td>\n",
       "      <td>Idea Factory</td>\n",
       "      <td>0.04</td>\n",
       "      <td>1.0</td>\n",
       "      <td>6.0</td>\n",
       "      <td>11.0</td>\n",
       "    </tr>\n",
       "    <tr>\n",
       "      <th>1548</th>\n",
       "      <td>1550</td>\n",
       "      <td>Kid Icarus: Uprising</td>\n",
       "      <td>3DS</td>\n",
       "      <td>2012.0</td>\n",
       "      <td>Action</td>\n",
       "      <td>Nintendo</td>\n",
       "      <td>1.28</td>\n",
       "      <td>4.0</td>\n",
       "      <td>12.0</td>\n",
       "      <td>1.0</td>\n",
       "    </tr>\n",
       "    <tr>\n",
       "      <th>5929</th>\n",
       "      <td>5931</td>\n",
       "      <td>Dragon Quest Builders: Revive Alefgard</td>\n",
       "      <td>PSV</td>\n",
       "      <td>2016.0</td>\n",
       "      <td>Role-Playing</td>\n",
       "      <td>Square Enix</td>\n",
       "      <td>0.30</td>\n",
       "      <td>3.0</td>\n",
       "      <td>13.0</td>\n",
       "      <td>4.0</td>\n",
       "    </tr>\n",
       "  </tbody>\n",
       "</table>\n",
       "</div>"
      ],
      "text/plain": [
       "        Rank                                               Name Platform  \\\n",
       "8286    8288                            Despicable Me: The Game      PSP   \n",
       "2965    2967  Nintendo Presents: New Style Boutique 2 - Fash...      3DS   \n",
       "12998  13000                   Lucha Libre AAA: Heroes del Ring     X360   \n",
       "14344  14347  Atelier Sophie: The Alchemist of the Mysteriou...      PS3   \n",
       "14857  14860                  Little Busters! Converted Edition      PSV   \n",
       "5419    5421                                  Zoo Tycoon (2013)     XOne   \n",
       "1698    1700                                            FIFA 14     XOne   \n",
       "13698  13700                            Gakuen Hetalia Portable      PSP   \n",
       "1548    1550                               Kid Icarus: Uprising      3DS   \n",
       "5929    5931             Dragon Quest Builders: Revive Alefgard      PSV   \n",
       "\n",
       "         Year         Genre                     Publisher  Global_Sales  \\\n",
       "8286   2010.0      Platform                   D3Publisher          0.17   \n",
       "2965   2015.0          Misc                      Nintendo          0.69   \n",
       "12998  2010.0      Fighting  Konami Digital Entertainment          0.05   \n",
       "14344  2015.0  Role-Playing                    Tecmo Koei          0.03   \n",
       "14857  2012.0        Action                     Prototype          0.03   \n",
       "5419   2013.0    Simulation        Microsoft Game Studios          0.34   \n",
       "1698   2013.0        Sports               Electronic Arts          1.19   \n",
       "13698  2011.0     Adventure                  Idea Factory          0.04   \n",
       "1548   2012.0        Action                      Nintendo          1.28   \n",
       "5929   2016.0  Role-Playing                   Square Enix          0.30   \n",
       "\n",
       "       Sales_level  PlatformId  GenreId  \n",
       "8286           3.0         6.0      7.0  \n",
       "2965           4.0        12.0      5.0  \n",
       "12998          1.0         5.0      8.0  \n",
       "14344          1.0         3.0      4.0  \n",
       "14857          1.0        13.0      1.0  \n",
       "5419           3.0        17.0      9.0  \n",
       "1698           4.0        17.0      2.0  \n",
       "13698          1.0         6.0     11.0  \n",
       "1548           4.0        12.0      1.0  \n",
       "5929           3.0        13.0      4.0  "
      ]
     },
     "execution_count": 18,
     "metadata": {},
     "output_type": "execute_result"
    }
   ],
   "source": [
    "#Sort Genre to num\n",
    "df.loc[df['Genre'] == 'Action', 'GenreId'] = 1 \n",
    "df.loc[df['Genre'] == 'Sports', 'GenreId'] = 2\n",
    "df.loc[df['Genre'] == 'Shooter', 'GenreId'] = 3 \n",
    "df.loc[df['Genre'] == 'Role-Playing', 'GenreId'] = 4 \n",
    "df.loc[df['Genre'] == 'Misc', 'GenreId'] = 5 \n",
    "df.loc[df['Genre'] == 'Racing', 'GenreId'] = 6 \n",
    "df.loc[df['Genre'] == 'Platform', 'GenreId'] = 7 \n",
    "df.loc[df['Genre'] == 'Fighting', 'GenreId'] = 8 \n",
    "df.loc[df['Genre'] == 'Simulation', 'GenreId'] = 9 \n",
    "df.loc[df['Genre'] == 'Puzzle', 'GenreId'] = 10 \n",
    "df.loc[df['Genre'] == 'Adventure', 'GenreId'] = 11 \n",
    "df.loc[df['Genre'] == 'Strategy', 'GenreId'] = 12 \n",
    "\n",
    "df.sample(10)\n",
    "\n"
   ]
  },
  {
   "cell_type": "code",
   "execution_count": 19,
   "metadata": {},
   "outputs": [],
   "source": [
    "#Define X and Y\n",
    "inputs = df.drop('Sales_level',axis='columns')\n",
    "target = df.Sales_level"
   ]
  },
  {
   "cell_type": "code",
   "execution_count": 20,
   "metadata": {},
   "outputs": [
    {
     "data": {
      "text/html": [
       "<div>\n",
       "<style scoped>\n",
       "    .dataframe tbody tr th:only-of-type {\n",
       "        vertical-align: middle;\n",
       "    }\n",
       "\n",
       "    .dataframe tbody tr th {\n",
       "        vertical-align: top;\n",
       "    }\n",
       "\n",
       "    .dataframe thead th {\n",
       "        text-align: right;\n",
       "    }\n",
       "</style>\n",
       "<table border=\"1\" class=\"dataframe\">\n",
       "  <thead>\n",
       "    <tr style=\"text-align: right;\">\n",
       "      <th></th>\n",
       "      <th>PlatformId</th>\n",
       "      <th>GenreId</th>\n",
       "    </tr>\n",
       "  </thead>\n",
       "  <tbody>\n",
       "    <tr>\n",
       "      <th>15</th>\n",
       "      <td>5.0</td>\n",
       "      <td>5.0</td>\n",
       "    </tr>\n",
       "    <tr>\n",
       "      <th>16</th>\n",
       "      <td>3.0</td>\n",
       "      <td>1.0</td>\n",
       "    </tr>\n",
       "    <tr>\n",
       "      <th>23</th>\n",
       "      <td>5.0</td>\n",
       "      <td>1.0</td>\n",
       "    </tr>\n",
       "    <tr>\n",
       "      <th>26</th>\n",
       "      <td>1.0</td>\n",
       "      <td>4.0</td>\n",
       "    </tr>\n",
       "    <tr>\n",
       "      <th>29</th>\n",
       "      <td>5.0</td>\n",
       "      <td>3.0</td>\n",
       "    </tr>\n",
       "  </tbody>\n",
       "</table>\n",
       "</div>"
      ],
      "text/plain": [
       "    PlatformId  GenreId\n",
       "15         5.0      5.0\n",
       "16         3.0      1.0\n",
       "23         5.0      1.0\n",
       "26         1.0      4.0\n",
       "29         5.0      3.0"
      ]
     },
     "execution_count": 20,
     "metadata": {},
     "output_type": "execute_result"
    }
   ],
   "source": [
    "#Drop unused column\n",
    "inputs.drop(['Year','Rank','Name','Platform','Publisher','Genre','Global_Sales'],axis='columns',inplace=True)\n",
    "inputs.head()"
   ]
  },
  {
   "cell_type": "code",
   "execution_count": 21,
   "metadata": {},
   "outputs": [],
   "source": [
    "#Define X and Y\n",
    "X = inputs.astype(int)\n",
    "Y = target.astype(int)\n",
    "X_train, X_test, y_train, y_test = train_test_split(X,Y,test_size=0.2)\n",
    "model = GaussianNB()"
   ]
  },
  {
   "cell_type": "code",
   "execution_count": 22,
   "metadata": {},
   "outputs": [
    {
     "data": {
      "text/html": [
       "<div>\n",
       "<style scoped>\n",
       "    .dataframe tbody tr th:only-of-type {\n",
       "        vertical-align: middle;\n",
       "    }\n",
       "\n",
       "    .dataframe tbody tr th {\n",
       "        vertical-align: top;\n",
       "    }\n",
       "\n",
       "    .dataframe thead th {\n",
       "        text-align: right;\n",
       "    }\n",
       "</style>\n",
       "<table border=\"1\" class=\"dataframe\">\n",
       "  <thead>\n",
       "    <tr style=\"text-align: right;\">\n",
       "      <th></th>\n",
       "      <th>PlatformId</th>\n",
       "      <th>GenreId</th>\n",
       "    </tr>\n",
       "  </thead>\n",
       "  <tbody>\n",
       "    <tr>\n",
       "      <th>7665</th>\n",
       "      <td>13</td>\n",
       "      <td>6</td>\n",
       "    </tr>\n",
       "    <tr>\n",
       "      <th>3625</th>\n",
       "      <td>3</td>\n",
       "      <td>1</td>\n",
       "    </tr>\n",
       "    <tr>\n",
       "      <th>3727</th>\n",
       "      <td>5</td>\n",
       "      <td>2</td>\n",
       "    </tr>\n",
       "    <tr>\n",
       "      <th>1942</th>\n",
       "      <td>5</td>\n",
       "      <td>1</td>\n",
       "    </tr>\n",
       "    <tr>\n",
       "      <th>5561</th>\n",
       "      <td>13</td>\n",
       "      <td>1</td>\n",
       "    </tr>\n",
       "    <tr>\n",
       "      <th>7034</th>\n",
       "      <td>6</td>\n",
       "      <td>2</td>\n",
       "    </tr>\n",
       "    <tr>\n",
       "      <th>8138</th>\n",
       "      <td>8</td>\n",
       "      <td>3</td>\n",
       "    </tr>\n",
       "    <tr>\n",
       "      <th>8354</th>\n",
       "      <td>14</td>\n",
       "      <td>2</td>\n",
       "    </tr>\n",
       "    <tr>\n",
       "      <th>460</th>\n",
       "      <td>4</td>\n",
       "      <td>7</td>\n",
       "    </tr>\n",
       "    <tr>\n",
       "      <th>758</th>\n",
       "      <td>14</td>\n",
       "      <td>3</td>\n",
       "    </tr>\n",
       "  </tbody>\n",
       "</table>\n",
       "</div>"
      ],
      "text/plain": [
       "      PlatformId  GenreId\n",
       "7665          13        6\n",
       "3625           3        1\n",
       "3727           5        2\n",
       "1942           5        1\n",
       "5561          13        1\n",
       "7034           6        2\n",
       "8138           8        3\n",
       "8354          14        2\n",
       "460            4        7\n",
       "758           14        3"
      ]
     },
     "execution_count": 22,
     "metadata": {},
     "output_type": "execute_result"
    }
   ],
   "source": [
    "X_test[0:10]"
   ]
  },
  {
   "cell_type": "code",
   "execution_count": 23,
   "metadata": {},
   "outputs": [
    {
     "data": {
      "text/plain": [
       "GaussianNB()"
      ]
     },
     "execution_count": 23,
     "metadata": {},
     "output_type": "execute_result"
    }
   ],
   "source": [
    "model.fit(X_train,y_train)"
   ]
  },
  {
   "cell_type": "code",
   "execution_count": 24,
   "metadata": {},
   "outputs": [
    {
     "data": {
      "text/plain": [
       "0.33982473222979553"
      ]
     },
     "execution_count": 24,
     "metadata": {},
     "output_type": "execute_result"
    }
   ],
   "source": [
    "model.score(X_test,y_test)"
   ]
  },
  {
   "cell_type": "code",
   "execution_count": 25,
   "metadata": {},
   "outputs": [
    {
     "data": {
      "text/plain": [
       "array([1, 4, 4, 4, 4, 4, 4, 4, 1, 4])"
      ]
     },
     "execution_count": 25,
     "metadata": {},
     "output_type": "execute_result"
    }
   ],
   "source": [
    "model.predict(X_test[0:10])"
   ]
  },
  {
   "cell_type": "code",
   "execution_count": 26,
   "metadata": {},
   "outputs": [
    {
     "data": {
      "text/plain": [
       "array([[0.29535075, 0.23587317, 0.22359999, 0.24517609],\n",
       "       [0.1768964 , 0.21880428, 0.27654834, 0.32775098],\n",
       "       [0.18821396, 0.21511062, 0.26819055, 0.32848486],\n",
       "       [0.1893523 , 0.21606815, 0.27169961, 0.32287994],\n",
       "       [0.2153717 , 0.21140155, 0.23122686, 0.34199989],\n",
       "       [0.19366867, 0.21397402, 0.2649082 , 0.32744911],\n",
       "       [0.20932007, 0.21462623, 0.25490193, 0.32115177],\n",
       "       [0.21382037, 0.2103213 , 0.22116147, 0.35469686],\n",
       "       [0.29323491, 0.25451156, 0.26262142, 0.18963211],\n",
       "       [0.22062826, 0.21275626, 0.21960212, 0.34701336]])"
      ]
     },
     "execution_count": 26,
     "metadata": {},
     "output_type": "execute_result"
    }
   ],
   "source": [
    "model.predict_proba(X_test[:10])"
   ]
  },
  {
   "cell_type": "code",
   "execution_count": 27,
   "metadata": {},
   "outputs": [
    {
     "data": {
      "image/png": "[encoded data removed]",
      "text/plain": [
       "<Figure size 432x288 with 1 Axes>"
      ]
     },
     "metadata": {},
     "output_type": "display_data"
    },
    {
     "name": "stdout",
     "output_type": "stream",
     "text": [
      "[29.211295034079843, 0.0, 3.4079844206426486, 67.38072054527751]\n"
     ]
    }
   ],
   "source": [
    "x = model.predict_proba(X_test)\n",
    "level = []\n",
    "for i in x:\n",
    "    # print(max(i))\n",
    "    listi = i.tolist()\n",
    "    maxi = max(i).tolist()\n",
    "    maxindex = listi.index(maxi)\n",
    "    level.append(maxindex)\n",
    "\n",
    "result = []\n",
    "for i in range(4):\n",
    "    x = level.count(i)\n",
    "    percent = (x/len(level))*100\n",
    "    result.append(percent)\n",
    "# print(level)\n",
    "# print(result)\n",
    "label = [\"Level1\",\"Level2\",\"Level3\",\"Level4\"]\n",
    "plt.axis(\"equal\")\n",
    "plt.pie(result, labels=label, radius=3.5, autopct='%0.5f%%', explode=[0.0,0.0,0.0,0.0], startangle=90,shadow=True)\n",
    "plt.show()\n",
    "print(result)\n"
   ]
  },
  {
   "cell_type": "code",
   "execution_count": 28,
   "metadata": {},
   "outputs": [
    {
     "name": "stdout",
     "output_type": "stream",
     "text": [
      "[[1, 13, 6, 1, 0.295350747986067], [2, 3, 1, 4, 0.32775097535584186], [3, 5, 2, 4, 0.32848486223582096], [4, 5, 1, 4, 0.32287993937105447], [5, 13, 1, 4, 0.3419998865112339], [6, 6, 2, 4, 0.32744911217421113], [7, 8, 3, 4, 0.32115177135240697], [8, 14, 2, 4, 0.354696856033148], [9, 4, 7, 1, 0.29323490778166017], [10, 14, 3, 4, 0.3470133580919101], [11, 5, 1, 4, 0.32287993937105447], [12, 4, 9, 1, 0.400553369202963], [13, 8, 9, 1, 0.4340601233840293], [14, 13, 1, 4, 0.3419998865112339], [15, 14, 1, 4, 0.34896888551672445], [16, 17, 1, 4, 0.3764794955842022], [17, 1, 1, 4, 0.33639451982301316], [18, 5, 1, 4, 0.32287993937105447], [19, 5, 1, 4, 0.32287993937105447], [20, 5, 2, 4, 0.32848486223582096], [21, 6, 8, 1, 0.3598281410198052], [22, 3, 3, 4, 0.32652522980301196], [23, 1, 5, 4, 0.285530382524152], [24, 6, 1, 4, 0.32186100704395787], [25, 17, 1, 4, 0.3764794955842022], [26, 5, 6, 3, 0.2640697647965269], [27, 6, 8, 1, 0.3598281410198052], [28, 13, 1, 4, 0.3419998865112339], [29, 3, 3, 4, 0.32652522980301196], [30, 3, 2, 4, 0.3334122184200561], [31, 8, 4, 4, 0.30167206490464943], [32, 6, 11, 1, 0.5536567081995885], [33, 12, 4, 4, 0.3140246966769698], [34, 4, 2, 4, 0.3304735100056046], [35, 4, 5, 4, 0.2740760607703774], [36, 4, 2, 4, 0.3304735100056046], [37, 5, 2, 4, 0.32848486223582096], [38, 3, 5, 4, 0.27702326322857684], [39, 12, 1, 4, 0.3360944911597036], [40, 13, 11, 1, 0.5925284916528044], [41, 5, 6, 3, 0.2640697647965269], [42, 6, 4, 4, 0.3011961857493331], [43, 3, 3, 4, 0.32652522980301196], [44, 12, 4, 4, 0.3140246966769698], [45, 8, 1, 4, 0.3226825976843794], [46, 3, 11, 1, 0.5240392189071212], [47, 5, 1, 4, 0.32287993937105447], [48, 6, 11, 1, 0.5536567081995885], [49, 13, 4, 4, 0.31959490469017476], [50, 4, 6, 3, 0.267461631051527], [51, 4, 4, 4, 0.3044025562374992], [52, 14, 5, 4, 0.2933398011480135], [53, 12, 4, 4, 0.3140246966769698], [54, 4, 1, 4, 0.32484409459772684], [55, 14, 1, 4, 0.34896888551672445], [56, 6, 5, 4, 0.2707767848596803], [57, 12, 10, 1, 0.5206460337599172], [58, 17, 7, 1, 0.33707814805722086], [59, 6, 4, 4, 0.3011961857493331], [60, 4, 5, 4, 0.2740760607703774], [61, 12, 11, 1, 0.5896045804040819], [62, 1, 2, 4, 0.34213940908204565], [63, 8, 11, 1, 0.569105445443415], [64, 17, 4, 4, 0.3525420148844149], [65, 19, 1, 4, 0.4005047607837492], [66, 1, 3, 4, 0.33527832155128146], [67, 4, 2, 4, 0.3304735100056046], [68, 13, 11, 1, 0.5925284916528044], [69, 3, 4, 4, 0.3073773279492602], [70, 17, 11, 1, 0.595019155416596], [71, 13, 9, 1, 0.4563515369899776], [72, 13, 1, 4, 0.3419998865112339], [73, 1, 10, 1, 0.43092719170327587], [74, 14, 1, 4, 0.34896888551672445], [75, 3, 2, 4, 0.3334122184200561], [76, 6, 2, 4, 0.32744911217421113], [77, 8, 12, 1, 0.6382218201488541], [78, 6, 11, 1, 0.5536567081995885], [79, 2, 2, 4, 0.3373004248801497], [80, 5, 2, 4, 0.32848486223582096], [81, 8, 8, 1, 0.3740181992719616], [82, 14, 3, 4, 0.3470133580919101], [83, 3, 5, 4, 0.27702326322857684], [84, 17, 6, 1, 0.29120990906207367], [85, 5, 2, 4, 0.32848486223582096], [86, 12, 1, 4, 0.3360944911597036], [87, 3, 9, 1, 0.39021052564072156], [88, 13, 5, 4, 0.28720820069558795], [89, 13, 5, 4, 0.28720820069558795], [90, 13, 4, 4, 0.31959490469017476], [91, 3, 5, 4, 0.27702326322857684], [92, 12, 1, 4, 0.3360944911597036], [93, 1, 2, 4, 0.34213940908204565], [94, 3, 12, 1, 0.595267500826163], [95, 12, 8, 1, 0.39210356350526354], [96, 4, 5, 4, 0.2740760607703774], [97, 14, 9, 1, 0.4579489261063995], [98, 17, 12, 1, 0.6630783639912359], [99, 8, 3, 4, 0.32115177135240697], [100, 12, 1, 4, 0.3360944911597036], [101, 5, 3, 4, 0.32153753697126886], [102, 12, 1, 4, 0.3360944911597036], [103, 17, 3, 4, 0.37429651169696565], [104, 12, 9, 1, 0.4537656361111729], [105, 14, 1, 4, 0.34896888551672445], [106, 6, 11, 1, 0.5536567081995885], [107, 5, 1, 4, 0.32287993937105447], [108, 8, 1, 4, 0.3226825976843794], [109, 1, 4, 4, 0.3160761836385297], [110, 5, 3, 4, 0.32153753697126886], [111, 17, 5, 4, 0.31802398232177564], [112, 5, 1, 4, 0.32287993937105447], [113, 19, 1, 4, 0.4005047607837492], [114, 8, 2, 4, 0.32826081966256604], [115, 8, 9, 1, 0.4340601233840293], [116, 3, 2, 4, 0.3334122184200561], [117, 8, 3, 4, 0.32115177135240697], [118, 12, 1, 4, 0.3360944911597036], [119, 19, 1, 4, 0.4005047607837492], [120, 3, 12, 1, 0.595267500826163], [121, 1, 7, 3, 0.2712335009052231], [122, 5, 4, 4, 0.30234171198480225], [123, 1, 2, 4, 0.34213940908204565], [124, 14, 9, 1, 0.4579489261063995], [125, 14, 3, 4, 0.3470133580919101], [126, 5, 8, 1, 0.3515601164129067], [127, 4, 2, 4, 0.3304735100056046], [128, 4, 5, 4, 0.2740760607703774], [129, 3, 4, 4, 0.3073773279492602], [130, 3, 1, 4, 0.32775097535584186], [131, 12, 5, 4, 0.28207192502322836], [132, 8, 5, 4, 0.2709524831577994], [133, 3, 2, 4, 0.3334122184200561], [134, 4, 5, 4, 0.2740760607703774], [135, 3, 4, 4, 0.3073773279492602], [136, 3, 3, 4, 0.32652522980301196], [137, 4, 11, 1, 0.5347686097987576], [138, 8, 6, 1, 0.2797464256242438], [139, 14, 11, 1, 0.59455024309362], [140, 4, 5, 4, 0.2740760607703774], [141, 3, 3, 4, 0.32652522980301196], [142, 14, 1, 4, 0.34896888551672445], [143, 3, 6, 3, 0.2703714283731831], [144, 13, 11, 1, 0.5925284916528044], [145, 8, 12, 1, 0.6382218201488541], [146, 2, 11, 1, 0.5124574922209346], [147, 12, 8, 1, 0.39210356350526354], [148, 8, 12, 1, 0.6382218201488541], [149, 3, 2, 4, 0.3334122184200561], [150, 3, 8, 1, 0.33285609846600156], [151, 6, 1, 4, 0.32186100704395787], [152, 5, 1, 4, 0.32287993937105447], [153, 14, 7, 1, 0.34084793798557517], [154, 1, 4, 4, 0.3160761836385297], [155, 6, 5, 4, 0.2707767848596803], [156, 6, 11, 1, 0.5536567081995885], [157, 14, 1, 4, 0.34896888551672445], [158, 5, 1, 4, 0.32287993937105447], [159, 6, 2, 4, 0.32744911217421113], [160, 6, 11, 1, 0.5536567081995885], [161, 8, 8, 1, 0.3740181992719616], [162, 14, 5, 4, 0.2933398011480135], [163, 3, 1, 4, 0.32775097535584186], [164, 14, 3, 4, 0.3470133580919101], [165, 12, 1, 4, 0.3360944911597036], [166, 13, 1, 4, 0.3419998865112339], [167, 4, 1, 4, 0.32484409459772684], [168, 1, 5, 4, 0.285530382524152], [169, 3, 8, 1, 0.33285609846600156], [170, 12, 11, 1, 0.5896045804040819], [171, 13, 1, 4, 0.3419998865112339], [172, 3, 2, 4, 0.3334122184200561], [173, 4, 1, 4, 0.32484409459772684], [174, 6, 11, 1, 0.5536567081995885], [175, 1, 1, 4, 0.33639451982301316], [176, 6, 11, 1, 0.5536567081995885], [177, 6, 12, 1, 0.6235994042523272], [178, 6, 11, 1, 0.5536567081995885], [179, 1, 5, 4, 0.285530382524152], [180, 4, 6, 3, 0.267461631051527], [181, 17, 1, 4, 0.3764794955842022], [182, 5, 6, 3, 0.2640697647965269], [183, 5, 6, 3, 0.2640697647965269], [184, 1, 10, 1, 0.43092719170327587], [185, 17, 2, 4, 0.3823527544776657], [186, 5, 2, 4, 0.32848486223582096], [187, 1, 11, 1, 0.5000297068713035], [188, 5, 1, 4, 0.32287993937105447], [189, 19, 1, 4, 0.4005047607837492], [190, 17, 1, 4, 0.3764794955842022], [191, 1, 2, 4, 0.34213940908204565], [192, 12, 9, 1, 0.4537656361111729], [193, 6, 11, 1, 0.5536567081995885], [194, 8, 1, 4, 0.3226825976843794], [195, 6, 11, 1, 0.5536567081995885], [196, 5, 1, 4, 0.32287993937105447], [197, 1, 9, 1, 0.36737525560525564], [198, 5, 1, 4, 0.32287993937105447], [199, 3, 11, 1, 0.5240392189071212], [200, 17, 1, 4, 0.3764794955842022], [201, 12, 4, 4, 0.3140246966769698], [202, 1, 1, 4, 0.33639451982301316], [203, 8, 10, 1, 0.5000419026569162], [204, 4, 1, 4, 0.32484409459772684], [205, 3, 1, 4, 0.32775097535584186], [206, 1, 5, 4, 0.285530382524152], [207, 3, 2, 4, 0.3334122184200561], [208, 5, 5, 4, 0.2719940471783383], [209, 3, 11, 1, 0.5240392189071212], [210, 1, 12, 1, 0.5719789233204233], [211, 13, 4, 4, 0.31959490469017476], [212, 3, 7, 1, 0.28430580831474267], [213, 1, 10, 1, 0.43092719170327587], [214, 14, 4, 4, 0.3262052686577789], [215, 13, 7, 1, 0.3400557036920167], [216, 12, 5, 4, 0.28207192502322836], [217, 6, 4, 4, 0.3011961857493331], [218, 5, 2, 4, 0.32848486223582096], [219, 3, 6, 3, 0.2703714283731831], [220, 3, 5, 4, 0.27702326322857684], [221, 13, 5, 4, 0.28720820069558795], [222, 8, 4, 4, 0.30167206490464943], [223, 12, 1, 4, 0.3360944911597036], [224, 8, 2, 4, 0.32826081966256604], [225, 8, 1, 4, 0.3226825976843794], [226, 6, 11, 1, 0.5536567081995885], [227, 5, 5, 4, 0.2719940471783383], [228, 14, 1, 4, 0.34896888551672445], [229, 3, 1, 4, 0.32775097535584186], [230, 4, 11, 1, 0.5347686097987576], [231, 8, 3, 4, 0.32115177135240697], [232, 3, 3, 4, 0.32652522980301196], [233, 19, 1, 4, 0.4005047607837492], [234, 1, 10, 1, 0.43092719170327587], [235, 5, 3, 4, 0.32153753697126886], [236, 13, 1, 4, 0.3419998865112339], [237, 12, 1, 4, 0.3360944911597036], [238, 8, 1, 4, 0.3226825976843794], [239, 8, 12, 1, 0.6382218201488541], [240, 6, 4, 4, 0.3011961857493331], [241, 13, 8, 1, 0.3942973731691594], [242, 13, 1, 4, 0.3419998865112339], [243, 1, 11, 1, 0.5000297068713035], [244, 4, 2, 4, 0.3304735100056046], [245, 1, 11, 1, 0.5000297068713035], [246, 3, 4, 4, 0.3073773279492602], [247, 12, 1, 4, 0.3360944911597036], [248, 3, 8, 1, 0.33285609846600156], [249, 3, 5, 4, 0.27702326322857684], [250, 5, 6, 3, 0.2640697647965269], [251, 1, 2, 4, 0.34213940908204565], [252, 6, 11, 1, 0.5536567081995885], [253, 3, 1, 4, 0.32775097535584186], [254, 13, 2, 4, 0.34768677064284154], [255, 1, 1, 4, 0.33639451982301316], [256, 8, 6, 1, 0.2797464256242438], [257, 8, 5, 4, 0.2709524831577994], [258, 3, 1, 4, 0.32775097535584186], [259, 4, 6, 3, 0.267461631051527], [260, 12, 1, 4, 0.3360944911597036], [261, 17, 2, 4, 0.3823527544776657], [262, 3, 8, 1, 0.33285609846600156], [263, 19, 1, 4, 0.4005047607837492], [264, 13, 1, 4, 0.3419998865112339], [265, 3, 1, 4, 0.32775097535584186], [266, 14, 4, 4, 0.3262052686577789], [267, 1, 2, 4, 0.34213940908204565], [268, 1, 1, 4, 0.33639451982301316], [269, 6, 11, 1, 0.5536567081995885], [270, 3, 4, 4, 0.3073773279492602], [271, 13, 4, 4, 0.31959490469017476], [272, 1, 4, 4, 0.3160761836385297], [273, 8, 1, 4, 0.3226825976843794], [274, 4, 4, 4, 0.3044025562374992], [275, 4, 12, 1, 0.6055800671510373], [276, 5, 1, 4, 0.32287993937105447], [277, 8, 1, 4, 0.3226825976843794], [278, 13, 1, 4, 0.3419998865112339], [279, 1, 7, 3, 0.2712335009052231], [280, 17, 8, 1, 0.39282913502845507], [281, 5, 11, 1, 0.5446418510403257], [282, 12, 4, 4, 0.3140246966769698], [283, 19, 1, 4, 0.4005047607837492], [284, 14, 3, 4, 0.3470133580919101], [285, 19, 2, 4, 0.40647800058093453], [286, 8, 2, 4, 0.32826081966256604], [287, 1, 2, 4, 0.34213940908204565], [288, 6, 11, 1, 0.5536567081995885], [289, 5, 11, 1, 0.5446418510403257], [290, 1, 5, 4, 0.285530382524152], [291, 14, 4, 4, 0.3262052686577789], [292, 3, 1, 4, 0.32775097535584186], [293, 12, 4, 4, 0.3140246966769698], [294, 3, 11, 1, 0.5240392189071212], [295, 5, 4, 4, 0.30234171198480225], [296, 1, 1, 4, 0.33639451982301316], [297, 5, 9, 1, 0.4101371975787992], [298, 12, 2, 4, 0.34174583165857503], [299, 1, 1, 4, 0.33639451982301316], [300, 6, 11, 1, 0.5536567081995885], [301, 5, 8, 1, 0.3515601164129067], [302, 14, 2, 4, 0.354696856033148], [303, 3, 8, 1, 0.33285609846600156], [304, 12, 1, 4, 0.3360944911597036], [305, 8, 6, 1, 0.2797464256242438], [306, 4, 4, 4, 0.3044025562374992], [307, 3, 1, 4, 0.32775097535584186], [308, 8, 3, 4, 0.32115177135240697], [309, 1, 1, 4, 0.33639451982301316], [310, 3, 3, 4, 0.32652522980301196], [311, 1, 12, 1, 0.5719789233204233], [312, 5, 5, 4, 0.2719940471783383], [313, 4, 1, 4, 0.32484409459772684], [314, 19, 1, 4, 0.4005047607837492], [315, 1, 4, 4, 0.3160761836385297], [316, 5, 3, 4, 0.32153753697126886], [317, 1, 2, 4, 0.34213940908204565], [318, 4, 2, 4, 0.3304735100056046], [319, 5, 11, 1, 0.5446418510403257], [320, 1, 4, 4, 0.3160761836385297], [321, 1, 9, 1, 0.36737525560525564], [322, 6, 11, 1, 0.5536567081995885], [323, 8, 9, 1, 0.4340601233840293], [324, 6, 4, 4, 0.3011961857493331], [325, 4, 11, 1, 0.5347686097987576], [326, 17, 1, 4, 0.3764794955842022], [327, 5, 3, 4, 0.32153753697126886], [328, 1, 1, 4, 0.33639451982301316], [329, 19, 3, 4, 0.3981734428612559], [330, 3, 1, 4, 0.32775097535584186], [331, 12, 5, 4, 0.28207192502322836], [332, 13, 1, 4, 0.3419998865112339], [333, 8, 12, 1, 0.6382218201488541], [334, 5, 1, 4, 0.32287993937105447], [335, 4, 1, 4, 0.32484409459772684], [336, 12, 2, 4, 0.34174583165857503], [337, 5, 1, 4, 0.32287993937105447], [338, 5, 8, 1, 0.3515601164129067], [339, 1, 5, 4, 0.285530382524152], [340, 3, 3, 4, 0.32652522980301196], [341, 3, 1, 4, 0.32775097535584186], [342, 17, 8, 1, 0.39282913502845507], [343, 4, 11, 1, 0.5347686097987576], [344, 1, 5, 4, 0.285530382524152], [345, 3, 11, 1, 0.5240392189071212], [346, 6, 11, 1, 0.5536567081995885], [347, 13, 1, 4, 0.3419998865112339], [348, 17, 3, 4, 0.37429651169696565], [349, 5, 6, 3, 0.2640697647965269], [350, 5, 1, 4, 0.32287993937105447], [351, 12, 5, 4, 0.28207192502322836], [352, 6, 5, 4, 0.2707767848596803], [353, 3, 2, 4, 0.3334122184200561], [354, 5, 4, 4, 0.30234171198480225], [355, 5, 4, 4, 0.30234171198480225], [356, 5, 1, 4, 0.32287993937105447], [357, 8, 3, 4, 0.32115177135240697], [358, 8, 3, 4, 0.32115177135240697], [359, 13, 11, 1, 0.5925284916528044], [360, 3, 1, 4, 0.32775097535584186], [361, 2, 11, 1, 0.5124574922209346], [362, 12, 11, 1, 0.5896045804040819], [363, 3, 2, 4, 0.3334122184200561], [364, 6, 2, 4, 0.32744911217421113], [365, 13, 1, 4, 0.3419998865112339], [366, 5, 1, 4, 0.32287993937105447], [367, 6, 1, 4, 0.32186100704395787], [368, 3, 5, 4, 0.27702326322857684], [369, 12, 1, 4, 0.3360944911597036], [370, 5, 2, 4, 0.32848486223582096], [371, 1, 9, 1, 0.36737525560525564], [372, 5, 3, 4, 0.32153753697126886], [373, 12, 2, 4, 0.34174583165857503], [374, 5, 3, 4, 0.32153753697126886], [375, 8, 11, 1, 0.569105445443415], [376, 6, 11, 1, 0.5536567081995885], [377, 3, 7, 1, 0.28430580831474267], [378, 17, 2, 4, 0.3823527544776657], [379, 3, 2, 4, 0.3334122184200561], [380, 6, 5, 4, 0.2707767848596803], [381, 4, 4, 4, 0.3044025562374992], [382, 12, 5, 4, 0.28207192502322836], [383, 6, 11, 1, 0.5536567081995885], [384, 13, 4, 4, 0.31959490469017476], [385, 5, 6, 3, 0.2640697647965269], [386, 5, 8, 1, 0.3515601164129067], [387, 4, 5, 4, 0.2740760607703774], [388, 5, 2, 4, 0.32848486223582096], [389, 19, 1, 4, 0.4005047607837492], [390, 3, 11, 1, 0.5240392189071212], [391, 13, 1, 4, 0.3419998865112339], [392, 8, 9, 1, 0.4340601233840293], [393, 5, 11, 1, 0.5446418510403257], [394, 3, 2, 4, 0.3334122184200561], [395, 3, 8, 1, 0.33285609846600156], [396, 8, 9, 1, 0.4340601233840293], [397, 1, 1, 4, 0.33639451982301316], [398, 13, 1, 4, 0.3419998865112339], [399, 3, 1, 4, 0.32775097535584186], [400, 6, 11, 1, 0.5536567081995885], [401, 1, 5, 4, 0.285530382524152], [402, 6, 11, 1, 0.5536567081995885], [403, 5, 3, 4, 0.32153753697126886], [404, 8, 2, 4, 0.32826081966256604], [405, 13, 11, 1, 0.5925284916528044], [406, 5, 6, 3, 0.2640697647965269], [407, 5, 1, 4, 0.32287993937105447], [408, 5, 1, 4, 0.32287993937105447], [409, 14, 1, 4, 0.34896888551672445], [410, 5, 3, 4, 0.32153753697126886], [411, 19, 1, 4, 0.4005047607837492], [412, 5, 1, 4, 0.32287993937105447], [413, 5, 1, 4, 0.32287993937105447], [414, 6, 1, 4, 0.32186100704395787], [415, 3, 1, 4, 0.32775097535584186], [416, 4, 5, 4, 0.2740760607703774], [417, 12, 4, 4, 0.3140246966769698], [418, 3, 8, 1, 0.33285609846600156], [419, 8, 10, 1, 0.5000419026569162], [420, 13, 1, 4, 0.3419998865112339], [421, 14, 3, 4, 0.3470133580919101], [422, 14, 11, 1, 0.59455024309362], [423, 5, 8, 1, 0.3515601164129067], [424, 14, 4, 4, 0.3262052686577789], [425, 14, 6, 1, 0.29579132750755494], [426, 4, 5, 4, 0.2740760607703774], [427, 5, 1, 4, 0.32287993937105447], [428, 5, 3, 4, 0.32153753697126886], [429, 12, 1, 4, 0.3360944911597036], [430, 4, 1, 4, 0.32484409459772684], [431, 13, 4, 4, 0.31959490469017476], [432, 4, 1, 4, 0.32484409459772684], [433, 5, 2, 4, 0.32848486223582096], [434, 5, 1, 4, 0.32287993937105447], [435, 6, 1, 4, 0.32186100704395787], [436, 5, 3, 4, 0.32153753697126886], [437, 1, 12, 1, 0.5719789233204233], [438, 6, 11, 1, 0.5536567081995885], [439, 5, 2, 4, 0.32848486223582096], [440, 6, 4, 4, 0.3011961857493331], [441, 13, 4, 4, 0.31959490469017476], [442, 13, 1, 4, 0.3419998865112339], [443, 1, 2, 4, 0.34213940908204565], [444, 5, 5, 4, 0.2719940471783383], [445, 5, 3, 4, 0.32153753697126886], [446, 6, 11, 1, 0.5536567081995885], [447, 8, 9, 1, 0.4340601233840293], [448, 4, 1, 4, 0.32484409459772684], [449, 13, 1, 4, 0.3419998865112339], [450, 5, 11, 1, 0.5446418510403257], [451, 5, 5, 4, 0.2719940471783383], [452, 14, 7, 1, 0.34084793798557517], [453, 12, 4, 4, 0.3140246966769698], [454, 14, 1, 4, 0.34896888551672445], [455, 5, 7, 1, 0.3015269609703458], [456, 14, 8, 1, 0.3954979705914526], [457, 8, 1, 4, 0.3226825976843794], [458, 3, 3, 4, 0.32652522980301196], [459, 5, 8, 1, 0.3515601164129067], [460, 12, 1, 4, 0.3360944911597036], [461, 13, 2, 4, 0.34768677064284154], [462, 8, 12, 1, 0.6382218201488541], [463, 6, 8, 1, 0.3598281410198052], [464, 8, 3, 4, 0.32115177135240697], [465, 1, 5, 4, 0.285530382524152], [466, 12, 5, 4, 0.28207192502322836], [467, 12, 1, 4, 0.3360944911597036], [468, 14, 2, 4, 0.354696856033148], [469, 6, 11, 1, 0.5536567081995885], [470, 8, 12, 1, 0.6382218201488541], [471, 1, 10, 1, 0.43092719170327587], [472, 12, 11, 1, 0.5896045804040819], [473, 19, 5, 4, 0.34004367223772897], [474, 12, 4, 4, 0.3140246966769698], [475, 13, 5, 4, 0.28720820069558795], [476, 1, 11, 1, 0.5000297068713035], [477, 4, 1, 4, 0.32484409459772684], [478, 3, 1, 4, 0.32775097535584186], [479, 3, 3, 4, 0.32652522980301196], [480, 6, 1, 4, 0.32186100704395787], [481, 8, 1, 4, 0.3226825976843794], [482, 13, 11, 1, 0.5925284916528044], [483, 8, 1, 4, 0.3226825976843794], [484, 2, 1, 4, 0.33160048873101605], [485, 3, 5, 4, 0.27702326322857684], [486, 6, 11, 1, 0.5536567081995885], [487, 14, 6, 1, 0.29579132750755494], [488, 3, 6, 3, 0.2703714283731831], [489, 5, 2, 4, 0.32848486223582096], [490, 12, 6, 1, 0.2939721963520916], [491, 3, 5, 4, 0.27702326322857684], [492, 6, 4, 4, 0.3011961857493331], [493, 6, 8, 1, 0.3598281410198052], [494, 5, 3, 4, 0.32153753697126886], [495, 1, 1, 4, 0.33639451982301316], [496, 12, 4, 4, 0.3140246966769698], [497, 17, 1, 4, 0.3764794955842022], [498, 6, 11, 1, 0.5536567081995885], [499, 6, 11, 1, 0.5536567081995885], [500, 3, 3, 4, 0.32652522980301196], [501, 3, 6, 3, 0.2703714283731831], [502, 5, 8, 1, 0.3515601164129067], [503, 6, 1, 4, 0.32186100704395787], [504, 12, 10, 1, 0.5206460337599172], [505, 12, 1, 4, 0.3360944911597036], [506, 12, 9, 1, 0.4537656361111729], [507, 8, 12, 1, 0.6382218201488541], [508, 8, 11, 1, 0.569105445443415], [509, 13, 11, 1, 0.5925284916528044], [510, 5, 3, 4, 0.32153753697126886], [511, 6, 11, 1, 0.5536567081995885], [512, 8, 12, 1, 0.6382218201488541], [513, 6, 1, 4, 0.32186100704395787], [514, 17, 3, 4, 0.37429651169696565], [515, 4, 5, 4, 0.2740760607703774], [516, 5, 6, 3, 0.2640697647965269], [517, 5, 9, 1, 0.4101371975787992], [518, 5, 6, 3, 0.2640697647965269], [519, 4, 11, 1, 0.5347686097987576], [520, 8, 5, 4, 0.2709524831577994], [521, 5, 4, 4, 0.30234171198480225], [522, 13, 1, 4, 0.3419998865112339], [523, 5, 2, 4, 0.32848486223582096], [524, 4, 10, 1, 0.46545919635115696], [525, 3, 3, 4, 0.32652522980301196], [526, 14, 3, 4, 0.3470133580919101], [527, 4, 2, 4, 0.3304735100056046], [528, 8, 11, 1, 0.569105445443415], [529, 8, 12, 1, 0.6382218201488541], [530, 12, 1, 4, 0.3360944911597036], [531, 14, 5, 4, 0.2933398011480135], [532, 12, 4, 4, 0.3140246966769698], [533, 1, 5, 4, 0.285530382524152], [534, 3, 5, 4, 0.27702326322857684], [535, 3, 2, 4, 0.3334122184200561], [536, 4, 1, 4, 0.32484409459772684], [537, 3, 1, 4, 0.32775097535584186], [538, 1, 4, 4, 0.3160761836385297], [539, 8, 4, 4, 0.30167206490464943], [540, 3, 1, 4, 0.32775097535584186], [541, 3, 7, 1, 0.28430580831474267], [542, 3, 1, 4, 0.32775097535584186], [543, 6, 11, 1, 0.5536567081995885], [544, 3, 2, 4, 0.3334122184200561], [545, 1, 9, 1, 0.36737525560525564], [546, 1, 11, 1, 0.5000297068713035], [547, 3, 4, 4, 0.3073773279492602], [548, 13, 5, 4, 0.28720820069558795], [549, 12, 10, 1, 0.5206460337599172], [550, 13, 4, 4, 0.31959490469017476], [551, 13, 11, 1, 0.5925284916528044], [552, 6, 11, 1, 0.5536567081995885], [553, 4, 2, 4, 0.3304735100056046], [554, 13, 4, 4, 0.31959490469017476], [555, 17, 2, 4, 0.3823527544776657], [556, 17, 11, 1, 0.595019155416596], [557, 3, 8, 1, 0.33285609846600156], [558, 1, 10, 1, 0.43092719170327587], [559, 8, 12, 1, 0.6382218201488541], [560, 5, 6, 3, 0.2640697647965269], [561, 1, 1, 4, 0.33639451982301316], [562, 3, 4, 4, 0.3073773279492602], [563, 17, 1, 4, 0.3764794955842022], [564, 17, 6, 1, 0.29120990906207367], [565, 4, 5, 4, 0.2740760607703774], [566, 19, 1, 4, 0.4005047607837492], [567, 12, 7, 1, 0.3382895357598438], [568, 1, 5, 4, 0.285530382524152], [569, 17, 6, 1, 0.29120990906207367], [570, 4, 1, 4, 0.32484409459772684], [571, 5, 4, 4, 0.30234171198480225], [572, 5, 2, 4, 0.32848486223582096], [573, 4, 2, 4, 0.3304735100056046], [574, 19, 1, 4, 0.4005047607837492], [575, 4, 6, 3, 0.267461631051527], [576, 1, 1, 4, 0.33639451982301316], [577, 17, 1, 4, 0.3764794955842022], [578, 17, 1, 4, 0.3764794955842022], [579, 6, 2, 4, 0.32744911217421113], [580, 13, 1, 4, 0.3419998865112339], [581, 17, 6, 1, 0.29120990906207367], [582, 13, 4, 4, 0.31959490469017476], [583, 4, 5, 4, 0.2740760607703774], [584, 12, 1, 4, 0.3360944911597036], [585, 6, 2, 4, 0.32744911217421113], [586, 13, 12, 1, 0.66033035412892], [587, 13, 3, 4, 0.3401189784791606], [588, 1, 7, 3, 0.2712335009052231], [589, 8, 3, 4, 0.32115177135240697], [590, 6, 1, 4, 0.32186100704395787], [591, 8, 12, 1, 0.6382218201488541], [592, 13, 1, 4, 0.3419998865112339], [593, 13, 1, 4, 0.3419998865112339], [594, 14, 4, 4, 0.3262052686577789], [595, 3, 4, 4, 0.3073773279492602], [596, 3, 11, 1, 0.5240392189071212], [597, 4, 1, 4, 0.32484409459772684], [598, 12, 4, 4, 0.3140246966769698], [599, 3, 1, 4, 0.32775097535584186], [600, 17, 3, 4, 0.37429651169696565], [601, 12, 4, 4, 0.3140246966769698], [602, 3, 12, 1, 0.595267500826163], [603, 5, 6, 3, 0.2640697647965269], [604, 3, 1, 4, 0.32775097535584186], [605, 3, 1, 4, 0.32775097535584186], [606, 13, 11, 1, 0.5925284916528044], [607, 4, 1, 4, 0.32484409459772684], [608, 6, 2, 4, 0.32744911217421113], [609, 4, 5, 4, 0.2740760607703774], [610, 3, 1, 4, 0.32775097535584186], [611, 1, 4, 4, 0.3160761836385297], [612, 8, 12, 1, 0.6382218201488541], [613, 12, 11, 1, 0.5896045804040819], [614, 14, 1, 4, 0.34896888551672445], [615, 5, 2, 4, 0.32848486223582096], [616, 12, 1, 4, 0.3360944911597036], [617, 6, 4, 4, 0.3011961857493331], [618, 8, 3, 4, 0.32115177135240697], [619, 6, 12, 1, 0.6235994042523272], [620, 3, 7, 1, 0.28430580831474267], [621, 1, 9, 1, 0.36737525560525564], [622, 13, 4, 4, 0.31959490469017476], [623, 8, 1, 4, 0.3226825976843794], [624, 12, 1, 4, 0.3360944911597036], [625, 3, 4, 4, 0.3073773279492602], [626, 19, 1, 4, 0.4005047607837492], [627, 19, 1, 4, 0.4005047607837492], [628, 12, 9, 1, 0.4537656361111729], [629, 3, 11, 1, 0.5240392189071212], [630, 5, 1, 4, 0.32287993937105447], [631, 3, 7, 1, 0.28430580831474267], [632, 14, 1, 4, 0.34896888551672445], [633, 12, 7, 1, 0.3382895357598438], [634, 13, 4, 4, 0.31959490469017476], [635, 14, 8, 1, 0.3954979705914526], [636, 3, 1, 4, 0.32775097535584186], [637, 4, 1, 4, 0.32484409459772684], [638, 4, 4, 4, 0.3044025562374992], [639, 8, 10, 1, 0.5000419026569162], [640, 3, 6, 3, 0.2703714283731831], [641, 3, 11, 1, 0.5240392189071212], [642, 8, 1, 4, 0.3226825976843794], [643, 4, 9, 1, 0.400553369202963], [644, 3, 8, 1, 0.33285609846600156], [645, 13, 8, 1, 0.3942973731691594], [646, 8, 1, 4, 0.3226825976843794], [647, 3, 3, 4, 0.32652522980301196], [648, 17, 1, 4, 0.3764794955842022], [649, 4, 2, 4, 0.3304735100056046], [650, 6, 2, 4, 0.32744911217421113], [651, 14, 6, 1, 0.29579132750755494], [652, 4, 7, 1, 0.29323490778166017], [653, 12, 6, 1, 0.2939721963520916], [654, 12, 4, 4, 0.3140246966769698], [655, 17, 2, 4, 0.3823527544776657], [656, 6, 1, 4, 0.32186100704395787], [657, 6, 11, 1, 0.5536567081995885], [658, 17, 1, 4, 0.3764794955842022], [659, 1, 10, 1, 0.43092719170327587], [660, 1, 4, 4, 0.3160761836385297], [661, 12, 7, 1, 0.3382895357598438], [662, 17, 1, 4, 0.3764794955842022], [663, 3, 2, 4, 0.3334122184200561], [664, 4, 6, 3, 0.267461631051527], [665, 5, 1, 4, 0.32287993937105447], [666, 13, 4, 4, 0.31959490469017476], [667, 3, 5, 4, 0.27702326322857684], [668, 5, 6, 3, 0.2640697647965269], [669, 12, 11, 1, 0.5896045804040819], [670, 13, 1, 4, 0.3419998865112339], [671, 3, 5, 4, 0.27702326322857684], [672, 14, 1, 4, 0.34896888551672445], [673, 19, 1, 4, 0.4005047607837492], [674, 12, 4, 4, 0.3140246966769698], [675, 1, 2, 4, 0.34213940908204565], [676, 12, 1, 4, 0.3360944911597036], [677, 5, 2, 4, 0.32848486223582096], [678, 3, 9, 1, 0.39021052564072156], [679, 1, 11, 1, 0.5000297068713035], [680, 5, 1, 4, 0.32287993937105447], [681, 4, 1, 4, 0.32484409459772684], [682, 3, 1, 4, 0.32775097535584186], [683, 3, 1, 4, 0.32775097535584186], [684, 14, 4, 4, 0.3262052686577789], [685, 3, 1, 4, 0.32775097535584186], [686, 17, 3, 4, 0.37429651169696565], [687, 3, 4, 4, 0.3073773279492602], [688, 3, 1, 4, 0.32775097535584186], [689, 3, 1, 4, 0.32775097535584186], [690, 3, 8, 1, 0.33285609846600156], [691, 3, 12, 1, 0.595267500826163], [692, 6, 1, 4, 0.32186100704395787], [693, 3, 1, 4, 0.32775097535584186], [694, 17, 4, 4, 0.3525420148844149], [695, 8, 1, 4, 0.3226825976843794], [696, 3, 1, 4, 0.32775097535584186], [697, 8, 6, 1, 0.2797464256242438], [698, 12, 1, 4, 0.3360944911597036], [699, 3, 1, 4, 0.32775097535584186], [700, 8, 1, 4, 0.3226825976843794], [701, 3, 11, 1, 0.5240392189071212], [702, 3, 6, 3, 0.2703714283731831], [703, 3, 7, 1, 0.28430580831474267], [704, 6, 1, 4, 0.32186100704395787], [705, 12, 7, 1, 0.3382895357598438], [706, 12, 1, 4, 0.3360944911597036], [707, 14, 5, 4, 0.2933398011480135], [708, 8, 1, 4, 0.3226825976843794], [709, 5, 2, 4, 0.32848486223582096], [710, 1, 5, 4, 0.285530382524152], [711, 3, 1, 4, 0.32775097535584186], [712, 6, 2, 4, 0.32744911217421113], [713, 6, 4, 4, 0.3011961857493331], [714, 8, 10, 1, 0.5000419026569162], [715, 3, 1, 4, 0.32775097535584186], [716, 3, 2, 4, 0.3334122184200561], [717, 19, 1, 4, 0.4005047607837492], [718, 1, 11, 1, 0.5000297068713035], [719, 4, 5, 4, 0.2740760607703774], [720, 6, 4, 4, 0.3011961857493331], [721, 5, 2, 4, 0.32848486223582096], [722, 8, 1, 4, 0.3226825976843794], [723, 13, 1, 4, 0.3419998865112339], [724, 14, 1, 4, 0.34896888551672445], [725, 4, 5, 4, 0.2740760607703774], [726, 6, 1, 4, 0.32186100704395787], [727, 12, 4, 4, 0.3140246966769698], [728, 8, 1, 4, 0.3226825976843794], [729, 3, 1, 4, 0.32775097535584186], [730, 3, 2, 4, 0.3334122184200561], [731, 12, 1, 4, 0.3360944911597036], [732, 17, 2, 4, 0.3823527544776657], [733, 14, 1, 4, 0.34896888551672445], [734, 4, 5, 4, 0.2740760607703774], [735, 8, 7, 1, 0.32215282076484486], [736, 12, 12, 1, 0.6575474982975661], [737, 4, 1, 4, 0.32484409459772684], [738, 17, 1, 4, 0.3764794955842022], [739, 3, 4, 4, 0.3073773279492602], [740, 6, 1, 4, 0.32186100704395787], [741, 3, 4, 4, 0.3073773279492602], [742, 5, 3, 4, 0.32153753697126886], [743, 6, 4, 4, 0.3011961857493331], [744, 13, 4, 4, 0.31959490469017476], [745, 3, 1, 4, 0.32775097535584186], [746, 5, 8, 1, 0.3515601164129067], [747, 8, 7, 1, 0.32215282076484486], [748, 3, 5, 4, 0.27702326322857684], [749, 4, 1, 4, 0.32484409459772684], [750, 1, 2, 4, 0.34213940908204565], [751, 4, 2, 4, 0.3304735100056046], [752, 12, 5, 4, 0.28207192502322836], [753, 1, 9, 1, 0.36737525560525564], [754, 3, 4, 4, 0.3073773279492602], [755, 5, 3, 4, 0.32153753697126886], [756, 4, 1, 4, 0.32484409459772684], [757, 6, 11, 1, 0.5536567081995885], [758, 4, 5, 4, 0.2740760607703774], [759, 13, 4, 4, 0.31959490469017476], [760, 12, 9, 1, 0.4537656361111729], [761, 6, 8, 1, 0.3598281410198052], [762, 3, 4, 4, 0.3073773279492602], [763, 8, 1, 4, 0.3226825976843794], [764, 6, 1, 4, 0.32186100704395787], [765, 19, 12, 1, 0.6591735014343453], [766, 19, 1, 4, 0.4005047607837492], [767, 12, 12, 1, 0.6575474982975661], [768, 6, 12, 1, 0.6235994042523272], [769, 13, 1, 4, 0.3419998865112339], [770, 5, 1, 4, 0.32287993937105447], [771, 3, 4, 4, 0.3073773279492602], [772, 12, 4, 4, 0.3140246966769698], [773, 3, 3, 4, 0.32652522980301196], [774, 5, 5, 4, 0.2719940471783383], [775, 14, 12, 1, 0.6622870569026613], [776, 4, 1, 4, 0.32484409459772684], [777, 6, 11, 1, 0.5536567081995885], [778, 6, 1, 4, 0.32186100704395787], [779, 5, 11, 1, 0.5446418510403257], [780, 4, 2, 4, 0.3304735100056046], [781, 13, 4, 4, 0.31959490469017476], [782, 3, 1, 4, 0.32775097535584186], [783, 12, 1, 4, 0.3360944911597036], [784, 12, 1, 4, 0.3360944911597036], [785, 1, 10, 1, 0.43092719170327587], [786, 8, 4, 4, 0.30167206490464943], [787, 1, 1, 4, 0.33639451982301316], [788, 14, 1, 4, 0.34896888551672445], [789, 1, 11, 1, 0.5000297068713035], [790, 3, 8, 1, 0.33285609846600156], [791, 13, 1, 4, 0.3419998865112339], [792, 6, 1, 4, 0.32186100704395787], [793, 1, 9, 1, 0.36737525560525564], [794, 13, 4, 4, 0.31959490469017476], [795, 3, 3, 4, 0.32652522980301196], [796, 17, 5, 4, 0.31802398232177564], [797, 1, 1, 4, 0.33639451982301316], [798, 6, 11, 1, 0.5536567081995885], [799, 13, 1, 4, 0.3419998865112339], [800, 6, 4, 4, 0.3011961857493331], [801, 4, 6, 3, 0.267461631051527], [802, 19, 2, 4, 0.40647800058093453], [803, 8, 9, 1, 0.4340601233840293], [804, 5, 3, 4, 0.32153753697126886], [805, 13, 1, 4, 0.3419998865112339], [806, 3, 1, 4, 0.32775097535584186], [807, 3, 5, 4, 0.27702326322857684], [808, 6, 4, 4, 0.3011961857493331], [809, 3, 1, 4, 0.32775097535584186], [810, 12, 9, 1, 0.4537656361111729], [811, 8, 4, 4, 0.30167206490464943], [812, 6, 4, 4, 0.3011961857493331], [813, 3, 1, 4, 0.32775097535584186], [814, 4, 2, 4, 0.3304735100056046], [815, 6, 4, 4, 0.3011961857493331], [816, 6, 4, 4, 0.3011961857493331], [817, 6, 1, 4, 0.32186100704395787], [818, 3, 1, 4, 0.32775097535584186], [819, 8, 12, 1, 0.6382218201488541], [820, 19, 1, 4, 0.4005047607837492], [821, 12, 12, 1, 0.6575474982975661], [822, 19, 7, 1, 0.32918297442184385], [823, 17, 1, 4, 0.3764794955842022], [824, 5, 2, 4, 0.32848486223582096], [825, 3, 4, 4, 0.3073773279492602], [826, 14, 4, 4, 0.3262052686577789], [827, 5, 6, 3, 0.2640697647965269], [828, 8, 2, 4, 0.32826081966256604], [829, 5, 11, 1, 0.5446418510403257], [830, 4, 5, 4, 0.2740760607703774], [831, 1, 6, 3, 0.27457787227391844], [832, 12, 5, 4, 0.28207192502322836], [833, 4, 7, 1, 0.29323490778166017], [834, 6, 12, 1, 0.6235994042523272], [835, 5, 3, 4, 0.32153753697126886], [836, 13, 7, 1, 0.3400557036920167], [837, 13, 1, 4, 0.3419998865112339], [838, 5, 11, 1, 0.5446418510403257], [839, 13, 7, 1, 0.3400557036920167], [840, 8, 4, 4, 0.30167206490464943], [841, 5, 3, 4, 0.32153753697126886], [842, 6, 11, 1, 0.5536567081995885], [843, 3, 8, 1, 0.33285609846600156], [844, 12, 1, 4, 0.3360944911597036], [845, 4, 2, 4, 0.3304735100056046], [846, 3, 9, 1, 0.39021052564072156], [847, 17, 2, 4, 0.3823527544776657], [848, 5, 4, 4, 0.30234171198480225], [849, 4, 1, 4, 0.32484409459772684], [850, 5, 1, 4, 0.32287993937105447], [851, 17, 11, 1, 0.595019155416596], [852, 8, 3, 4, 0.32115177135240697], [853, 8, 6, 1, 0.2797464256242438], [854, 1, 4, 4, 0.3160761836385297], [855, 12, 1, 4, 0.3360944911597036], [856, 5, 2, 4, 0.32848486223582096], [857, 3, 1, 4, 0.32775097535584186], [858, 3, 5, 4, 0.27702326322857684], [859, 3, 3, 4, 0.32652522980301196], [860, 5, 5, 4, 0.2719940471783383], [861, 12, 11, 1, 0.5896045804040819], [862, 3, 3, 4, 0.32652522980301196], [863, 4, 5, 4, 0.2740760607703774], [864, 3, 5, 4, 0.27702326322857684], [865, 3, 4, 4, 0.3073773279492602], [866, 3, 2, 4, 0.3334122184200561], [867, 3, 3, 4, 0.32652522980301196], [868, 5, 8, 1, 0.3515601164129067], [869, 13, 4, 4, 0.31959490469017476], [870, 14, 1, 4, 0.34896888551672445], [871, 12, 5, 4, 0.28207192502322836], [872, 6, 5, 4, 0.2707767848596803], [873, 6, 9, 1, 0.4189336196965137], [874, 3, 3, 4, 0.32652522980301196], [875, 3, 1, 4, 0.32775097535584186], [876, 12, 5, 4, 0.28207192502322836], [877, 12, 11, 1, 0.5896045804040819], [878, 1, 9, 1, 0.36737525560525564], [879, 14, 4, 4, 0.3262052686577789], [880, 5, 1, 4, 0.32287993937105447], [881, 12, 9, 1, 0.4537656361111729], [882, 14, 2, 4, 0.354696856033148], [883, 13, 4, 4, 0.31959490469017476], [884, 3, 3, 4, 0.32652522980301196], [885, 8, 1, 4, 0.3226825976843794], [886, 12, 7, 1, 0.3382895357598438], [887, 5, 1, 4, 0.32287993937105447], [888, 13, 1, 4, 0.3419998865112339], [889, 5, 2, 4, 0.32848486223582096], [890, 3, 8, 1, 0.33285609846600156], [891, 14, 6, 1, 0.29579132750755494], [892, 1, 10, 1, 0.43092719170327587], [893, 1, 10, 1, 0.43092719170327587], [894, 12, 5, 4, 0.28207192502322836], [895, 17, 1, 4, 0.3764794955842022], [896, 6, 11, 1, 0.5536567081995885], [897, 1, 5, 4, 0.285530382524152], [898, 12, 1, 4, 0.3360944911597036], [899, 3, 2, 4, 0.3334122184200561], [900, 4, 2, 4, 0.3304735100056046], [901, 6, 4, 4, 0.3011961857493331], [902, 1, 6, 3, 0.27457787227391844], [903, 14, 3, 4, 0.3470133580919101], [904, 1, 8, 1, 0.3115265002388724], [905, 13, 11, 1, 0.5925284916528044], [906, 1, 4, 4, 0.3160761836385297], [907, 4, 1, 4, 0.32484409459772684], [908, 3, 3, 4, 0.32652522980301196], [909, 5, 5, 4, 0.2719940471783383], [910, 12, 11, 1, 0.5896045804040819], [911, 4, 2, 4, 0.3304735100056046], [912, 4, 2, 4, 0.3304735100056046], [913, 13, 7, 1, 0.3400557036920167], [914, 1, 2, 4, 0.34213940908204565], [915, 19, 11, 1, 0.5904176539705679], [916, 12, 7, 1, 0.3382895357598438], [917, 12, 10, 1, 0.5206460337599172], [918, 3, 5, 4, 0.27702326322857684], [919, 4, 11, 1, 0.5347686097987576], [920, 8, 12, 1, 0.6382218201488541], [921, 8, 9, 1, 0.4340601233840293], [922, 13, 4, 4, 0.31959490469017476], [923, 12, 9, 1, 0.4537656361111729], [924, 2, 2, 4, 0.3373004248801497], [925, 1, 1, 4, 0.33639451982301316], [926, 3, 1, 4, 0.32775097535584186], [927, 12, 1, 4, 0.3360944911597036], [928, 12, 10, 1, 0.5206460337599172], [929, 8, 3, 4, 0.32115177135240697], [930, 5, 6, 3, 0.2640697647965269], [931, 4, 5, 4, 0.2740760607703774], [932, 6, 11, 1, 0.5536567081995885], [933, 5, 8, 1, 0.3515601164129067], [934, 5, 5, 4, 0.2719940471783383], [935, 6, 5, 4, 0.2707767848596803], [936, 3, 1, 4, 0.32775097535584186], [937, 17, 8, 1, 0.39282913502845507], [938, 4, 2, 4, 0.3304735100056046], [939, 12, 1, 4, 0.3360944911597036], [940, 13, 1, 4, 0.3419998865112339], [941, 1, 9, 1, 0.36737525560525564], [942, 8, 4, 4, 0.30167206490464943], [943, 3, 5, 4, 0.27702326322857684], [944, 1, 11, 1, 0.5000297068713035], [945, 8, 1, 4, 0.3226825976843794], [946, 8, 1, 4, 0.3226825976843794], [947, 1, 2, 4, 0.34213940908204565], [948, 6, 11, 1, 0.5536567081995885], [949, 6, 4, 4, 0.3011961857493331], [950, 6, 1, 4, 0.32186100704395787], [951, 4, 5, 4, 0.2740760607703774], [952, 12, 1, 4, 0.3360944911597036], [953, 6, 11, 1, 0.5536567081995885], [954, 17, 6, 1, 0.29120990906207367], [955, 3, 4, 4, 0.3073773279492602], [956, 3, 1, 4, 0.32775097535584186], [957, 8, 11, 1, 0.569105445443415], [958, 3, 2, 4, 0.3334122184200561], [959, 5, 1, 4, 0.32287993937105447], [960, 1, 9, 1, 0.36737525560525564], [961, 13, 3, 4, 0.3401189784791606], [962, 8, 4, 4, 0.30167206490464943], [963, 1, 12, 1, 0.5719789233204233], [964, 1, 10, 1, 0.43092719170327587], [965, 12, 5, 4, 0.28207192502322836], [966, 4, 5, 4, 0.2740760607703774], [967, 6, 1, 4, 0.32186100704395787], [968, 3, 1, 4, 0.32775097535584186], [969, 3, 1, 4, 0.32775097535584186], [970, 1, 5, 4, 0.285530382524152], [971, 1, 1, 4, 0.33639451982301316], [972, 14, 6, 1, 0.29579132750755494], [973, 8, 12, 1, 0.6382218201488541], [974, 8, 3, 4, 0.32115177135240697], [975, 1, 5, 4, 0.285530382524152], [976, 6, 4, 4, 0.3011961857493331], [977, 4, 2, 4, 0.3304735100056046], [978, 13, 8, 1, 0.3942973731691594], [979, 8, 6, 1, 0.2797464256242438], [980, 14, 7, 1, 0.34084793798557517], [981, 3, 2, 4, 0.3334122184200561], [982, 3, 1, 4, 0.32775097535584186], [983, 2, 1, 4, 0.33160048873101605], [984, 3, 2, 4, 0.3334122184200561], [985, 12, 1, 4, 0.3360944911597036], [986, 4, 5, 4, 0.2740760607703774], [987, 8, 9, 1, 0.4340601233840293], [988, 5, 4, 4, 0.30234171198480225], [989, 1, 11, 1, 0.5000297068713035], [990, 1, 10, 1, 0.43092719170327587], [991, 5, 6, 3, 0.2640697647965269], [992, 12, 5, 4, 0.28207192502322836], [993, 5, 3, 4, 0.32153753697126886], [994, 4, 8, 1, 0.34255687217085634], [995, 6, 12, 1, 0.6235994042523272], [996, 5, 3, 4, 0.32153753697126886], [997, 17, 7, 1, 0.33707814805722086], [998, 2, 7, 1, 0.2747860602026391], [999, 3, 1, 4, 0.32775097535584186], [1000, 12, 10, 1, 0.5206460337599172], [1001, 4, 5, 4, 0.2740760607703774], [1002, 2, 11, 1, 0.5124574922209346], [1003, 1, 5, 4, 0.285530382524152], [1004, 3, 5, 4, 0.27702326322857684], [1005, 13, 2, 4, 0.34768677064284154], [1006, 6, 12, 1, 0.6235994042523272], [1007, 4, 7, 1, 0.29323490778166017], [1008, 1, 2, 4, 0.34213940908204565], [1009, 13, 1, 4, 0.3419998865112339], [1010, 12, 4, 4, 0.3140246966769698], [1011, 14, 4, 4, 0.3262052686577789], [1012, 5, 1, 4, 0.32287993937105447], [1013, 14, 10, 1, 0.5253930533855083], [1014, 3, 6, 3, 0.2703714283731831], [1015, 1, 9, 1, 0.36737525560525564], [1016, 14, 2, 4, 0.354696856033148], [1017, 12, 2, 4, 0.34174583165857503], [1018, 13, 4, 4, 0.31959490469017476], [1019, 14, 1, 4, 0.34896888551672445], [1020, 12, 1, 4, 0.3360944911597036], [1021, 17, 5, 4, 0.31802398232177564], [1022, 1, 1, 4, 0.33639451982301316], [1023, 3, 1, 4, 0.32775097535584186], [1024, 3, 6, 3, 0.2703714283731831], [1025, 12, 9, 1, 0.4537656361111729], [1026, 6, 3, 4, 0.32045761340385526], [1027, 19, 5, 4, 0.34004367223772897]]\n"
     ]
    }
   ],
   "source": [
    "import csv\n",
    "\n",
    "x = model.predict_proba(X_test)\n",
    "level = []\n",
    "prob = []\n",
    "for i in x:\n",
    "    # print(max(i))\n",
    "    listi = i.tolist()\n",
    "    maxi = max(i).tolist()\n",
    "    maxindex = listi.index(maxi)\n",
    "    level.append(maxindex)\n",
    "    prob.append(max(i))\n",
    "    \n",
    "# result = []\n",
    "# i = X_test\n",
    "# count = 1\n",
    "# for idx, j in i.iterrows():\n",
    "#     subresult = []\n",
    "#     subresult.append(count)\n",
    "#     subresult.append(j[0])\n",
    "#     subresult.append(j[1])\n",
    "#     subresult.append(level[count-1])\n",
    "#     subresult.append(prob[count-1])\n",
    "#     result.append(subresult)\n",
    "#     count += 1\n",
    "# print(result)\n",
    "\n",
    "result = []\n",
    "i = X_test\n",
    "count = 1\n",
    "for idx, j in i.iterrows():\n",
    "    subresult = []\n",
    "    if level[count-1] >= 0:\n",
    "        subresult.append(count)\n",
    "        subresult.append(j[0])\n",
    "        subresult.append(j[1])\n",
    "        subresult.append(level[count-1]+1)\n",
    "        subresult.append(prob[count-1])\n",
    "        result.append(subresult)\n",
    "    count += 1\n",
    "print(result)\n",
    "\n",
    "df = pd.DataFrame(result, columns= ['id', 'PlatformId','GenreId','Level','Probability'])\n",
    "\n",
    "df.to_csv (r'/Users/navamongkoltongta/OneDrive - Assumption University/Year2.2/Data Science/Project/RecommendResult.csv', index = False, header=True)\n",
    "\n",
    "\n"
   ]
  },
  {
   "cell_type": "code",
   "execution_count": 29,
   "metadata": {},
   "outputs": [
    {
     "data": {
      "text/plain": [
       "array([0.30656934, 0.33211679, 0.33252132, 0.33373934, 0.31790499])"
      ]
     },
     "execution_count": 29,
     "metadata": {},
     "output_type": "execute_result"
    }
   ],
   "source": [
    "from sklearn.model_selection import cross_val_score\n",
    "cross_val_score(GaussianNB(),X_train, y_train, cv=5)"
   ]
  },
  {
   "cell_type": "code",
   "execution_count": null,
   "metadata": {},
   "outputs": [],
   "source": []
  }
 ],
 "metadata": {
  "kernelspec": {
   "display_name": "Python 3",
   "language": "python",
   "name": "python3"
  },
  "language_info": {
   "codemirror_mode": {
    "name": "ipython",
    "version": 3
   },
   "file_extension": ".py",
   "mimetype": "text/x-python",
   "name": "python",
   "nbconvert_exporter": "python",
   "pygments_lexer": "ipython3",
   "version": "3.8.5"
  }
 },
 "nbformat": 4,
 "nbformat_minor": 4
}
