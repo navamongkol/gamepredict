{
 "cells": [
  {
   "cell_type": "code",
   "execution_count": 2,
   "metadata": {},
   "outputs": [],
   "source": [
    "#import\n",
    "import pandas as pd\n",
    "import numpy as np\n",
    "from matplotlib import pyplot as plt\n",
    "\n",
    "from sklearn.model_selection import train_test_split\n",
    "from sklearn.metrics import classification_report\n",
    "from sklearn.preprocessing import OrdinalEncoder\n",
    "\n",
    "from sklearn.naive_bayes import GaussianNB\n"
   ]
  },
  {
   "cell_type": "code",
   "execution_count": 3,
   "metadata": {},
   "outputs": [],
   "source": [
    "#read_csv\n",
    "df = pd.read_csv('/Users/navamongkoltongta/OneDrive - Assumption University/Year2.2/Data Science/Project/vgsales.csv')"
   ]
  },
  {
   "cell_type": "code",
   "execution_count": 4,
   "metadata": {},
   "outputs": [],
   "source": [
    "#drop_unneccessary_column\n",
    "df.drop(columns=['NA_Sales','EU_Sales','JP_Sales','Other_Sales'], inplace=True)"
   ]
  },
  {
   "cell_type": "code",
   "execution_count": 5,
   "metadata": {},
   "outputs": [
    {
     "output_type": "execute_result",
     "data": {
      "text/plain": [
       "Rank            16598\n",
       "Name            16598\n",
       "Platform        16598\n",
       "Year            16327\n",
       "Genre           16598\n",
       "Publisher       16540\n",
       "Global_Sales    16598\n",
       "dtype: int64"
      ]
     },
     "metadata": {},
     "execution_count": 5
    }
   ],
   "source": [
    "df.count()"
   ]
  },
  {
   "cell_type": "code",
   "execution_count": 6,
   "metadata": {},
   "outputs": [],
   "source": [
    "df.dropna(how='any',subset=['Year','Publisher'],inplace=True)"
   ]
  },
  {
   "cell_type": "code",
   "execution_count": 7,
   "metadata": {},
   "outputs": [
    {
     "output_type": "execute_result",
     "data": {
      "text/plain": [
       "Empty DataFrame\n",
       "Columns: [Rank, Name, Platform, Year, Genre, Publisher, Global_Sales]\n",
       "Index: []"
      ],
      "text/html": "<div>\n<style scoped>\n    .dataframe tbody tr th:only-of-type {\n        vertical-align: middle;\n    }\n\n    .dataframe tbody tr th {\n        vertical-align: top;\n    }\n\n    .dataframe thead th {\n        text-align: right;\n    }\n</style>\n<table border=\"1\" class=\"dataframe\">\n  <thead>\n    <tr style=\"text-align: right;\">\n      <th></th>\n      <th>Rank</th>\n      <th>Name</th>\n      <th>Platform</th>\n      <th>Year</th>\n      <th>Genre</th>\n      <th>Publisher</th>\n      <th>Global_Sales</th>\n    </tr>\n  </thead>\n  <tbody>\n  </tbody>\n</table>\n</div>"
     },
     "metadata": {},
     "execution_count": 7
    }
   ],
   "source": [
    "df[df['Publisher'].isnull()]"
   ]
  },
  {
   "cell_type": "code",
   "execution_count": 8,
   "metadata": {},
   "outputs": [
    {
     "output_type": "execute_result",
     "data": {
      "text/plain": [
       "Rank            0\n",
       "Name            0\n",
       "Platform        0\n",
       "Year            0\n",
       "Genre           0\n",
       "Publisher       0\n",
       "Global_Sales    0\n",
       "dtype: int64"
      ]
     },
     "metadata": {},
     "execution_count": 8
    }
   ],
   "source": [
    "df.isnull().sum()"
   ]
  },
  {
   "cell_type": "code",
   "execution_count": 9,
   "metadata": {},
   "outputs": [
    {
     "output_type": "execute_result",
     "data": {
      "text/plain": [
       "Rank            16291\n",
       "Name            16291\n",
       "Platform        16291\n",
       "Year            16291\n",
       "Genre           16291\n",
       "Publisher       16291\n",
       "Global_Sales    16291\n",
       "dtype: int64"
      ]
     },
     "metadata": {},
     "execution_count": 9
    }
   ],
   "source": [
    "df.count()"
   ]
  },
  {
   "cell_type": "code",
   "execution_count": 10,
   "metadata": {},
   "outputs": [
    {
     "output_type": "execute_result",
     "data": {
      "text/plain": [
       "               Rank          Year  Global_Sales\n",
       "count  16291.000000  16291.000000  16291.000000\n",
       "mean    8290.190228   2006.405561      0.540910\n",
       "std     4792.654450      5.832412      1.567345\n",
       "min        1.000000   1980.000000      0.010000\n",
       "25%     4132.500000   2003.000000      0.060000\n",
       "50%     8292.000000   2007.000000      0.170000\n",
       "75%    12439.500000   2010.000000      0.480000\n",
       "max    16600.000000   2020.000000     82.740000"
      ],
      "text/html": "<div>\n<style scoped>\n    .dataframe tbody tr th:only-of-type {\n        vertical-align: middle;\n    }\n\n    .dataframe tbody tr th {\n        vertical-align: top;\n    }\n\n    .dataframe thead th {\n        text-align: right;\n    }\n</style>\n<table border=\"1\" class=\"dataframe\">\n  <thead>\n    <tr style=\"text-align: right;\">\n      <th></th>\n      <th>Rank</th>\n      <th>Year</th>\n      <th>Global_Sales</th>\n    </tr>\n  </thead>\n  <tbody>\n    <tr>\n      <th>count</th>\n      <td>16291.000000</td>\n      <td>16291.000000</td>\n      <td>16291.000000</td>\n    </tr>\n    <tr>\n      <th>mean</th>\n      <td>8290.190228</td>\n      <td>2006.405561</td>\n      <td>0.540910</td>\n    </tr>\n    <tr>\n      <th>std</th>\n      <td>4792.654450</td>\n      <td>5.832412</td>\n      <td>1.567345</td>\n    </tr>\n    <tr>\n      <th>min</th>\n      <td>1.000000</td>\n      <td>1980.000000</td>\n      <td>0.010000</td>\n    </tr>\n    <tr>\n      <th>25%</th>\n      <td>4132.500000</td>\n      <td>2003.000000</td>\n      <td>0.060000</td>\n    </tr>\n    <tr>\n      <th>50%</th>\n      <td>8292.000000</td>\n      <td>2007.000000</td>\n      <td>0.170000</td>\n    </tr>\n    <tr>\n      <th>75%</th>\n      <td>12439.500000</td>\n      <td>2010.000000</td>\n      <td>0.480000</td>\n    </tr>\n    <tr>\n      <th>max</th>\n      <td>16600.000000</td>\n      <td>2020.000000</td>\n      <td>82.740000</td>\n    </tr>\n  </tbody>\n</table>\n</div>"
     },
     "metadata": {},
     "execution_count": 10
    }
   ],
   "source": [
    "df.describe()"
   ]
  },
  {
   "cell_type": "code",
   "execution_count": 11,
   "metadata": {},
   "outputs": [
    {
     "output_type": "execute_result",
     "data": {
      "text/plain": [
       "   Rank                      Name Platform    Year         Genre Publisher  \\\n",
       "0     1                Wii Sports      Wii  2006.0        Sports  Nintendo   \n",
       "1     2         Super Mario Bros.      NES  1985.0      Platform  Nintendo   \n",
       "2     3            Mario Kart Wii      Wii  2008.0        Racing  Nintendo   \n",
       "3     4         Wii Sports Resort      Wii  2009.0        Sports  Nintendo   \n",
       "4     5  Pokemon Red/Pokemon Blue       GB  1996.0  Role-Playing  Nintendo   \n",
       "\n",
       "   Global_Sales  Sales_level  \n",
       "0         82.74          3.0  \n",
       "1         40.24          3.0  \n",
       "2         35.82          3.0  \n",
       "3         33.00          3.0  \n",
       "4         31.37          3.0  "
      ],
      "text/html": "<div>\n<style scoped>\n    .dataframe tbody tr th:only-of-type {\n        vertical-align: middle;\n    }\n\n    .dataframe tbody tr th {\n        vertical-align: top;\n    }\n\n    .dataframe thead th {\n        text-align: right;\n    }\n</style>\n<table border=\"1\" class=\"dataframe\">\n  <thead>\n    <tr style=\"text-align: right;\">\n      <th></th>\n      <th>Rank</th>\n      <th>Name</th>\n      <th>Platform</th>\n      <th>Year</th>\n      <th>Genre</th>\n      <th>Publisher</th>\n      <th>Global_Sales</th>\n      <th>Sales_level</th>\n    </tr>\n  </thead>\n  <tbody>\n    <tr>\n      <th>0</th>\n      <td>1</td>\n      <td>Wii Sports</td>\n      <td>Wii</td>\n      <td>2006.0</td>\n      <td>Sports</td>\n      <td>Nintendo</td>\n      <td>82.74</td>\n      <td>3.0</td>\n    </tr>\n    <tr>\n      <th>1</th>\n      <td>2</td>\n      <td>Super Mario Bros.</td>\n      <td>NES</td>\n      <td>1985.0</td>\n      <td>Platform</td>\n      <td>Nintendo</td>\n      <td>40.24</td>\n      <td>3.0</td>\n    </tr>\n    <tr>\n      <th>2</th>\n      <td>3</td>\n      <td>Mario Kart Wii</td>\n      <td>Wii</td>\n      <td>2008.0</td>\n      <td>Racing</td>\n      <td>Nintendo</td>\n      <td>35.82</td>\n      <td>3.0</td>\n    </tr>\n    <tr>\n      <th>3</th>\n      <td>4</td>\n      <td>Wii Sports Resort</td>\n      <td>Wii</td>\n      <td>2009.0</td>\n      <td>Sports</td>\n      <td>Nintendo</td>\n      <td>33.00</td>\n      <td>3.0</td>\n    </tr>\n    <tr>\n      <th>4</th>\n      <td>5</td>\n      <td>Pokemon Red/Pokemon Blue</td>\n      <td>GB</td>\n      <td>1996.0</td>\n      <td>Role-Playing</td>\n      <td>Nintendo</td>\n      <td>31.37</td>\n      <td>3.0</td>\n    </tr>\n  </tbody>\n</table>\n</div>"
     },
     "metadata": {},
     "execution_count": 11
    }
   ],
   "source": [
    "#create new column level of global sales\n",
    "df.loc[df['Global_Sales'].between(10.0,100), 'Sales_level'] = 3\n",
    "df.loc[df['Global_Sales'].between(1,9.9), 'Sales_level'] = 2\n",
    "df.loc[df['Global_Sales'].between(0.5377441,0.999), 'Sales_level'] = 1\n",
    "df.loc[df['Global_Sales'] < 0.5377441, 'Sales_level'] = 0\n",
    "\n",
    "df.head(5)\n"
   ]
  },
  {
   "cell_type": "code",
   "execution_count": 12,
   "metadata": {},
   "outputs": [
    {
     "output_type": "execute_result",
     "data": {
      "text/plain": [
       "Action          3251\n",
       "Sports          2304\n",
       "Misc            1686\n",
       "Role-Playing    1470\n",
       "Shooter         1282\n",
       "Adventure       1274\n",
       "Racing          1225\n",
       "Platform         875\n",
       "Simulation       848\n",
       "Fighting         836\n",
       "Strategy         670\n",
       "Puzzle           570\n",
       "Name: Genre, dtype: int64"
      ]
     },
     "metadata": {},
     "execution_count": 12
    }
   ],
   "source": [
    "#See all Genre\n",
    "df.Genre.value_counts()"
   ]
  },
  {
   "cell_type": "code",
   "execution_count": 13,
   "metadata": {},
   "outputs": [
    {
     "output_type": "execute_result",
     "data": {
      "text/plain": [
       "DS      2131\n",
       "PS2     2127\n",
       "PS3     1304\n",
       "Wii     1290\n",
       "X360    1234\n",
       "PSP     1197\n",
       "PS      1189\n",
       "PC       938\n",
       "XB       803\n",
       "GBA      786\n",
       "GC       542\n",
       "3DS      499\n",
       "PSV      410\n",
       "PS4      336\n",
       "N64      316\n",
       "SNES     239\n",
       "XOne     213\n",
       "SAT      173\n",
       "WiiU     143\n",
       "2600     116\n",
       "NES       98\n",
       "GB        97\n",
       "DC        52\n",
       "GEN       27\n",
       "NG        12\n",
       "WS         6\n",
       "SCD        6\n",
       "3DO        3\n",
       "TG16       2\n",
       "GG         1\n",
       "PCFX       1\n",
       "Name: Platform, dtype: int64"
      ]
     },
     "metadata": {},
     "execution_count": 13
    }
   ],
   "source": [
    "#See all Platform\n",
    "df.Platform.value_counts()"
   ]
  },
  {
   "cell_type": "code",
   "execution_count": 14,
   "metadata": {},
   "outputs": [
    {
     "output_type": "execute_result",
     "data": {
      "text/plain": [
       "        Rank                                        Name Platform    Year  \\\n",
       "8908    8910                     Super Street Fighter II      GEN  1993.0   \n",
       "5570    5572                   Major League Baseball 2K6       XB  2006.0   \n",
       "3068    3070  Strawberry Shortcake: Summertime Adventure      GBA  2004.0   \n",
       "6103    6105                               F1 Race Stars     X360  2012.0   \n",
       "1796    1798              LEGO Star Wars: The Video Game      GBA  2005.0   \n",
       "3475    3477                      Shrek 2: Beg for Mercy      GBA  2004.0   \n",
       "1577    1579                          Brian Lara Cricket       PS  1998.0   \n",
       "10246  10248                  Call of Juarez: The Cartel       PC  2011.0   \n",
       "8017    8019                The Walking Dead: Season One      PSV  2013.0   \n",
       "5262    5264                                       Shrek       XB  2001.0   \n",
       "\n",
       "           Genre              Publisher  Global_Sales  Sales_level  PlatformId  \n",
       "8908    Fighting                 Capcom          0.15          0.0        24.0  \n",
       "5570      Sports   Take-Two Interactive          0.33          0.0         9.0  \n",
       "3068   Adventure  Majesco Entertainment          0.66          1.0        10.0  \n",
       "6103      Racing            Codemasters          0.29          0.0         5.0  \n",
       "1796      Action      Eidos Interactive          1.14          2.0        10.0  \n",
       "3475   Adventure             Activision          0.58          1.0        10.0  \n",
       "1577      Sports            Codemasters          1.26          2.0         7.0  \n",
       "10246    Shooter                Ubisoft          0.11          0.0         8.0  \n",
       "8017   Adventure            Square Enix          0.18          0.0        13.0  \n",
       "5262    Platform         TDK Mediactive          0.36          0.0         9.0  "
      ],
      "text/html": "<div>\n<style scoped>\n    .dataframe tbody tr th:only-of-type {\n        vertical-align: middle;\n    }\n\n    .dataframe tbody tr th {\n        vertical-align: top;\n    }\n\n    .dataframe thead th {\n        text-align: right;\n    }\n</style>\n<table border=\"1\" class=\"dataframe\">\n  <thead>\n    <tr style=\"text-align: right;\">\n      <th></th>\n      <th>Rank</th>\n      <th>Name</th>\n      <th>Platform</th>\n      <th>Year</th>\n      <th>Genre</th>\n      <th>Publisher</th>\n      <th>Global_Sales</th>\n      <th>Sales_level</th>\n      <th>PlatformId</th>\n    </tr>\n  </thead>\n  <tbody>\n    <tr>\n      <th>8908</th>\n      <td>8910</td>\n      <td>Super Street Fighter II</td>\n      <td>GEN</td>\n      <td>1993.0</td>\n      <td>Fighting</td>\n      <td>Capcom</td>\n      <td>0.15</td>\n      <td>0.0</td>\n      <td>24.0</td>\n    </tr>\n    <tr>\n      <th>5570</th>\n      <td>5572</td>\n      <td>Major League Baseball 2K6</td>\n      <td>XB</td>\n      <td>2006.0</td>\n      <td>Sports</td>\n      <td>Take-Two Interactive</td>\n      <td>0.33</td>\n      <td>0.0</td>\n      <td>9.0</td>\n    </tr>\n    <tr>\n      <th>3068</th>\n      <td>3070</td>\n      <td>Strawberry Shortcake: Summertime Adventure</td>\n      <td>GBA</td>\n      <td>2004.0</td>\n      <td>Adventure</td>\n      <td>Majesco Entertainment</td>\n      <td>0.66</td>\n      <td>1.0</td>\n      <td>10.0</td>\n    </tr>\n    <tr>\n      <th>6103</th>\n      <td>6105</td>\n      <td>F1 Race Stars</td>\n      <td>X360</td>\n      <td>2012.0</td>\n      <td>Racing</td>\n      <td>Codemasters</td>\n      <td>0.29</td>\n      <td>0.0</td>\n      <td>5.0</td>\n    </tr>\n    <tr>\n      <th>1796</th>\n      <td>1798</td>\n      <td>LEGO Star Wars: The Video Game</td>\n      <td>GBA</td>\n      <td>2005.0</td>\n      <td>Action</td>\n      <td>Eidos Interactive</td>\n      <td>1.14</td>\n      <td>2.0</td>\n      <td>10.0</td>\n    </tr>\n    <tr>\n      <th>3475</th>\n      <td>3477</td>\n      <td>Shrek 2: Beg for Mercy</td>\n      <td>GBA</td>\n      <td>2004.0</td>\n      <td>Adventure</td>\n      <td>Activision</td>\n      <td>0.58</td>\n      <td>1.0</td>\n      <td>10.0</td>\n    </tr>\n    <tr>\n      <th>1577</th>\n      <td>1579</td>\n      <td>Brian Lara Cricket</td>\n      <td>PS</td>\n      <td>1998.0</td>\n      <td>Sports</td>\n      <td>Codemasters</td>\n      <td>1.26</td>\n      <td>2.0</td>\n      <td>7.0</td>\n    </tr>\n    <tr>\n      <th>10246</th>\n      <td>10248</td>\n      <td>Call of Juarez: The Cartel</td>\n      <td>PC</td>\n      <td>2011.0</td>\n      <td>Shooter</td>\n      <td>Ubisoft</td>\n      <td>0.11</td>\n      <td>0.0</td>\n      <td>8.0</td>\n    </tr>\n    <tr>\n      <th>8017</th>\n      <td>8019</td>\n      <td>The Walking Dead: Season One</td>\n      <td>PSV</td>\n      <td>2013.0</td>\n      <td>Adventure</td>\n      <td>Square Enix</td>\n      <td>0.18</td>\n      <td>0.0</td>\n      <td>13.0</td>\n    </tr>\n    <tr>\n      <th>5262</th>\n      <td>5264</td>\n      <td>Shrek</td>\n      <td>XB</td>\n      <td>2001.0</td>\n      <td>Platform</td>\n      <td>TDK Mediactive</td>\n      <td>0.36</td>\n      <td>0.0</td>\n      <td>9.0</td>\n    </tr>\n  </tbody>\n</table>\n</div>"
     },
     "metadata": {},
     "execution_count": 14
    }
   ],
   "source": [
    "#Sort platform to num\n",
    "df.loc[df['Platform'] == 'DS', 'PlatformId'] = 1 \n",
    "df.loc[df['Platform'] == 'PS2', 'PlatformId'] = 2\n",
    "df.loc[df['Platform'] == 'PS3', 'PlatformId'] = 3 \n",
    "df.loc[df['Platform'] == 'Wii', 'PlatformId'] = 4 \n",
    "df.loc[df['Platform'] == 'X360', 'PlatformId'] = 5 \n",
    "df.loc[df['Platform'] == 'PSP', 'PlatformId'] = 6 \n",
    "df.loc[df['Platform'] == 'PS', 'PlatformId'] = 7 \n",
    "df.loc[df['Platform'] == 'PC', 'PlatformId'] = 8 \n",
    "df.loc[df['Platform'] == 'XB', 'PlatformId'] = 9\n",
    "df.loc[df['Platform'] == 'GBA', 'PlatformId'] = 10\n",
    "df.loc[df['Platform'] == 'GC', 'PlatformId'] = 11\n",
    "df.loc[df['Platform'] == '3DS', 'PlatformId'] = 12\n",
    "df.loc[df['Platform'] == 'PSV', 'PlatformId'] = 13\n",
    "df.loc[df['Platform'] == 'PS4', 'PlatformId'] = 14\n",
    "df.loc[df['Platform'] == 'N64', 'PlatformId'] = 15\n",
    "df.loc[df['Platform'] == 'SNES', 'PlatformId'] = 16\n",
    "df.loc[df['Platform'] == 'XOne', 'PlatformId'] = 17\n",
    "df.loc[df['Platform'] == 'SAT', 'PlatformId'] = 18\n",
    "df.loc[df['Platform'] == 'WiiU', 'PlatformId'] = 19\n",
    "df.loc[df['Platform'] == '2600', 'PlatformId'] = 20\n",
    "df.loc[df['Platform'] == 'NES', 'PlatformId'] = 21\n",
    "df.loc[df['Platform'] == 'GB', 'PlatformId'] = 22\n",
    "df.loc[df['Platform'] == 'DC', 'PlatformId'] = 23\n",
    "df.loc[df['Platform'] == 'GEN', 'PlatformId'] = 24\n",
    "df.loc[df['Platform'] == 'NG', 'PlatformId'] = 25\n",
    "df.loc[df['Platform'] == 'SCD', 'PlatformId'] = 26\n",
    "df.loc[df['Platform'] == 'WS', 'PlatformId'] = 27\n",
    "df.loc[df['Platform'] == '3DO', 'PlatformId'] = 28\n",
    "df.loc[df['Platform'] == 'TG16', 'PlatformId'] = 39\n",
    "df.loc[df['Platform'] == 'GG', 'PlatformId'] = 30\n",
    "df.loc[df['Platform'] == 'PCFX', 'PlatformId'] = 31\n",
    "\n",
    "df.sample(10)\n"
   ]
  },
  {
   "cell_type": "code",
   "execution_count": 15,
   "metadata": {},
   "outputs": [
    {
     "output_type": "execute_result",
     "data": {
      "text/plain": [
       "        Rank                                               Name Platform  \\\n",
       "2263    2265                       Lego Batman 3: Beyond Gotham      PS4   \n",
       "117      118                                      Zumba Fitness      Wii   \n",
       "16341  16344                       H2O+: Footprints in the Sand      PS2   \n",
       "7017    7019                          Hannah Montana: The Movie      PS3   \n",
       "6007    6009                                            Dolphin     2600   \n",
       "16141  16144                                    Furious Karting       XB   \n",
       "14326  14329                                    Chicken Shoot 2      GBA   \n",
       "5008    5010                                              Skate      PS3   \n",
       "1537    1539  Midnight Club 3: DUB Edition (America weekly s...      PS2   \n",
       "8999    9001                                          Barbarian      PS2   \n",
       "\n",
       "         Year      Genre                               Publisher  \\\n",
       "2263   2014.0     Action  Warner Bros. Interactive Entertainment   \n",
       "117    2010.0     Sports                               505 Games   \n",
       "16341  2008.0  Adventure                         Kadokawa Shoten   \n",
       "7017   2009.0  Adventure              Disney Interactive Studios   \n",
       "6007   1983.0     Action                              Activision   \n",
       "16141  2003.0     Racing                                   Atari   \n",
       "14326  2005.0  Adventure                  Zoo Digital Publishing   \n",
       "5008   2007.0     Sports                         Electronic Arts   \n",
       "1537   2005.0     Racing                    Take-Two Interactive   \n",
       "8999   2002.0   Fighting                                   Titus   \n",
       "\n",
       "       Global_Sales  Sales_level  PlatformId  GenreId  \n",
       "2263           0.92          1.0        14.0      1.0  \n",
       "117            6.81          2.0         4.0      2.0  \n",
       "16341          0.01          0.0         2.0     11.0  \n",
       "7017           0.23          0.0         3.0     11.0  \n",
       "6007           0.29          0.0        20.0      1.0  \n",
       "16141          0.01          0.0         9.0      6.0  \n",
       "14326          0.03          0.0        10.0     11.0  \n",
       "5008           0.38          0.0         3.0      2.0  \n",
       "1537           1.29          2.0         2.0      6.0  \n",
       "8999           0.14          0.0         2.0      8.0  "
      ],
      "text/html": "<div>\n<style scoped>\n    .dataframe tbody tr th:only-of-type {\n        vertical-align: middle;\n    }\n\n    .dataframe tbody tr th {\n        vertical-align: top;\n    }\n\n    .dataframe thead th {\n        text-align: right;\n    }\n</style>\n<table border=\"1\" class=\"dataframe\">\n  <thead>\n    <tr style=\"text-align: right;\">\n      <th></th>\n      <th>Rank</th>\n      <th>Name</th>\n      <th>Platform</th>\n      <th>Year</th>\n      <th>Genre</th>\n      <th>Publisher</th>\n      <th>Global_Sales</th>\n      <th>Sales_level</th>\n      <th>PlatformId</th>\n      <th>GenreId</th>\n    </tr>\n  </thead>\n  <tbody>\n    <tr>\n      <th>2263</th>\n      <td>2265</td>\n      <td>Lego Batman 3: Beyond Gotham</td>\n      <td>PS4</td>\n      <td>2014.0</td>\n      <td>Action</td>\n      <td>Warner Bros. Interactive Entertainment</td>\n      <td>0.92</td>\n      <td>1.0</td>\n      <td>14.0</td>\n      <td>1.0</td>\n    </tr>\n    <tr>\n      <th>117</th>\n      <td>118</td>\n      <td>Zumba Fitness</td>\n      <td>Wii</td>\n      <td>2010.0</td>\n      <td>Sports</td>\n      <td>505 Games</td>\n      <td>6.81</td>\n      <td>2.0</td>\n      <td>4.0</td>\n      <td>2.0</td>\n    </tr>\n    <tr>\n      <th>16341</th>\n      <td>16344</td>\n      <td>H2O+: Footprints in the Sand</td>\n      <td>PS2</td>\n      <td>2008.0</td>\n      <td>Adventure</td>\n      <td>Kadokawa Shoten</td>\n      <td>0.01</td>\n      <td>0.0</td>\n      <td>2.0</td>\n      <td>11.0</td>\n    </tr>\n    <tr>\n      <th>7017</th>\n      <td>7019</td>\n      <td>Hannah Montana: The Movie</td>\n      <td>PS3</td>\n      <td>2009.0</td>\n      <td>Adventure</td>\n      <td>Disney Interactive Studios</td>\n      <td>0.23</td>\n      <td>0.0</td>\n      <td>3.0</td>\n      <td>11.0</td>\n    </tr>\n    <tr>\n      <th>6007</th>\n      <td>6009</td>\n      <td>Dolphin</td>\n      <td>2600</td>\n      <td>1983.0</td>\n      <td>Action</td>\n      <td>Activision</td>\n      <td>0.29</td>\n      <td>0.0</td>\n      <td>20.0</td>\n      <td>1.0</td>\n    </tr>\n    <tr>\n      <th>16141</th>\n      <td>16144</td>\n      <td>Furious Karting</td>\n      <td>XB</td>\n      <td>2003.0</td>\n      <td>Racing</td>\n      <td>Atari</td>\n      <td>0.01</td>\n      <td>0.0</td>\n      <td>9.0</td>\n      <td>6.0</td>\n    </tr>\n    <tr>\n      <th>14326</th>\n      <td>14329</td>\n      <td>Chicken Shoot 2</td>\n      <td>GBA</td>\n      <td>2005.0</td>\n      <td>Adventure</td>\n      <td>Zoo Digital Publishing</td>\n      <td>0.03</td>\n      <td>0.0</td>\n      <td>10.0</td>\n      <td>11.0</td>\n    </tr>\n    <tr>\n      <th>5008</th>\n      <td>5010</td>\n      <td>Skate</td>\n      <td>PS3</td>\n      <td>2007.0</td>\n      <td>Sports</td>\n      <td>Electronic Arts</td>\n      <td>0.38</td>\n      <td>0.0</td>\n      <td>3.0</td>\n      <td>2.0</td>\n    </tr>\n    <tr>\n      <th>1537</th>\n      <td>1539</td>\n      <td>Midnight Club 3: DUB Edition (America weekly s...</td>\n      <td>PS2</td>\n      <td>2005.0</td>\n      <td>Racing</td>\n      <td>Take-Two Interactive</td>\n      <td>1.29</td>\n      <td>2.0</td>\n      <td>2.0</td>\n      <td>6.0</td>\n    </tr>\n    <tr>\n      <th>8999</th>\n      <td>9001</td>\n      <td>Barbarian</td>\n      <td>PS2</td>\n      <td>2002.0</td>\n      <td>Fighting</td>\n      <td>Titus</td>\n      <td>0.14</td>\n      <td>0.0</td>\n      <td>2.0</td>\n      <td>8.0</td>\n    </tr>\n  </tbody>\n</table>\n</div>"
     },
     "metadata": {},
     "execution_count": 15
    }
   ],
   "source": [
    "#Sort Genre to num\n",
    "df.loc[df['Genre'] == 'Action', 'GenreId'] = 1 \n",
    "df.loc[df['Genre'] == 'Sports', 'GenreId'] = 2\n",
    "df.loc[df['Genre'] == 'Shooter', 'GenreId'] = 3 \n",
    "df.loc[df['Genre'] == 'Role-Playing', 'GenreId'] = 4 \n",
    "df.loc[df['Genre'] == 'Misc', 'GenreId'] = 5 \n",
    "df.loc[df['Genre'] == 'Racing', 'GenreId'] = 6 \n",
    "df.loc[df['Genre'] == 'Platform', 'GenreId'] = 7 \n",
    "df.loc[df['Genre'] == 'Fighting', 'GenreId'] = 8 \n",
    "df.loc[df['Genre'] == 'Simulation', 'GenreId'] = 9 \n",
    "df.loc[df['Genre'] == 'Puzzle', 'GenreId'] = 10 \n",
    "df.loc[df['Genre'] == 'Adventure', 'GenreId'] = 11 \n",
    "df.loc[df['Genre'] == 'Strategy', 'GenreId'] = 12 \n",
    "\n",
    "df.sample(10)\n",
    "\n"
   ]
  },
  {
   "cell_type": "code",
   "execution_count": 16,
   "metadata": {},
   "outputs": [],
   "source": [
    "#Define X and Y\n",
    "inputs = df.drop('Sales_level',axis='columns')\n",
    "target = df.Sales_level"
   ]
  },
  {
   "cell_type": "code",
   "execution_count": 17,
   "metadata": {},
   "outputs": [
    {
     "output_type": "execute_result",
     "data": {
      "text/plain": [
       "   PlatformId  GenreId\n",
       "0         4.0      2.0\n",
       "1        21.0      7.0\n",
       "2         4.0      6.0\n",
       "3         4.0      2.0\n",
       "4        22.0      4.0"
      ],
      "text/html": "<div>\n<style scoped>\n    .dataframe tbody tr th:only-of-type {\n        vertical-align: middle;\n    }\n\n    .dataframe tbody tr th {\n        vertical-align: top;\n    }\n\n    .dataframe thead th {\n        text-align: right;\n    }\n</style>\n<table border=\"1\" class=\"dataframe\">\n  <thead>\n    <tr style=\"text-align: right;\">\n      <th></th>\n      <th>PlatformId</th>\n      <th>GenreId</th>\n    </tr>\n  </thead>\n  <tbody>\n    <tr>\n      <th>0</th>\n      <td>4.0</td>\n      <td>2.0</td>\n    </tr>\n    <tr>\n      <th>1</th>\n      <td>21.0</td>\n      <td>7.0</td>\n    </tr>\n    <tr>\n      <th>2</th>\n      <td>4.0</td>\n      <td>6.0</td>\n    </tr>\n    <tr>\n      <th>3</th>\n      <td>4.0</td>\n      <td>2.0</td>\n    </tr>\n    <tr>\n      <th>4</th>\n      <td>22.0</td>\n      <td>4.0</td>\n    </tr>\n  </tbody>\n</table>\n</div>"
     },
     "metadata": {},
     "execution_count": 17
    }
   ],
   "source": [
    "#Drop unused column\n",
    "inputs.drop(['Year','Rank','Name','Platform','Publisher','Genre','Global_Sales'],axis='columns',inplace=True)\n",
    "inputs.head()"
   ]
  },
  {
   "cell_type": "code",
   "execution_count": 18,
   "metadata": {},
   "outputs": [],
   "source": [
    "#Define X and Y\n",
    "X = inputs.astype(int)\n",
    "Y = target.astype(int)\n",
    "X_train, X_test, y_train, y_test = train_test_split(X,Y,test_size=0.3)\n",
    "model = GaussianNB()"
   ]
  },
  {
   "cell_type": "code",
   "execution_count": 19,
   "metadata": {},
   "outputs": [
    {
     "output_type": "execute_result",
     "data": {
      "text/plain": [
       "       PlatformId  GenreId\n",
       "3264            4        1\n",
       "12604           9       12\n",
       "3265            3        1\n",
       "12384           5        1\n",
       "6644            4        2\n",
       "4410            3        3\n",
       "5099            4        2\n",
       "7586            6        1\n",
       "4283            5        1\n",
       "997             5        1"
      ],
      "text/html": "<div>\n<style scoped>\n    .dataframe tbody tr th:only-of-type {\n        vertical-align: middle;\n    }\n\n    .dataframe tbody tr th {\n        vertical-align: top;\n    }\n\n    .dataframe thead th {\n        text-align: right;\n    }\n</style>\n<table border=\"1\" class=\"dataframe\">\n  <thead>\n    <tr style=\"text-align: right;\">\n      <th></th>\n      <th>PlatformId</th>\n      <th>GenreId</th>\n    </tr>\n  </thead>\n  <tbody>\n    <tr>\n      <th>3264</th>\n      <td>4</td>\n      <td>1</td>\n    </tr>\n    <tr>\n      <th>12604</th>\n      <td>9</td>\n      <td>12</td>\n    </tr>\n    <tr>\n      <th>3265</th>\n      <td>3</td>\n      <td>1</td>\n    </tr>\n    <tr>\n      <th>12384</th>\n      <td>5</td>\n      <td>1</td>\n    </tr>\n    <tr>\n      <th>6644</th>\n      <td>4</td>\n      <td>2</td>\n    </tr>\n    <tr>\n      <th>4410</th>\n      <td>3</td>\n      <td>3</td>\n    </tr>\n    <tr>\n      <th>5099</th>\n      <td>4</td>\n      <td>2</td>\n    </tr>\n    <tr>\n      <th>7586</th>\n      <td>6</td>\n      <td>1</td>\n    </tr>\n    <tr>\n      <th>4283</th>\n      <td>5</td>\n      <td>1</td>\n    </tr>\n    <tr>\n      <th>997</th>\n      <td>5</td>\n      <td>1</td>\n    </tr>\n  </tbody>\n</table>\n</div>"
     },
     "metadata": {},
     "execution_count": 19
    }
   ],
   "source": [
    "X_test[0:10]"
   ]
  },
  {
   "cell_type": "code",
   "execution_count": 22,
   "metadata": {},
   "outputs": [
    {
     "output_type": "execute_result",
     "data": {
      "text/plain": [
       "GaussianNB()"
      ]
     },
     "metadata": {},
     "execution_count": 22
    }
   ],
   "source": [
    "model.fit(X_train,y_train)"
   ]
  },
  {
   "cell_type": "code",
   "execution_count": 36,
   "metadata": {},
   "outputs": [
    {
     "output_type": "execute_result",
     "data": {
      "text/plain": [
       "0.762684124386252"
      ]
     },
     "metadata": {},
     "execution_count": 36
    }
   ],
   "source": [
    "model.score(X_test,y_test)"
   ]
  },
  {
   "cell_type": "code",
   "execution_count": 37,
   "metadata": {},
   "outputs": [
    {
     "output_type": "execute_result",
     "data": {
      "text/plain": [
       "array([0, 0, 0, 0, 0, 0, 0, 0, 0, 0])"
      ]
     },
     "metadata": {},
     "execution_count": 37
    }
   ],
   "source": [
    "model.predict(X_test[0:10])"
   ]
  },
  {
   "cell_type": "code",
   "execution_count": 38,
   "metadata": {},
   "outputs": [
    {
     "output_type": "execute_result",
     "data": {
      "text/plain": [
       "array([[7.91243529e-01, 9.20711256e-02, 1.13000196e-01, 3.68514921e-03],\n",
       "       [7.34707944e-01, 9.57208844e-02, 1.63288683e-01, 6.28248808e-03],\n",
       "       [7.53197676e-01, 1.20256300e-01, 1.23174755e-01, 3.37126922e-03],\n",
       "       [9.11785433e-01, 5.12816331e-02, 3.61717486e-02, 7.61185055e-04],\n",
       "       [6.28691075e-01, 1.01064246e-01, 2.61123134e-01, 9.12154476e-03],\n",
       "       [7.62866706e-01, 1.15420884e-01, 1.18103641e-01, 3.60876885e-03],\n",
       "       [7.39202328e-01, 1.26297094e-01, 1.31801799e-01, 2.69877810e-03],\n",
       "       [7.59371125e-01, 3.13164679e-02, 1.96193441e-01, 1.31189659e-02],\n",
       "       [9.07394582e-01, 5.22106102e-02, 3.94719673e-02, 9.22840584e-04],\n",
       "       [7.44410509e-01, 1.26162359e-01, 1.26651718e-01, 2.77541349e-03]])"
      ]
     },
     "metadata": {},
     "execution_count": 38
    }
   ],
   "source": [
    "model.predict_proba(X_test[:10])"
   ]
  },
  {
   "cell_type": "code",
   "execution_count": 41,
   "metadata": {},
   "outputs": [
    {
     "output_type": "display_data",
     "data": {
      "text/plain": "<Figure size 432x288 with 1 Axes>",
      "image/svg+xml": "<?xml version=\"1.0\" encoding=\"utf-8\" standalone=\"no\"?>\n<!DOCTYPE svg PUBLIC \"-//W3C//DTD SVG 1.1//EN\"\n  \"http://www.w3.org/Graphics/SVG/1.1/DTD/svg11.dtd\">\n<!-- Created with matplotlib (https://matplotlib.org/) -->\n<svg height=\"710.207996pt\" version=\"1.1\" viewBox=\"0 0 932.213842 710.207996\" width=\"932.213842pt\" xmlns=\"http://www.w3.org/2000/svg\" xmlns:xlink=\"http://www.w3.org/1999/xlink\">\n <metadata>\n  <rdf:RDF xmlns:cc=\"http://creativecommons.org/ns#\" xmlns:dc=\"http://purl.org/dc/elements/1.1/\" xmlns:rdf=\"http://www.w3.org/1999/02/22-rdf-syntax-ns#\">\n   <cc:Work>\n    <dc:type rdf:resource=\"http://purl.org/dc/dcmitype/StillImage\"/>\n    <dc:date>2021-03-30T20:22:43.844995</dc:date>\n    <dc:format>image/svg+xml</dc:format>\n    <dc:creator>\n     <cc:Agent>\n      <dc:title>Matplotlib v3.3.2, https://matplotlib.org/</dc:title>\n     </cc:Agent>\n    </dc:creator>\n   </cc:Work>\n  </rdf:RDF>\n </metadata>\n <defs>\n  <style type=\"text/css\">*{stroke-linecap:butt;stroke-linejoin:round;}</style>\n </defs>\n <g id=\"figure_1\">\n  <g id=\"patch_1\">\n   <path d=\"M 0 710.207996 \nL 932.213842 710.207996 \nL 932.213842 0 \nL 0 0 \nz\n\" style=\"fill:none;\"/>\n  </g>\n  <g id=\"axes_1\">\n   <g id=\"patch_2\">\n    <path d=\"M 770.484942 355.104 \nC 770.484942 309.709239 761.600231 264.750254 744.332913 222.767829 \nC 727.065595 180.785403 701.747194 142.585574 669.808535 110.327142 \nC 637.869877 78.06871 599.924166 52.371018 558.11584 34.686328 \nC 516.307515 17.001638 471.439271 7.669486 426.046762 7.217264 \nC 380.654254 6.765041 335.608991 15.201429 293.456631 32.049661 \nC 251.304271 48.897893 212.854117 73.834491 180.279112 105.450206 \nC 147.704108 137.065921 121.629676 174.753749 103.529369 216.383825 \nC 85.429062 258.013901 75.650395 302.786951 74.745995 348.172702 \nC 73.841594 393.558454 81.828823 438.685524 98.256297 481.003635 \nC 114.683771 523.321745 139.236091 562.01841 170.525725 594.906754 \nC 201.815359 627.795098 239.241563 654.243682 280.689258 672.75781 \nC 322.136953 691.271938 366.810366 701.496148 412.184855 702.852637 \nC 457.559345 704.209126 502.763745 696.671849 545.243406 680.666764 \nC 587.723067 664.661678 626.662402 640.496072 659.860822 609.535625 \nC 693.059241 578.575177 719.879353 541.414312 738.805464 500.153111 \nC 757.731575 458.891911 768.400315 414.322568 770.208757 368.963843 \nL 422.580942 355.104 \nL 770.484942 355.104 \nz\n\" style=\"fill:#1f77b4;\"/>\n   </g>\n   <g id=\"patch_3\">\n    <path d=\"M 857.115711 372.428804 \nC 857.115711 372.428804 857.115711 372.428804 857.115711 372.428804 \nL 509.487895 358.568961 \nL 857.115711 372.428804 \nz\n\" style=\"fill:#ff7f0e;\"/>\n   </g>\n   <g id=\"patch_4\">\n    <path d=\"M 857.167493 370.696682 \nC 857.259543 368.38793 857.32859 366.078318 857.374624 363.768191 \nC 857.420658 361.458064 857.443677 359.147535 857.443678 356.836949 \nL 509.539678 356.836838 \nL 857.167493 370.696682 \nz\n\" style=\"fill:#2ca02c;\"/>\n   </g>\n   <g id=\"patch_5\">\n    <path d=\"M 857.460942 355.104139 \nC 857.460942 355.104139 857.460942 355.104139 857.460942 355.104139 \nL 509.556942 355.104028 \nL 857.460942 355.104139 \nz\n\" style=\"fill:#d62728;\"/>\n   </g>\n   <g id=\"matplotlib.axis_1\"/>\n   <g id=\"matplotlib.axis_2\"/>\n   <g id=\"text_1\">\n    <!-- Level1 -->\n    <g transform=\"translate(7.2 350.238948)scale(0.1 -0.1)\">\n     <defs>\n      <path d=\"M 9.8125 72.90625 \nL 19.671875 72.90625 \nL 19.671875 8.296875 \nL 55.171875 8.296875 \nL 55.171875 0 \nL 9.8125 0 \nz\n\" id=\"DejaVuSans-76\"/>\n      <path d=\"M 56.203125 29.59375 \nL 56.203125 25.203125 \nL 14.890625 25.203125 \nQ 15.484375 15.921875 20.484375 11.0625 \nQ 25.484375 6.203125 34.421875 6.203125 \nQ 39.59375 6.203125 44.453125 7.46875 \nQ 49.3125 8.734375 54.109375 11.28125 \nL 54.109375 2.78125 \nQ 49.265625 0.734375 44.1875 -0.34375 \nQ 39.109375 -1.421875 33.890625 -1.421875 \nQ 20.796875 -1.421875 13.15625 6.1875 \nQ 5.515625 13.8125 5.515625 26.8125 \nQ 5.515625 40.234375 12.765625 48.109375 \nQ 20.015625 56 32.328125 56 \nQ 43.359375 56 49.78125 48.890625 \nQ 56.203125 41.796875 56.203125 29.59375 \nz\nM 47.21875 32.234375 \nQ 47.125 39.59375 43.09375 43.984375 \nQ 39.0625 48.390625 32.421875 48.390625 \nQ 24.90625 48.390625 20.390625 44.140625 \nQ 15.875 39.890625 15.1875 32.171875 \nz\n\" id=\"DejaVuSans-101\"/>\n      <path d=\"M 2.984375 54.6875 \nL 12.5 54.6875 \nL 29.59375 8.796875 \nL 46.6875 54.6875 \nL 56.203125 54.6875 \nL 35.6875 0 \nL 23.484375 0 \nz\n\" id=\"DejaVuSans-118\"/>\n      <path d=\"M 9.421875 75.984375 \nL 18.40625 75.984375 \nL 18.40625 0 \nL 9.421875 0 \nz\n\" id=\"DejaVuSans-108\"/>\n      <path d=\"M 12.40625 8.296875 \nL 28.515625 8.296875 \nL 28.515625 63.921875 \nL 10.984375 60.40625 \nL 10.984375 69.390625 \nL 28.421875 72.90625 \nL 38.28125 72.90625 \nL 38.28125 8.296875 \nL 54.390625 8.296875 \nL 54.390625 0 \nL 12.40625 0 \nz\n\" id=\"DejaVuSans-49\"/>\n     </defs>\n     <use xlink:href=\"#DejaVuSans-76\"/>\n     <use x=\"53.962891\" xlink:href=\"#DejaVuSans-101\"/>\n     <use x=\"115.486328\" xlink:href=\"#DejaVuSans-118\"/>\n     <use x=\"174.666016\" xlink:href=\"#DejaVuSans-101\"/>\n     <use x=\"236.189453\" xlink:href=\"#DejaVuSans-108\"/>\n     <use x=\"263.972656\" xlink:href=\"#DejaVuSans-49\"/>\n    </g>\n   </g>\n   <g id=\"text_2\">\n    <!-- 99.36579% -->\n    <g transform=\"translate(185.27138 353.704596)scale(0.1 -0.1)\">\n     <defs>\n      <path d=\"M 10.984375 1.515625 \nL 10.984375 10.5 \nQ 14.703125 8.734375 18.5 7.8125 \nQ 22.3125 6.890625 25.984375 6.890625 \nQ 35.75 6.890625 40.890625 13.453125 \nQ 46.046875 20.015625 46.78125 33.40625 \nQ 43.953125 29.203125 39.59375 26.953125 \nQ 35.25 24.703125 29.984375 24.703125 \nQ 19.046875 24.703125 12.671875 31.3125 \nQ 6.296875 37.9375 6.296875 49.421875 \nQ 6.296875 60.640625 12.9375 67.421875 \nQ 19.578125 74.21875 30.609375 74.21875 \nQ 43.265625 74.21875 49.921875 64.515625 \nQ 56.59375 54.828125 56.59375 36.375 \nQ 56.59375 19.140625 48.40625 8.859375 \nQ 40.234375 -1.421875 26.421875 -1.421875 \nQ 22.703125 -1.421875 18.890625 -0.6875 \nQ 15.09375 0.046875 10.984375 1.515625 \nz\nM 30.609375 32.421875 \nQ 37.25 32.421875 41.125 36.953125 \nQ 45.015625 41.5 45.015625 49.421875 \nQ 45.015625 57.28125 41.125 61.84375 \nQ 37.25 66.40625 30.609375 66.40625 \nQ 23.96875 66.40625 20.09375 61.84375 \nQ 16.21875 57.28125 16.21875 49.421875 \nQ 16.21875 41.5 20.09375 36.953125 \nQ 23.96875 32.421875 30.609375 32.421875 \nz\n\" id=\"DejaVuSans-57\"/>\n      <path d=\"M 10.6875 12.40625 \nL 21 12.40625 \nL 21 0 \nL 10.6875 0 \nz\n\" id=\"DejaVuSans-46\"/>\n      <path d=\"M 40.578125 39.3125 \nQ 47.65625 37.796875 51.625 33 \nQ 55.609375 28.21875 55.609375 21.1875 \nQ 55.609375 10.40625 48.1875 4.484375 \nQ 40.765625 -1.421875 27.09375 -1.421875 \nQ 22.515625 -1.421875 17.65625 -0.515625 \nQ 12.796875 0.390625 7.625 2.203125 \nL 7.625 11.71875 \nQ 11.71875 9.328125 16.59375 8.109375 \nQ 21.484375 6.890625 26.8125 6.890625 \nQ 36.078125 6.890625 40.9375 10.546875 \nQ 45.796875 14.203125 45.796875 21.1875 \nQ 45.796875 27.640625 41.28125 31.265625 \nQ 36.765625 34.90625 28.71875 34.90625 \nL 20.21875 34.90625 \nL 20.21875 43.015625 \nL 29.109375 43.015625 \nQ 36.375 43.015625 40.234375 45.921875 \nQ 44.09375 48.828125 44.09375 54.296875 \nQ 44.09375 59.90625 40.109375 62.90625 \nQ 36.140625 65.921875 28.71875 65.921875 \nQ 24.65625 65.921875 20.015625 65.03125 \nQ 15.375 64.15625 9.8125 62.3125 \nL 9.8125 71.09375 \nQ 15.4375 72.65625 20.34375 73.4375 \nQ 25.25 74.21875 29.59375 74.21875 \nQ 40.828125 74.21875 47.359375 69.109375 \nQ 53.90625 64.015625 53.90625 55.328125 \nQ 53.90625 49.265625 50.4375 45.09375 \nQ 46.96875 40.921875 40.578125 39.3125 \nz\n\" id=\"DejaVuSans-51\"/>\n      <path d=\"M 33.015625 40.375 \nQ 26.375 40.375 22.484375 35.828125 \nQ 18.609375 31.296875 18.609375 23.390625 \nQ 18.609375 15.53125 22.484375 10.953125 \nQ 26.375 6.390625 33.015625 6.390625 \nQ 39.65625 6.390625 43.53125 10.953125 \nQ 47.40625 15.53125 47.40625 23.390625 \nQ 47.40625 31.296875 43.53125 35.828125 \nQ 39.65625 40.375 33.015625 40.375 \nz\nM 52.59375 71.296875 \nL 52.59375 62.3125 \nQ 48.875 64.0625 45.09375 64.984375 \nQ 41.3125 65.921875 37.59375 65.921875 \nQ 27.828125 65.921875 22.671875 59.328125 \nQ 17.53125 52.734375 16.796875 39.40625 \nQ 19.671875 43.65625 24.015625 45.921875 \nQ 28.375 48.1875 33.59375 48.1875 \nQ 44.578125 48.1875 50.953125 41.515625 \nQ 57.328125 34.859375 57.328125 23.390625 \nQ 57.328125 12.15625 50.6875 5.359375 \nQ 44.046875 -1.421875 33.015625 -1.421875 \nQ 20.359375 -1.421875 13.671875 8.265625 \nQ 6.984375 17.96875 6.984375 36.375 \nQ 6.984375 53.65625 15.1875 63.9375 \nQ 23.390625 74.21875 37.203125 74.21875 \nQ 40.921875 74.21875 44.703125 73.484375 \nQ 48.484375 72.75 52.59375 71.296875 \nz\n\" id=\"DejaVuSans-54\"/>\n      <path d=\"M 10.796875 72.90625 \nL 49.515625 72.90625 \nL 49.515625 64.59375 \nL 19.828125 64.59375 \nL 19.828125 46.734375 \nQ 21.96875 47.46875 24.109375 47.828125 \nQ 26.265625 48.1875 28.421875 48.1875 \nQ 40.625 48.1875 47.75 41.5 \nQ 54.890625 34.8125 54.890625 23.390625 \nQ 54.890625 11.625 47.5625 5.09375 \nQ 40.234375 -1.421875 26.90625 -1.421875 \nQ 22.3125 -1.421875 17.546875 -0.640625 \nQ 12.796875 0.140625 7.71875 1.703125 \nL 7.71875 11.625 \nQ 12.109375 9.234375 16.796875 8.0625 \nQ 21.484375 6.890625 26.703125 6.890625 \nQ 35.15625 6.890625 40.078125 11.328125 \nQ 45.015625 15.765625 45.015625 23.390625 \nQ 45.015625 31 40.078125 35.4375 \nQ 35.15625 39.890625 26.703125 39.890625 \nQ 22.75 39.890625 18.8125 39.015625 \nQ 14.890625 38.140625 10.796875 36.28125 \nz\n\" id=\"DejaVuSans-53\"/>\n      <path d=\"M 8.203125 72.90625 \nL 55.078125 72.90625 \nL 55.078125 68.703125 \nL 28.609375 0 \nL 18.3125 0 \nL 43.21875 64.59375 \nL 8.203125 64.59375 \nz\n\" id=\"DejaVuSans-55\"/>\n      <path d=\"M 72.703125 32.078125 \nQ 68.453125 32.078125 66.03125 28.46875 \nQ 63.625 24.859375 63.625 18.40625 \nQ 63.625 12.0625 66.03125 8.421875 \nQ 68.453125 4.78125 72.703125 4.78125 \nQ 76.859375 4.78125 79.265625 8.421875 \nQ 81.6875 12.0625 81.6875 18.40625 \nQ 81.6875 24.8125 79.265625 28.4375 \nQ 76.859375 32.078125 72.703125 32.078125 \nz\nM 72.703125 38.28125 \nQ 80.421875 38.28125 84.953125 32.90625 \nQ 89.5 27.546875 89.5 18.40625 \nQ 89.5 9.28125 84.9375 3.921875 \nQ 80.375 -1.421875 72.703125 -1.421875 \nQ 64.890625 -1.421875 60.34375 3.921875 \nQ 55.8125 9.28125 55.8125 18.40625 \nQ 55.8125 27.59375 60.375 32.9375 \nQ 64.9375 38.28125 72.703125 38.28125 \nz\nM 22.3125 68.015625 \nQ 18.109375 68.015625 15.6875 64.375 \nQ 13.28125 60.75 13.28125 54.390625 \nQ 13.28125 47.953125 15.671875 44.328125 \nQ 18.0625 40.71875 22.3125 40.71875 \nQ 26.5625 40.71875 28.96875 44.328125 \nQ 31.390625 47.953125 31.390625 54.390625 \nQ 31.390625 60.6875 28.953125 64.34375 \nQ 26.515625 68.015625 22.3125 68.015625 \nz\nM 66.40625 74.21875 \nL 74.21875 74.21875 \nL 28.609375 -1.421875 \nL 20.796875 -1.421875 \nz\nM 22.3125 74.21875 \nQ 30.03125 74.21875 34.609375 68.875 \nQ 39.203125 63.53125 39.203125 54.390625 \nQ 39.203125 45.171875 34.640625 39.84375 \nQ 30.078125 34.515625 22.3125 34.515625 \nQ 14.546875 34.515625 10.03125 39.859375 \nQ 5.515625 45.21875 5.515625 54.390625 \nQ 5.515625 63.484375 10.046875 68.84375 \nQ 14.59375 74.21875 22.3125 74.21875 \nz\n\" id=\"DejaVuSans-37\"/>\n     </defs>\n     <use xlink:href=\"#DejaVuSans-57\"/>\n     <use x=\"63.623047\" xlink:href=\"#DejaVuSans-57\"/>\n     <use x=\"127.246094\" xlink:href=\"#DejaVuSans-46\"/>\n     <use x=\"159.033203\" xlink:href=\"#DejaVuSans-51\"/>\n     <use x=\"222.65625\" xlink:href=\"#DejaVuSans-54\"/>\n     <use x=\"286.279297\" xlink:href=\"#DejaVuSans-53\"/>\n     <use x=\"349.902344\" xlink:href=\"#DejaVuSans-55\"/>\n     <use x=\"413.525391\" xlink:href=\"#DejaVuSans-57\"/>\n     <use x=\"477.148438\" xlink:href=\"#DejaVuSans-37\"/>\n    </g>\n   </g>\n   <g id=\"text_3\">\n    <!-- Level2 -->\n    <g transform=\"translate(891.878492 376.574163)scale(0.1 -0.1)\">\n     <defs>\n      <path d=\"M 19.1875 8.296875 \nL 53.609375 8.296875 \nL 53.609375 0 \nL 7.328125 0 \nL 7.328125 8.296875 \nQ 12.9375 14.109375 22.625 23.890625 \nQ 32.328125 33.6875 34.8125 36.53125 \nQ 39.546875 41.84375 41.421875 45.53125 \nQ 43.3125 49.21875 43.3125 52.78125 \nQ 43.3125 58.59375 39.234375 62.25 \nQ 35.15625 65.921875 28.609375 65.921875 \nQ 23.96875 65.921875 18.8125 64.3125 \nQ 13.671875 62.703125 7.8125 59.421875 \nL 7.8125 69.390625 \nQ 13.765625 71.78125 18.9375 73 \nQ 24.125 74.21875 28.421875 74.21875 \nQ 39.75 74.21875 46.484375 68.546875 \nQ 53.21875 62.890625 53.21875 53.421875 \nQ 53.21875 48.921875 51.53125 44.890625 \nQ 49.859375 40.875 45.40625 35.40625 \nQ 44.1875 33.984375 37.640625 27.21875 \nQ 31.109375 20.453125 19.1875 8.296875 \nz\n\" id=\"DejaVuSans-50\"/>\n     </defs>\n     <use xlink:href=\"#DejaVuSans-76\"/>\n     <use x=\"53.962891\" xlink:href=\"#DejaVuSans-101\"/>\n     <use x=\"115.486328\" xlink:href=\"#DejaVuSans-118\"/>\n     <use x=\"174.666016\" xlink:href=\"#DejaVuSans-101\"/>\n     <use x=\"236.189453\" xlink:href=\"#DejaVuSans-108\"/>\n     <use x=\"263.972656\" xlink:href=\"#DejaVuSans-50\"/>\n    </g>\n   </g>\n   <g id=\"text_4\">\n    <!-- 0.00000% -->\n    <g transform=\"translate(692.637241 369.644242)scale(0.1 -0.1)\">\n     <defs>\n      <path d=\"M 31.78125 66.40625 \nQ 24.171875 66.40625 20.328125 58.90625 \nQ 16.5 51.421875 16.5 36.375 \nQ 16.5 21.390625 20.328125 13.890625 \nQ 24.171875 6.390625 31.78125 6.390625 \nQ 39.453125 6.390625 43.28125 13.890625 \nQ 47.125 21.390625 47.125 36.375 \nQ 47.125 51.421875 43.28125 58.90625 \nQ 39.453125 66.40625 31.78125 66.40625 \nz\nM 31.78125 74.21875 \nQ 44.046875 74.21875 50.515625 64.515625 \nQ 56.984375 54.828125 56.984375 36.375 \nQ 56.984375 17.96875 50.515625 8.265625 \nQ 44.046875 -1.421875 31.78125 -1.421875 \nQ 19.53125 -1.421875 13.0625 8.265625 \nQ 6.59375 17.96875 6.59375 36.375 \nQ 6.59375 54.828125 13.0625 64.515625 \nQ 19.53125 74.21875 31.78125 74.21875 \nz\n\" id=\"DejaVuSans-48\"/>\n     </defs>\n     <use xlink:href=\"#DejaVuSans-48\"/>\n     <use x=\"63.623047\" xlink:href=\"#DejaVuSans-46\"/>\n     <use x=\"95.410156\" xlink:href=\"#DejaVuSans-48\"/>\n     <use x=\"159.033203\" xlink:href=\"#DejaVuSans-48\"/>\n     <use x=\"222.65625\" xlink:href=\"#DejaVuSans-48\"/>\n     <use x=\"286.279297\" xlink:href=\"#DejaVuSans-48\"/>\n     <use x=\"349.902344\" xlink:href=\"#DejaVuSans-48\"/>\n     <use x=\"413.525391\" xlink:href=\"#DejaVuSans-37\"/>\n    </g>\n   </g>\n   <g id=\"text_5\">\n    <!-- Level3 -->\n    <g transform=\"translate(892.158119 367.220701)scale(0.1 -0.1)\">\n     <use xlink:href=\"#DejaVuSans-76\"/>\n     <use x=\"53.962891\" xlink:href=\"#DejaVuSans-101\"/>\n     <use x=\"115.486328\" xlink:href=\"#DejaVuSans-118\"/>\n     <use x=\"174.666016\" xlink:href=\"#DejaVuSans-101\"/>\n     <use x=\"236.189453\" xlink:href=\"#DejaVuSans-108\"/>\n     <use x=\"263.972656\" xlink:href=\"#DejaVuSans-51\"/>\n    </g>\n   </g>\n   <g id=\"text_6\">\n    <!-- 0.63421% -->\n    <g transform=\"translate(692.813302 363.755025)scale(0.1 -0.1)\">\n     <defs>\n      <path d=\"M 37.796875 64.3125 \nL 12.890625 25.390625 \nL 37.796875 25.390625 \nz\nM 35.203125 72.90625 \nL 47.609375 72.90625 \nL 47.609375 25.390625 \nL 58.015625 25.390625 \nL 58.015625 17.1875 \nL 47.609375 17.1875 \nL 47.609375 0 \nL 37.796875 0 \nL 37.796875 17.1875 \nL 4.890625 17.1875 \nL 4.890625 26.703125 \nz\n\" id=\"DejaVuSans-52\"/>\n     </defs>\n     <use xlink:href=\"#DejaVuSans-48\"/>\n     <use x=\"63.623047\" xlink:href=\"#DejaVuSans-46\"/>\n     <use x=\"95.410156\" xlink:href=\"#DejaVuSans-54\"/>\n     <use x=\"159.033203\" xlink:href=\"#DejaVuSans-51\"/>\n     <use x=\"222.65625\" xlink:href=\"#DejaVuSans-52\"/>\n     <use x=\"286.279297\" xlink:href=\"#DejaVuSans-50\"/>\n     <use x=\"349.902344\" xlink:href=\"#DejaVuSans-49\"/>\n     <use x=\"413.525391\" xlink:href=\"#DejaVuSans-37\"/>\n    </g>\n   </g>\n   <g id=\"text_7\">\n    <!-- Level4 -->\n    <g transform=\"translate(892.251342 357.863525)scale(0.1 -0.1)\">\n     <use xlink:href=\"#DejaVuSans-76\"/>\n     <use x=\"53.962891\" xlink:href=\"#DejaVuSans-101\"/>\n     <use x=\"115.486328\" xlink:href=\"#DejaVuSans-118\"/>\n     <use x=\"174.666016\" xlink:href=\"#DejaVuSans-101\"/>\n     <use x=\"236.189453\" xlink:href=\"#DejaVuSans-108\"/>\n     <use x=\"263.972656\" xlink:href=\"#DejaVuSans-52\"/>\n    </g>\n   </g>\n   <g id=\"text_8\">\n    <!-- 0.00000% -->\n    <g transform=\"translate(692.871998 357.863469)scale(0.1 -0.1)\">\n     <use xlink:href=\"#DejaVuSans-48\"/>\n     <use x=\"63.623047\" xlink:href=\"#DejaVuSans-46\"/>\n     <use x=\"95.410156\" xlink:href=\"#DejaVuSans-48\"/>\n     <use x=\"159.033203\" xlink:href=\"#DejaVuSans-48\"/>\n     <use x=\"222.65625\" xlink:href=\"#DejaVuSans-48\"/>\n     <use x=\"286.279297\" xlink:href=\"#DejaVuSans-48\"/>\n     <use x=\"349.902344\" xlink:href=\"#DejaVuSans-48\"/>\n     <use x=\"413.525391\" xlink:href=\"#DejaVuSans-37\"/>\n    </g>\n   </g>\n  </g>\n </g>\n</svg>\n",
      "image/png": "[encoded data removed]"
     },
     "metadata": {}
    }
   ],
   "source": [
    "x = model.predict_proba(X_test)\n",
    "level = []\n",
    "for i in x:\n",
    "    # print(max(i))\n",
    "    listi = i.tolist()\n",
    "    maxi = max(i).tolist()\n",
    "    maxindex = listi.index(maxi)\n",
    "    level.append(maxindex)\n",
    "\n",
    "result = []\n",
    "for i in range(4):\n",
    "    x = level.count(i)\n",
    "    percent = (x/len(level))*100\n",
    "    result.append(percent)\n",
    "label = [\"Level1\",\"Level2\",\"Level3\",\"Level4\"]\n",
    "plt.axis(\"equal\")\n",
    "plt.pie(result,labels=label,radius=4.0,autopct='%0.5f%%',explode=[0.0,1,1,1])\n",
    "plt.show()\n"
   ]
  },
  {
   "cell_type": "code",
   "execution_count": 40,
   "metadata": {},
   "outputs": [
    {
     "output_type": "execute_result",
     "data": {
      "text/plain": [
       "array([0.77422183, 0.77422183, 0.77027619, 0.77192982, 0.77412281])"
      ]
     },
     "metadata": {},
     "execution_count": 40
    }
   ],
   "source": [
    "from sklearn.model_selection import cross_val_score\n",
    "cross_val_score(GaussianNB(),X_train, y_train, cv=5)"
   ]
  }
 ],
 "metadata": {
  "kernelspec": {
   "display_name": "Python 3",
   "language": "python",
   "name": "python3"
  },
  "language_info": {
   "codemirror_mode": {
    "name": "ipython",
    "version": 3
   },
   "file_extension": ".py",
   "mimetype": "text/x-python",
   "name": "python",
   "nbconvert_exporter": "python",
   "pygments_lexer": "ipython3",
   "version": "3.8.5-final"
  }
 },
 "nbformat": 4,
 "nbformat_minor": 4
}